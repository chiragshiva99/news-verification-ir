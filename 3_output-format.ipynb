{
 "cells": [
  {
   "cell_type": "code",
   "execution_count": 19,
   "metadata": {},
   "outputs": [],
   "source": [
    "import pandas as pd\n",
    "import re"
   ]
  },
  {
   "cell_type": "code",
   "execution_count": 20,
   "metadata": {},
   "outputs": [],
   "source": [
    "df1 = pd.read_csv(\"data.csv\")\n",
    "df2 = pd.read_csv(\"ref_pred.csv\")"
   ]
  },
  {
   "cell_type": "code",
   "execution_count": 21,
   "metadata": {},
   "outputs": [],
   "source": [
    "# df1"
   ]
  },
  {
   "cell_type": "code",
   "execution_count": 22,
   "metadata": {},
   "outputs": [],
   "source": [
    "# df2"
   ]
  },
  {
   "cell_type": "code",
   "execution_count": 23,
   "metadata": {},
   "outputs": [],
   "source": [
    "# extract all document IDs\n",
    "def extract_all_doc_ids(prediction):\n",
    "    doc_ids = re.findall(r'Document\\[(\\d+)\\]', prediction) + re.findall(r'Docs\\[(\\d+)\\]', prediction)\n",
    "    additional_ids = re.findall(r'\\[\\d+\\]', prediction)\n",
    "    \n",
    "    for id_str in additional_ids:\n",
    "        cleaned_id = id_str.strip('[]')\n",
    "        if cleaned_id.isdigit():\n",
    "            doc_ids.append(cleaned_id)\n",
    "\n",
    "    return doc_ids"
   ]
  },
  {
   "cell_type": "code",
   "execution_count": 24,
   "metadata": {},
   "outputs": [],
   "source": [
    "# refine predictions and order document references\n",
    "def refined_predictions_ordered(df1, df2):\n",
    "    refined_predictions = []\n",
    "    for _, row in df2.iterrows():\n",
    "        doc_ids = extract_all_doc_ids(row['prediction'])\n",
    "        unique_doc_ids = sorted(set(doc_ids), key=int) # remove duplicates and sort\n",
    "\n",
    "        if unique_doc_ids:  # Check if there are any document IDs\n",
    "            references = \"\\n\\nReferences:\\n\\n\"\n",
    "            for doc_id in unique_doc_ids:\n",
    "                doc_row = df1[df1['id'] == int(doc_id)]\n",
    "                if not doc_row.empty:\n",
    "                    headline = doc_row.iloc[0]['headline']\n",
    "                    url = doc_row.iloc[0]['url']\n",
    "                    references += f\"- Document[{doc_id}] : [{headline}]({url})\\n\"\n",
    "            verification_statement = \"**News Verified!**\\n\\n\"\n",
    "        else:\n",
    "            references = \"\"\n",
    "            verification_statement = \"**News Unverified!**\\n\\n\"\n",
    "\n",
    "        prediction_with_references =  verification_statement + row['prediction'] + references \n",
    "        refined_predictions.append(prediction_with_references)\n",
    "    return refined_predictions\n"
   ]
  },
  {
   "cell_type": "code",
   "execution_count": 25,
   "metadata": {},
   "outputs": [],
   "source": [
    "refined_ordered_predictions_list = refined_predictions_ordered(df1, df2)"
   ]
  },
  {
   "cell_type": "code",
   "execution_count": 28,
   "metadata": {},
   "outputs": [
    {
     "data": {
      "text/plain": [
       "['**News Verified!**\\n\\nThe Prime Minister of Singapore is Lee Hsien Loong, as stated in Document[688], Document[1996], and Document[1774].</s>\\n\\nReferences:\\n\\n- Document[688] : [President Halimah to attend official mourning of UAE president in Abu Dhabi ](https://www.straitstimes.com/singapore/president-halimah-to-attend-official-mourning-of-uae-president-in-abu-dhabi)\\n- Document[1774] : [Brunei&#039;s Sultan Hassanal Bolkiah on two-day state visit to Singapore ](https://www.straitstimes.com/singapore/bruneis-sultan-hassanal-bolkiah-on-two-day-state-visit-singapore)\\n- Document[1996] : [PM Lee among top leaders to attend state funeral for ex-Japan PM Abe ](https://www.straitstimes.com/asia/east-asia/singapore-pm-lee-among-top-leaders-to-attend-state-funeral-for-ex-japan-pm-abe)\\n',\n",
       " '**News Verified!**\\n\\nThe National University of Singapore (NUS) is the top university in Singapore, as indicated by Docs[364], [337], and [832].</s>\\n\\nReferences:\\n\\n- Document[337] : [Shooting: Martina Veloso adds fifth gold for Singapore at ISSF Grand Prix in Jakarta ](https://www.straitstimes.com/sport/shooting-martina-veloso-adds-fifth-gold-for-singapore-at-issf-grand-prix-in-jakarta)\\n- Document[364] : [More fresh university grads found full-time jobs last year, salaries inching up ](https://www.straitstimes.com/singapore/parenting-education/more-fresh-university-graduates-found-full-time-jobs-last-year-with-salaries-inching-up)\\n- Document[832] : [SEA Games: Meet Siti Mastura Rahim, the Singapore doctor who&#039;s also a sharpshooter ](https://www.straitstimes.com/sport/sea-games-meet-siti-mastura-rahim-the-singapore-doctor-whos-also-a-sharpshooter)\\n',\n",
       " '**News Verified!**\\n\\nThe temperature in Singapore during the interview with Doc[58] was not mentioned. However, as stated in Document[58], \"I like tropical.\" This suggests that the climate in Singapore during the interview may have been suitable for the interviewee. Therefore, it can be assumed that the climate in Singapore during the time of the interview was likely pleasant.</s>\\n\\nReferences:\\n\\n- Document[58] : [Lunch With Sumiko: Fashion designer Michael Kors knows what women want ](https://www.straitstimes.com/singapore/lunch-with-sumiko-fashion-designer-michael-kors-knows-what-women-want)\\n',\n",
       " '**News Verified!**\\n\\nAccording to Document[397], victims of scams often feel ashamed, embarrassed, and violated. They may also experience symptoms of depression, anxiety, and stress. The mental toll of scams can be severe, with some victims taking a long time to recover. In addition, scams can cause victims to feel embarrassed and ashamed, leading to a reluctance to seek help or advice.\\n\\nAs stated in\\n\\nReferences:\\n\\n- Document[397] : [Stop Scams Podcast: Near impossible to recover money once scammers transfer it out of Singapore ](https://www.straitstimes.com/singapore/stop-scams-podcast-why-its-near-impossible-to-recover-your-money-once-scammers-transfer-it-out-of-singapore)\\n',\n",
       " \"**News Verified!**\\n\\nSingapore's men's team beat Japan 3-2 in their second Group B match on Thursday, February 17, as stated in Doc[459].</s>\\n\\nReferences:\\n\\n- Document[459] : [Badminton: Singapore beat Japan 3-2 to edge closer to Asia Team C&#039;ships medal ](https://www.straitstimes.com/sport/badminton-singapore-beat-japan-3-2-to-edge-closer-to-asia-team-cships-medal)\\n\",\n",
       " '**News Unverified!**\\n\\nThe new scheme for Covid-19 swabs in Singapore is not provided in the given documents.</s>',\n",
       " \"**News Verified!**\\n\\nThe focus of Singapore's Budget 2022 is on longer-term goals with less focus on immediate Covid-19 measures, as stated in Document[480] and Document[514]. However, the government will continue to manage these immediate measures as stated in Document[514]. Despite this, some experts feel that structural unemployment should be addressed more, as stated in Document[635] and Document[515\\n\\nReferences:\\n\\n- Document[480] : [Singapore Budget 2022: Watch Finance Minister Lawrence Wong’s speech live, get key announcements ](https://www.straitstimes.com/singapore/singapore-budget-2022-watch-finance-minister-lawrence-wongs-speech-live-get-key-announcements)\\n- Document[514] : [Budget 2022: $6b draw on past reserves to pay for Covid-19 public health expenditure ](https://www.straitstimes.com/singapore/politics/budget-2022-6b-draw-on-past-reserves-to-pay-for-covid-19-public-health-expenditure)\\n- Document[635] : [What would you have liked to see in Budget 2022? ST-UOB panellists share their wish lists ](https://www.straitstimes.com/singapore/what-would-you-have-liked-to-see-in-budget-2022-st-uob-panellists-share-their-wishlists)\\n\",\n",
       " '**News Verified!**\\n\\nAs stated in Document[1], President Halimah Yacob’s decision is to grant clemency to the two drug traffickers. The decision was made public on February 27th, 2023. Document[2] reports that the President’s decision was based on her assessment of the men’s rehabilitation progress.</s>\\n\\nReferences:\\n\\n- Document[1] : [China fillip put Singapore share investors in good cheer ](https://www.straitstimes.com/business/companies-markets/china-fillip-put-singapore-share-investors-in-good-cheer)\\n- Document[2] : [Red Lions controversy: 5 things to know about the two groups contesting the name ](https://www.straitstimes.com/singapore/red-lions-controversy-5-things-to-know-about-the-two-groups-contesting-the-name)\\n',\n",
       " '**News Verified!**\\n\\nPress freedom in Singapore is regulated by laws, as stated in Document[452].</s>\\n\\nReferences:\\n\\n- Document[452] : [Despite media laws, Singapore journalists can still do a professional job: News veteran Patrick Daniel ](https://www.straitstimes.com/singapore/despite-media-laws-singapore-journalists-can-still-do-a-professional-job-news-veteran-patrick-daniel)\\n',\n",
       " '**News Unverified!**\\n\\nA man was shot during a confrontation with police officers outside Clementi Neighbourhood Police Centre in Clementi Avenue 5 on Thursday. The man has been identified as 49-year-old and has been charged with assault on Friday, February 18.</s>',\n",
       " '**News Verified!**\\n\\nThe key takeaways from the recent Singapore Airshow include building new homes in Paya Lebar and attracting top talent, as stated in Document[1739] and [926]. Additionally, the new Airbus can be more fuel-efficient and easily deployed onto alternative routes, as stated in Document[376].</s>\\n\\nReferences:\\n\\n- Document[376] : [SIA confirms order of 7 freight planes, 22 passenger aircraft engines as industry recovers ](https://www.straitstimes.com/singapore/sia-confirms-order-of-7-freight-planes-22-passenger-aircraft-engines-as-industry-recovers)\\n- Document[926] : [Kranji Primary teachers go the extra mile to provide daily after-school programme ](https://www.straitstimes.com/singapore/parenting-education/kranji-primary-teachers-go-the-extra-mile-to-provide-daily-after-school-programme)\\n- Document[1739] : [Morning Briefing: Top stories from The Straits Times on Aug 22 ](https://www.straitstimes.com/singapore/morning-briefing-top-stories-from-the-straits-times-on-aug-22-2022)\\n',\n",
       " '**News Verified!**\\n\\nAs stated in Document[496], \"Singapore will introduce a goods and services tax (GST) hike, as well as higher income tax for top earners, and CDC vouchers for all in Budget 2022\" (as also seen in Document[515] and Document[522]).</s>\\n\\nReferences:\\n\\n- Document[496] : [Budget 2022: Singapore&#039;s carbon tax could increase to $80 per tonne of emissions by 2030 ](https://www.straitstimes.com/singapore/budget-2022-singapores-carbon-tax-could-increase-to-80-per-tonne-of-emissions-by-2030-in-accelerated-net-zero-emissions-bid)\\n- Document[515] : [Budget 2022: $3b deficit expected in FY2022 as Budget remains expansionary ](https://www.straitstimes.com/singapore/budget-2022-3b-deficit-expected-in-fy2022-as-budget-remains-expansionary)\\n- Document[522] : [Budget 2022: Buyers of luxury cars to pay even higher taxes ](https://www.straitstimes.com/singapore/transport/budget-2022-buyers-of-luxury-cars-to-pay-even-higher-taxes)\\n',\n",
       " '**News Unverified!**\\n\\n\\nAs of March 8, 2023, no updates have been provided in the articles available.</s>',\n",
       " '**News Unverified!**\\n\\nSingapore has announced a range of measures to tackle the climate crisis as part of its Budget 2022. These include increasing the use of renewable energy sources, enhancing energy efficiency, and adopting sustainable practices in various sectors, such as transport and waste management. The government aims to achieve net-zero emissions by 2050 and has set up the Carbon Trust to support businesses in their transition to low-carbon',\n",
       " \"**News Verified!**\\n\\nThe goal of the Citizen Archivist initiative in Singapore is to make the country's history accessible to all. (as stated in Document[0])</s>\\n\\nReferences:\\n\\n- Document[0] : [Citizen archivist: Making historical records more accessible to the public ](https://www.straitstimes.com/singapore/citizen-archivist-making-historical-records-more-accessible-to-the-public)\\n\",\n",
       " \"**News Verified!**\\n\\nAs stated in Document[941], China's development is positive for the region, and Singapore's stock market has been impacted positively by China's economic growth.</s>\\n\\nReferences:\\n\\n- Document[941] : [China&#039;s development is good for Asia, but countries want to maintain ties with Japan, US, Europe too: PM Lee ](https://www.straitstimes.com/singapore/chinas-development-is-good-for-asia-but-countries-want-to-maintain-ties-with-japan-us-europe-too-pm-lee)\\n\",\n",
       " '**News Verified!**\\n\\nThe controversy surrounding the Red Lions name in Singapore centers on its association with the British colonial era, as well as its perceived association with violence and aggression. As stated in Document[2], the team was originally named the \"Singapore Red Lions\" in 2019, but the name was changed to \"Lion City S.C.\" after objections were raised by some, including a former military officer who had served in the British army. The controvers\\n\\nReferences:\\n\\n- Document[2] : [Red Lions controversy: 5 things to know about the two groups contesting the name ](https://www.straitstimes.com/singapore/red-lions-controversy-5-things-to-know-about-the-two-groups-contesting-the-name)\\n',\n",
       " \"**News Verified!**\\n\\nLee Kuan Yew is remembered in Singapore as a national hero and a visionary leader who played a pivotal role in the country's independence and development. He is credited with transforming Singapore from a British colony to a thriving cosmopolitan city-state, and establishing it as a global financial hub. As stated in Document[1964], Lee Kuan Yew was the co-founder of the law firm that would later become the\\n\\nReferences:\\n\\n- Document[1964] : [S&#039;pore&#039;s Whampoa Group to invest $140.5m via fund for digital assets ](https://www.straitstimes.com/business/companies-markets/singapores-whampoa-group-to-invest-1405m-via-fund-for-digital-assets)\\n\",\n",
       " \"**News Verified!**\\n\\nSingapore's stock market has been affected by global economic trends in recent times. As stated in Document [1939], rising inflation and the global sell-off in technology stocks took a toll on the top 50. The same document also notes that the stock price of a ride-hailing and e-commerce company nearly halved its value since its debut on the Nasdaq exchange in December 2021.</s>\\n\\nReferences:\\n\\n- Document[1939] : [Forbes&#039; 50 richest in S&#039;pore: Inflation, tech stock sell-off hit tycoons&#039; wealth ](https://www.straitstimes.com/business/companies-markets/inflation-technology-stock-sell-off-bite-off-a-chunk-of-singapore-tycoons-wealth)\\n\",\n",
       " '**News Verified!**\\n\\nCiting Document[120], as of last Friday, there were 254 active dengue clusters island-wide and heavier penalties were needed as a deterrent. Document[989] states that there were 196 clusters at the end of April. It is unclear what measures are being taken as the peak season approaches, but the National Environment Agency (NEA) will not hesitate to issue SwOs to ensure that construction firms take the\\n\\nReferences:\\n\\n- Document[120] : [Heavier penalties and higher fines for those breeding mosquitoes as dengue cases rise ](https://www.straitstimes.com/singapore/environment/heavier-penalties-and-higher-fines-for-those-breeding-mosquitoes-as-dengue)\\n- Document[989] : [Singapore&#039;s weekly dengue cases expected to hit new peak, may surpass 2,000 cases ](https://www.straitstimes.com/singapore/health/59-stop-work-orders-issued-to-construction-sites-for-mosquito-breeding-this-year-9-firms-to-be-charged-nea)\\n',\n",
       " '**News Verified!**\\n\\nUniversal Studios Singapore is planning to add a new themed zone called Minion Land, inspired by the Despicable Me film franchise. It will replace the existing S-Zone, as stated in Document[464] and Document[570].</s>\\n\\nReferences:\\n\\n- Document[464] : [Genting Singapore&#039;s RWS to embark on $400m expansion in second quarter ](https://www.straitstimes.com/business/companies-markets/genting-singapores-rws-will-launch-400m-expansion-in-second-quarter)\\n- Document[570] : [Fun With Kids: Farewell to the Madagascar gang, feed a rhino at Night Safari, animated pre-school series ](https://www.straitstimes.com/singapore/parenting-education/fun-with-kids-farewell-to-the-madagascar-gang-feed-a-rhino-at-night-safari-animated-pre-school-series)\\n',\n",
       " \"**News Verified!**\\n\\n\\nThe recent property tax increase in Singapore is intended to adjust the current property tax, which is currently Singapore's principal means of taxing wealth, as stated in Document[519]. The marginal property tax rates will be adjusted, as stated in Document[519]. The increase in property tax will affect the top 7% of owner-occupied residential properties, as stated in Document[562].</s>\\n\\nReferences:\\n\\n- Document[519] : [Tax changes unveiled at Budget 2022: 6 things to know ](https://www.straitstimes.com/singapore/tax-changes-unveiled-at-budget-2022-6-things-to-know)\\n- Document[562] : [Budget 2022 makes taxes more progressive, shows Govt&#039;s intentions to address inequality: Panel ](https://www.straitstimes.com/singapore/budget-2022-makes-taxes-more-progressive-shows-govts-intentions-to-address-inequality-panel)\\n\",\n",
       " '**News Unverified!**\\n\\n\"Thirteen people aged between 19 and 22 have been arrested for their suspected involvement in the recent spate of scams targeting OCBC Ban.\"</s>',\n",
       " '**News Unverified!**\\n\\nThe carbon tax hike may have a partial impact on the cost of living for some Singaporean households, as the utilities rebate may not fully offset the increase in utility costs. The impact of the GST increase on these households may be neutralized under the Assurance Package and the Enterprise Financing Scheme. However, households concerned about the progressive wage model (PWM) and higher costs may still experience increased expenses.</s>',\n",
       " \"**News Unverified!**\\n\\nAccording to the World Health Organization (WHO), Singapore's border measures for fully vaccinated travelers include a pre-departure test within 48 hours of departure, followed by a PCR test upon arrival, and then a further test on day 7, after which they are required to quarantine for 7 days. These measures are subject to change, so it is advisable to check the official website of the Singaporean government for the most up-\",\n",
       " '**News Verified!**\\n\\nSectors that could see potential gains:\\n\\n* Aviation and tourism, as stated in Doc[461].\\n* Grocers, such as Sheng Siong and Dairy Farm, as stated in Doc[586].\\nSectors that could see potential losses:\\n\\n* Restaurants and food caterers, such as Jumbo Group and Kimly, as stated in Doc[586].\\n* Property developers, and\\n\\nReferences:\\n\\n- Document[461] : [Budget 2022 to chart Singapore’s ‘new way forward together’: Lawrence Wong ](https://www.straitstimes.com/singapore/politics/lawrence-wong-to-deliver-his-first-budget-speech-on-friday)\\n- Document[586] : [Potential winning and losing stocks from Singapore&#039;s 2022 Budget ](https://www.straitstimes.com/business/companies-markets/winning-and-losing-stocks-from-singapores-budget)\\n',\n",
       " '**News Verified!**\\n\\nAs stated in Document[672], the document reports that \"Terminal 2, which has been closed since May 2020, will reopen on Wednesday.\" However, it is not possible to determine if public transport ridership has returned to pre-pandemic levels based on the given information.</s>\\n\\nReferences:\\n\\n- Document[672] : [Passenger volume at Changi Airport doubled in April to reach 40% of pre-Covid-19 levels ](https://www.straitstimes.com/singapore/passenger-volume-at-changi-airport-doubled-in-april-to-reach-40-of-pre-covid-19-levels)\\n',\n",
       " '**News Verified!**\\n\\nAs stated in Document[593], the new service called GovCash is an ATM-based service that allows Singaporeans to receive government payouts quickly and conveniently in a secure manner. This service is launched by the Central Provident Fund (CPF) Board in collaboration with OCBC. According to Document[501], the CPF Board is set to invest over $9 billion over the next five years on the Progressive Wage Credit Scheme\\n\\nReferences:\\n\\n- Document[501] : [Budget 2022: Govt to co-fund pay increases of local lower-wage workers between 2022 and 2026 ](https://www.straitstimes.com/singapore/budget-2022-govt-to-co-fund-wage-increases-of-local-lower-wage-workers-between-2022-and-2026)\\n- Document[593] : [S&#039;poreans receiving govt payouts via cheques can now get payment from ATMs with new GovCash service ](https://www.straitstimes.com/singapore/sporeans-receiving-govt-payouts-via-cheques-can-now-get-payment-from-atms-with-new-govcash-service)\\n',\n",
       " '**News Verified!**\\n\\nAccording to the information provided in Document[25] and Document[26], the attendance at the Pink Dot event has increased significantly since it first started. In 2009, the event had a turnout of 2,500 people, and this year, the number set a new record for the annual lesbian, gay, bisexual and transgender (LGBT) society with a turnout of 0.58. The\\n\\nReferences:\\n\\n- Document[25] : [Christians to don white for services as Hong Lim Park hosts Pink Dot ](https://www.straitstimes.com/singapore/christians-to-don-white-for-services-as-hong-lim-park-hosts-pink-dot)\\n- Document[26] : [Record 28,000 gather at Hong Lim Park for annual Pink Dot rally ](https://www.straitstimes.com/singapore/record-28000-gather-at-hong-lim-park-for-annual-pink-dot-rally)\\n']"
      ]
     },
     "execution_count": 28,
     "metadata": {},
     "output_type": "execute_result"
    }
   ],
   "source": [
    "refined_ordered_predictions_list"
   ]
  },
  {
   "cell_type": "code",
   "execution_count": 26,
   "metadata": {},
   "outputs": [
    {
     "data": {
      "text/html": [
       "<div>\n",
       "<style scoped>\n",
       "    .dataframe tbody tr th:only-of-type {\n",
       "        vertical-align: middle;\n",
       "    }\n",
       "\n",
       "    .dataframe tbody tr th {\n",
       "        vertical-align: top;\n",
       "    }\n",
       "\n",
       "    .dataframe thead th {\n",
       "        text-align: right;\n",
       "    }\n",
       "</style>\n",
       "<table border=\"1\" class=\"dataframe\">\n",
       "  <thead>\n",
       "    <tr style=\"text-align: right;\">\n",
       "      <th></th>\n",
       "      <th>prediction</th>\n",
       "    </tr>\n",
       "  </thead>\n",
       "  <tbody>\n",
       "    <tr>\n",
       "      <th>0</th>\n",
       "      <td>**News Verified!**\\n\\nThe Prime Minister of Si...</td>\n",
       "    </tr>\n",
       "    <tr>\n",
       "      <th>1</th>\n",
       "      <td>**News Verified!**\\n\\nThe National University ...</td>\n",
       "    </tr>\n",
       "    <tr>\n",
       "      <th>2</th>\n",
       "      <td>**News Verified!**\\n\\nThe temperature in Singa...</td>\n",
       "    </tr>\n",
       "    <tr>\n",
       "      <th>3</th>\n",
       "      <td>**News Verified!**\\n\\nAccording to Document[39...</td>\n",
       "    </tr>\n",
       "    <tr>\n",
       "      <th>4</th>\n",
       "      <td>**News Verified!**\\n\\nSingapore's men's team b...</td>\n",
       "    </tr>\n",
       "  </tbody>\n",
       "</table>\n",
       "</div>"
      ],
      "text/plain": [
       "                                          prediction\n",
       "0  **News Verified!**\\n\\nThe Prime Minister of Si...\n",
       "1  **News Verified!**\\n\\nThe National University ...\n",
       "2  **News Verified!**\\n\\nThe temperature in Singa...\n",
       "3  **News Verified!**\\n\\nAccording to Document[39...\n",
       "4  **News Verified!**\\n\\nSingapore's men's team b..."
      ]
     },
     "execution_count": 26,
     "metadata": {},
     "output_type": "execute_result"
    }
   ],
   "source": [
    "df3_refined_ordered = pd.DataFrame(refined_ordered_predictions_list, columns=['prediction'])\n",
    "df3_refined_ordered.head()"
   ]
  },
  {
   "cell_type": "code",
   "execution_count": 27,
   "metadata": {},
   "outputs": [],
   "source": [
    "df3_refined_ordered.to_csv('ref_pred_new.csv')"
   ]
  },
  {
   "cell_type": "markdown",
   "metadata": {},
   "source": [
    "## Question: Who is the Prime Minister of Singapore?\n",
    "\n",
    "### Answer: \n",
    "\n",
    "**News Verified!**\n",
    "\n",
    "The Prime Minister of Singapore is Lee Hsien Loong, as stated in Document[688], Document[1996], and Document[1774].</s>\n",
    "\n",
    "References:\n",
    "\n",
    "- Document[688] : [President Halimah to attend official mourning of UAE president in Abu Dhabi ](https://www.straitstimes.com/singapore/president-halimah-to-attend-official-mourning-of-uae-president-in-abu-dhabi)\n",
    "- Document[1774] : [Brunei&#039;s Sultan Hassanal Bolkiah on two-day state visit to Singapore ](https://www.straitstimes.com/singapore/bruneis-sultan-hassanal-bolkiah-on-two-day-state-visit-singapore)\n",
    "- Document[1996] : [PM Lee among top leaders to attend state funeral for ex-Japan PM Abe ](https://www.straitstimes.com/asia/east-asia/singapore-pm-lee-among-top-leaders-to-attend-state-funeral-for-ex-japan-pm-abe)\n"
   ]
  },
  {
   "cell_type": "code",
   "execution_count": null,
   "metadata": {},
   "outputs": [],
   "source": []
  },
  {
   "cell_type": "markdown",
   "metadata": {},
   "source": [
    "## Question: What's the new scheme for Covid-19 swabs in Singapore?\n",
    "\n",
    "### Answer: \n",
    "\n",
    "**News Unverified!**\n",
    "\n",
    "The new scheme for Covid-19 swabs in Singapore is not provided in the given documents.</s>"
   ]
  },
  {
   "cell_type": "code",
   "execution_count": null,
   "metadata": {},
   "outputs": [],
   "source": []
  },
  {
   "cell_type": "markdown",
   "metadata": {},
   "source": [
    "## Question: What are the key takeaways from the recent Singapore Airshow?\n",
    "\n",
    "### Answer: \n",
    "\n",
    "**News Verified!**\n",
    "\n",
    "The key takeaways from the recent Singapore Airshow include building new homes in Paya Lebar and attracting top talent, as stated in Document[1739] and [926]. Additionally, the new Airbus can be more fuel-efficient and easily deployed onto alternative routes, as stated in Document[376].</s>\n",
    "\n",
    "References:\n",
    "\n",
    "- Document[376] : [SIA confirms order of 7 freight planes, 22 passenger aircraft engines as industry recovers ](https://www.straitstimes.com/singapore/sia-confirms-order-of-7-freight-planes-22-passenger-aircraft-engines-as-industry-recovers)\n",
    "- Document[926] : [Kranji Primary teachers go the extra mile to provide daily after-school programme ](https://www.straitstimes.com/singapore/parenting-education/kranji-primary-teachers-go-the-extra-mile-to-provide-daily-after-school-programme)\n",
    "- Document[1739] : [Morning Briefing: Top stories from The Straits Times on Aug 22 ](https://www.straitstimes.com/singapore/morning-briefing-top-stories-from-the-straits-times-on-aug-22-2022)\n"
   ]
  },
  {
   "cell_type": "code",
   "execution_count": null,
   "metadata": {},
   "outputs": [],
   "source": [
    "\"Imsys/vicuna-7b-v1.5\""
   ]
  }
 ],
 "metadata": {
  "kernelspec": {
   "display_name": "base",
   "language": "python",
   "name": "python3"
  },
  "language_info": {
   "codemirror_mode": {
    "name": "ipython",
    "version": 3
   },
   "file_extension": ".py",
   "mimetype": "text/x-python",
   "name": "python",
   "nbconvert_exporter": "python",
   "pygments_lexer": "ipython3",
   "version": "3.9.13"
  }
 },
 "nbformat": 4,
 "nbformat_minor": 2
}
