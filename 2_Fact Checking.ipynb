{
  "cells": [
    {
      "cell_type": "markdown",
      "metadata": {
        "id": "Ps-YVtPNaO6q"
      },
      "source": [
        "# A Straits Times Fact Uncapper"
      ]
    },
    {
      "cell_type": "code",
      "execution_count": null,
      "metadata": {
        "colab": {
          "base_uri": "https://localhost:8080/"
        },
        "id": "KmzvTyQzZkq7",
        "outputId": "c372653c-26f2-42e2-85d3-ada85a0fd496"
      },
      "outputs": [
        {
          "name": "stdout",
          "output_type": "stream",
          "text": [
            "   ━━━━━━━━━━━━━━━━━━━━━━━━━━━━━━━━━━━━━━━━ 520.4/520.4 kB 5.8 MB/s eta 0:00:00\n"
          ]
        },
        {
          "name": "stderr",
          "output_type": "stream",
          "text": [
            "WARNING: Running pip as the 'root' user can result in broken permissions and conflicting behaviour with the system package manager. It is recommended to use a virtual environment instead: https://pip.pypa.io/warnings/venv\n",
            "WARNING: Running pip as the 'root' user can result in broken permissions and conflicting behaviour with the system package manager. It is recommended to use a virtual environment instead: https://pip.pypa.io/warnings/venv\n",
            "WARNING: Running pip as the 'root' user can result in broken permissions and conflicting behaviour with the system package manager. It is recommended to use a virtual environment instead: https://pip.pypa.io/warnings/venv\n"
          ]
        }
      ],
      "source": [
        "%%bash\n",
        "pip install -q --upgrade pip\n",
        "pip install -q accelerate bitsandbytes transformers SentencePiece evaluate bert_score\n",
        "pip install -q farm-haystack[colab,preprocessing,elasticsearch,inference]"
      ]
    },
    {
      "cell_type": "code",
      "execution_count": null,
      "metadata": {
        "id": "3kZQabc3cpgR"
      },
      "outputs": [],
      "source": [
        "\n",
        "import os\n",
        "import torch\n",
        "import torch.nn as nn\n",
        "from transformers import AutoTokenizer, AutoConfig, AutoModelForCausalLM\n",
        "from transformers import LlamaTokenizer\n",
        "\n",
        "import pandas as pd\n",
        "import re"
      ]
    },
    {
      "cell_type": "code",
      "execution_count": null,
      "metadata": {
        "id": "sQuTRj7g3qqk"
      },
      "outputs": [],
      "source": [
        "RUN_RAW_PREDICT =  False # Rerun raw LLM predictions\n",
        "RUN_RAW_PREDICT_2 = False # Structured CoT"
      ]
    },
    {
      "cell_type": "markdown",
      "metadata": {
        "id": "64rjJOFg4Y4d"
      },
      "source": [
        "# Part 0: Load LLM and Prepare Documents"
      ]
    },
    {
      "cell_type": "markdown",
      "metadata": {
        "id": "oDMOVnbWlIzN"
      },
      "source": [
        "## Loading the Model\n",
        "For this project, we use Vicuna-7B, loaded in 8bit using `bitsandbytes`."
      ]
    },
    {
      "cell_type": "code",
      "execution_count": null,
      "metadata": {
        "colab": {
          "base_uri": "https://localhost:8080/",
          "height": 565
        },
        "id": "o_ohsJ1lUbdN",
        "outputId": "42dd333e-2494-4ec6-fa51-3e58ab8f6ec3"
      },
      "outputs": [
        {
          "ename": "ValueError",
          "evalue": "ignored",
          "output_type": "error",
          "traceback": [
            "\u001b[0;31m---------------------------------------------------------------------------\u001b[0m",
            "\u001b[0;31mValueError\u001b[0m                                Traceback (most recent call last)",
            "\u001b[0;32m<ipython-input-47-f890db7a2f60>\u001b[0m in \u001b[0;36m<cell line: 4>\u001b[0;34m()\u001b[0m\n\u001b[1;32m      2\u001b[0m \u001b[0;31m# model_name = \"mistralai/Mistral-7B-v0.1\"\u001b[0m\u001b[0;34m\u001b[0m\u001b[0;34m\u001b[0m\u001b[0m\n\u001b[1;32m      3\u001b[0m \u001b[0;34m\u001b[0m\u001b[0m\n\u001b[0;32m----> 4\u001b[0;31m model = AutoModelForCausalLM.from_pretrained(\n\u001b[0m\u001b[1;32m      5\u001b[0m           \u001b[0mmodel_name\u001b[0m\u001b[0;34m,\u001b[0m\u001b[0;34m\u001b[0m\u001b[0;34m\u001b[0m\u001b[0m\n\u001b[1;32m      6\u001b[0m           \u001b[0mtorch_dtype\u001b[0m\u001b[0;34m=\u001b[0m\u001b[0mtorch\u001b[0m\u001b[0;34m.\u001b[0m\u001b[0mfloat16\u001b[0m\u001b[0;34m,\u001b[0m\u001b[0;34m\u001b[0m\u001b[0;34m\u001b[0m\u001b[0m\n",
            "\u001b[0;32m/usr/local/lib/python3.10/dist-packages/transformers/models/auto/auto_factory.py\u001b[0m in \u001b[0;36mfrom_pretrained\u001b[0;34m(cls, pretrained_model_name_or_path, *model_args, **kwargs)\u001b[0m\n\u001b[1;32m    563\u001b[0m         \u001b[0;32melif\u001b[0m \u001b[0mtype\u001b[0m\u001b[0;34m(\u001b[0m\u001b[0mconfig\u001b[0m\u001b[0;34m)\u001b[0m \u001b[0;32min\u001b[0m \u001b[0mcls\u001b[0m\u001b[0;34m.\u001b[0m\u001b[0m_model_mapping\u001b[0m\u001b[0;34m.\u001b[0m\u001b[0mkeys\u001b[0m\u001b[0;34m(\u001b[0m\u001b[0;34m)\u001b[0m\u001b[0;34m:\u001b[0m\u001b[0;34m\u001b[0m\u001b[0;34m\u001b[0m\u001b[0m\n\u001b[1;32m    564\u001b[0m             \u001b[0mmodel_class\u001b[0m \u001b[0;34m=\u001b[0m \u001b[0m_get_model_class\u001b[0m\u001b[0;34m(\u001b[0m\u001b[0mconfig\u001b[0m\u001b[0;34m,\u001b[0m \u001b[0mcls\u001b[0m\u001b[0;34m.\u001b[0m\u001b[0m_model_mapping\u001b[0m\u001b[0;34m)\u001b[0m\u001b[0;34m\u001b[0m\u001b[0;34m\u001b[0m\u001b[0m\n\u001b[0;32m--> 565\u001b[0;31m             return model_class.from_pretrained(\n\u001b[0m\u001b[1;32m    566\u001b[0m                 \u001b[0mpretrained_model_name_or_path\u001b[0m\u001b[0;34m,\u001b[0m \u001b[0;34m*\u001b[0m\u001b[0mmodel_args\u001b[0m\u001b[0;34m,\u001b[0m \u001b[0mconfig\u001b[0m\u001b[0;34m=\u001b[0m\u001b[0mconfig\u001b[0m\u001b[0;34m,\u001b[0m \u001b[0;34m**\u001b[0m\u001b[0mhub_kwargs\u001b[0m\u001b[0;34m,\u001b[0m \u001b[0;34m**\u001b[0m\u001b[0mkwargs\u001b[0m\u001b[0;34m\u001b[0m\u001b[0;34m\u001b[0m\u001b[0m\n\u001b[1;32m    567\u001b[0m             )\n",
            "\u001b[0;32m/usr/local/lib/python3.10/dist-packages/transformers/modeling_utils.py\u001b[0m in \u001b[0;36mfrom_pretrained\u001b[0;34m(cls, pretrained_model_name_or_path, config, cache_dir, ignore_mismatched_sizes, force_download, local_files_only, token, revision, use_safetensors, *model_args, **kwargs)\u001b[0m\n\u001b[1;32m   3244\u001b[0m                 }\n\u001b[1;32m   3245\u001b[0m                 \u001b[0;32mif\u001b[0m \u001b[0;34m\"cpu\"\u001b[0m \u001b[0;32min\u001b[0m \u001b[0mdevice_map_without_lm_head\u001b[0m\u001b[0;34m.\u001b[0m\u001b[0mvalues\u001b[0m\u001b[0;34m(\u001b[0m\u001b[0;34m)\u001b[0m \u001b[0;32mor\u001b[0m \u001b[0;34m\"disk\"\u001b[0m \u001b[0;32min\u001b[0m \u001b[0mdevice_map_without_lm_head\u001b[0m\u001b[0;34m.\u001b[0m\u001b[0mvalues\u001b[0m\u001b[0;34m(\u001b[0m\u001b[0;34m)\u001b[0m\u001b[0;34m:\u001b[0m\u001b[0;34m\u001b[0m\u001b[0;34m\u001b[0m\u001b[0m\n\u001b[0;32m-> 3246\u001b[0;31m                     raise ValueError(\n\u001b[0m\u001b[1;32m   3247\u001b[0m                         \"\"\"\n\u001b[1;32m   3248\u001b[0m                         \u001b[0mSome\u001b[0m \u001b[0mmodules\u001b[0m \u001b[0mare\u001b[0m \u001b[0mdispatched\u001b[0m \u001b[0mon\u001b[0m \u001b[0mthe\u001b[0m \u001b[0mCPU\u001b[0m \u001b[0;32mor\u001b[0m \u001b[0mthe\u001b[0m \u001b[0mdisk\u001b[0m\u001b[0;34m.\u001b[0m \u001b[0mMake\u001b[0m \u001b[0msure\u001b[0m \u001b[0myou\u001b[0m \u001b[0mhave\u001b[0m \u001b[0menough\u001b[0m \u001b[0mGPU\u001b[0m \u001b[0mRAM\u001b[0m \u001b[0mto\u001b[0m \u001b[0mfit\u001b[0m\u001b[0;34m\u001b[0m\u001b[0;34m\u001b[0m\u001b[0m\n",
            "\u001b[0;31mValueError\u001b[0m: \n                        Some modules are dispatched on the CPU or the disk. Make sure you have enough GPU RAM to fit\n                        the quantized model. If you want to dispatch the model on the CPU or the disk while keeping\n                        these modules in 32-bit, you need to set `load_in_8bit_fp32_cpu_offload=True` and pass a custom\n                        `device_map` to `from_pretrained`. Check\n                        https://huggingface.co/docs/transformers/main/en/main_classes/quantization#offload-between-cpu-and-gpu\n                        for more details.\n                        "
          ]
        }
      ],
      "source": [
        "model_name = \"lmsys/vicuna-7b-v1.5\"\n",
        "# model_name = \"mistralai/Mistral-7B-v0.1\"\n",
        "\n",
        "model = AutoModelForCausalLM.from_pretrained(\n",
        "          model_name,\n",
        "          torch_dtype=torch.float16,\n",
        "          load_in_8bit=True,\n",
        "          device_map=\"auto\"\n",
        "        )\n",
        "tokenizer = LlamaTokenizer.from_pretrained(model_name)"
      ]
    },
    {
      "cell_type": "code",
      "execution_count": null,
      "metadata": {
        "id": "3CIO0s2OfKpi"
      },
      "outputs": [],
      "source": [
        "def response_gen(input_ids, *, tokens=100, temperature=0.7):\n",
        "    with torch.no_grad():\n",
        "        generation_output = model.generate(\n",
        "            input_ids=input_ids,\n",
        "            temperature=temperature,\n",
        "            top_p = 1.0,\n",
        "            do_sample=True,\n",
        "            return_dict_in_generate=True,\n",
        "            max_new_tokens=tokens,\n",
        "        )\n",
        "    s = generation_output.sequences[0][len(input_ids[0]):]\n",
        "    output = tokenizer.decode(s)\n",
        "    return output\n",
        "\n",
        "def get_prompt(query):\n",
        "  return f\"The assistant provides useful, accurate, concise answers. USER: {query} ASSISTANT:\"\n",
        "\n",
        "def run(prompt, *, tokens=100, temperature=0.7):\n",
        "  encoded_input = tokenizer(prompt, return_tensors=\"pt\")\n",
        "  return response_gen(encoded_input.input_ids.to(\"cuda\"), tokens=tokens, temperature=temperature)\n",
        "\n",
        "def run_many(get_prompt, queries, **kwargs):\n",
        "  return [run(get_prompt(q), **kwargs) for q in queries]"
      ]
    },
    {
      "cell_type": "markdown",
      "metadata": {
        "id": "_xSaWo2Spe1a"
      },
      "source": [
        "## Download Dataset and Define Utils"
      ]
    },
    {
      "cell_type": "code",
      "execution_count": null,
      "metadata": {
        "id": "XQ9otAi4pMCu"
      },
      "outputs": [],
      "source": [
        "from haystack import Pipeline\n",
        "from haystack.nodes import AnswerParser, PromptNode, PromptTemplate"
      ]
    },
    {
      "cell_type": "code",
      "execution_count": null,
      "metadata": {
        "id": "WyB8AdSF95wP"
      },
      "outputs": [],
      "source": [
        "%%bash\n",
        "wget https://raw.githubusercontent.com/shaunnope/paperview/master/pred.csv -q\n",
        "wget -O data.csv https://raw.githubusercontent.com/shaunnope/paperview/master/straitstimes_20220104_20231107.csv -q\n",
        "wget https://raw.githubusercontent.com/shaunnope/paperview/master/relevance.csv -q\n",
        "wget https://raw.githubusercontent.com/shaunnope/paperview/master/statements.csv -q\n",
        "wget https://raw.githubusercontent.com/shaunnope/paperview/master/relevance_binary.csv -q\n"
      ]
    },
    {
      "cell_type": "code",
      "execution_count": null,
      "metadata": {
        "id": "_8uqdxEQRscW"
      },
      "outputs": [],
      "source": [
        "query_df = pd.read_csv(\"pred.csv\")\n",
        "statements = pd.read_csv(\"statements.csv\")\n",
        "\n",
        "display(query_df.head())\n",
        "display(statements.head())"
      ]
    },
    {
      "cell_type": "code",
      "execution_count": null,
      "metadata": {
        "id": "hPzNDOO633n3"
      },
      "outputs": [],
      "source": [
        "questions = query_df['question'].tolist()\n",
        "ground_truth = query_df['answer'].tolist()\n",
        "predictions = query_df['prediction'].tolist()\n",
        "\n",
        "verified = statements['verified'].tolist()\n",
        "refuted = statements['refuted']"
      ]
    },
    {
      "cell_type": "markdown",
      "metadata": {
        "id": "aJY_tPqCAQy5"
      },
      "source": [
        "# Part 1: Raw LLM Prompting"
      ]
    },
    {
      "cell_type": "code",
      "execution_count": null,
      "metadata": {
        "id": "AzeVxJO-5PgP"
      },
      "outputs": [],
      "source": [
        "if RUN_RAW_PREDICT:\n",
        "  predictions = []\n",
        "  for i, question in enumerate(questions):\n",
        "    print(\"Q:\", question)\n",
        "    prompt = get_prompt(question)\n",
        "    encoded_input = tokenizer(prompt, return_tensors=\"pt\")\n",
        "    prediction = response_gen(encoded_input.input_ids.to(\"cuda\"))\n",
        "    print(f\"P{i}:\", prediction)\n",
        "    predictions.append(prediction)\n",
        "\n",
        "  query_df['prediction'] = predictions\n",
        "  query_df.to_csv('pred.csv')"
      ]
    },
    {
      "cell_type": "code",
      "execution_count": null,
      "metadata": {
        "id": "2E4W1Y85NBc3"
      },
      "outputs": [],
      "source": [
        "RUN_RAW_PREDICT_2 = False\n",
        "if RUN_RAW_PREDICT_2:\n",
        "  N = 4\n",
        "  v = verified[N]\n",
        "  r = refuted[N]\n",
        "\n",
        "  print(\"Qv:\", v)\n",
        "  prompt = get_prompt(v)\n",
        "  encoded_input = tokenizer(prompt, return_tensors=\"pt\")\n",
        "  prediction = response_gen(encoded_input.input_ids.to(\"cuda\"), tokens=200)\n",
        "  print(f\"Pv:\", prediction)\n",
        "  print(\"Qr:\", r)\n",
        "  prompt = get_prompt(r)\n",
        "  encoded_input = tokenizer(prompt, return_tensors=\"pt\")\n",
        "  prediction = response_gen(encoded_input.input_ids.to(\"cuda\"), tokens=200)\n",
        "  print(f\"Pr:\", prediction)\n",
        "\n",
        "  i = N\n",
        "  question = questions[i]\n",
        "  # predictions = []\n",
        "  # for i, question in enumerate(questions):\n",
        "  print(\"Q:\", question)\n",
        "  prompt = get_prompt(question)\n",
        "  encoded_input = tokenizer(prompt, return_tensors=\"pt\")\n",
        "  prediction = response_gen(encoded_input.input_ids.to(\"cuda\"))\n",
        "  print(f\"P{i}:\", prediction)\n",
        "  #   predictions.append(prediction)\n"
      ]
    },
    {
      "cell_type": "code",
      "execution_count": null,
      "metadata": {
        "id": "zzLsXYD7K5BL"
      },
      "outputs": [],
      "source": [
        "RUN_RAW_PREDICT_2 = False\n",
        "if RUN_RAW_PREDICT_2:\n",
        "  def get_prompt_2(query):\n",
        "    return f\"If the input is a question, directly provide a concise and informative answer.\\n\\nOtherwise, explain whether the statement is true or false, reasoning step-by-step. INPUT:{query}\\nANSWER: \"\n",
        "  N = 4\n",
        "  for N in range(len(questions)):\n",
        "    v = verified[N]\n",
        "    r = refuted[N]\n",
        "\n",
        "    print(\"Qv:\", v)\n",
        "    prompt = get_prompt_2(v)\n",
        "    encoded_input = tokenizer(prompt, return_tensors=\"pt\")\n",
        "    prediction = response_gen(encoded_input.input_ids.to(\"cuda\"), tokens=200)\n",
        "    print(f\"Pv:\", prediction)\n",
        "    print(\"Qr:\", r)\n",
        "    prompt = get_prompt_2(r)\n",
        "    encoded_input = tokenizer(prompt, return_tensors=\"pt\")\n",
        "    prediction = response_gen(encoded_input.input_ids.to(\"cuda\"), tokens=200)\n",
        "    print(f\"Pr:\", prediction)\n",
        "\n",
        "    i = N\n",
        "    question = questions[i]\n",
        "    # predictions = []\n",
        "    # for i, question in enumerate(questions):\n",
        "    print(\"Q:\", question)\n",
        "    prompt = get_prompt_2(question)\n",
        "    encoded_input = tokenizer(prompt, return_tensors=\"pt\")\n",
        "    prediction = response_gen(encoded_input.input_ids.to(\"cuda\"))\n",
        "    print(f\"P{i}:\", prediction)\n",
        "    #   predictions.append(prediction)\n"
      ]
    },
    {
      "cell_type": "markdown",
      "metadata": {
        "id": "puBsTbeI1p3M"
      },
      "source": [
        "## Raw LLM output evaluation"
      ]
    },
    {
      "cell_type": "code",
      "execution_count": null,
      "metadata": {
        "id": "Bfham0171MbL"
      },
      "outputs": [],
      "source": [
        "import evaluate\n",
        "import numpy as np\n",
        "bleu = evaluate.load(\"bleu\")\n",
        "bleu_score = bleu.compute(predictions=predictions, references=ground_truth)\n",
        "print(f\"BLEU Score: {bleu_score}\")"
      ]
    },
    {
      "cell_type": "code",
      "execution_count": null,
      "metadata": {
        "id": "4zy6UUhZ1snB"
      },
      "outputs": [],
      "source": [
        "bertscore = evaluate.load(\"bertscore\")\n",
        "bert_score = bertscore.compute(predictions=predictions, references=ground_truth, lang=\"en\")\n",
        "print(f\"BERTScore: {np.mean(bert_score['precision'])}\")"
      ]
    },
    {
      "cell_type": "code",
      "execution_count": null,
      "metadata": {
        "colab": {
          "base_uri": "https://localhost:8080/",
          "height": 139,
          "referenced_widgets": [
            "b5709791561d4f078c2fee7e768930db",
            "20c0b1297c8d44a99b77ef2f198812b6",
            "757ec783ba114b07a7c60c985f60b1ce",
            "0515bc23512b4d3085f4d85b0a2239d3",
            "b3f53adf0db5465d94b5773eeceacb32",
            "b7e0f9e2e9ff4692aeb6f4d8adcd4f5f",
            "7b51813932b04079837fbee178fd6740",
            "af01e37453104d73abd16b5f6c492d88",
            "8191e2198cdc4a3f81e4b5118cccc927",
            "a6d40b7d87264a8786fdc8ec7979314d",
            "0ea53d1094b44103a7fb55513a4132f0"
          ]
        },
        "id": "ny1QftiripcJ",
        "outputId": "f18553c3-6cd6-4053-e032-d8783c4d0eac"
      },
      "outputs": [
        {
          "data": {
            "application/vnd.jupyter.widget-view+json": {
              "model_id": "b5709791561d4f078c2fee7e768930db",
              "version_major": 2,
              "version_minor": 0
            },
            "text/plain": [
              "Downloading builder script:   0%|          | 0.00/6.93k [00:00<?, ?B/s]"
            ]
          },
          "metadata": {},
          "output_type": "display_data"
        },
        {
          "name": "stderr",
          "output_type": "stream",
          "text": [
            "[nltk_data] Downloading package wordnet to /root/nltk_data...\n",
            "[nltk_data] Downloading package punkt to /root/nltk_data...\n",
            "[nltk_data]   Unzipping tokenizers/punkt.zip.\n",
            "[nltk_data] Downloading package omw-1.4 to /root/nltk_data...\n"
          ]
        },
        {
          "name": "stdout",
          "output_type": "stream",
          "text": [
            "METEORScore: {'meteor': 0.31779667015963875}\n"
          ]
        }
      ],
      "source": [
        "meteor = evaluate.load('meteor')\n",
        "meteor_score = meteor.compute(predictions=predictions, references=ground_truth)\n",
        "print(f\"METEORScore: {meteor_score}\")"
      ]
    },
    {
      "cell_type": "markdown",
      "metadata": {
        "id": "dDhDZVQxAZAg"
      },
      "source": [
        "# Part 2: Traditional IR System\n",
        "We set up an IR system to retrieve documents to evaluate/ improve upon LLM responses."
      ]
    },
    {
      "cell_type": "markdown",
      "metadata": {
        "id": "N_kDS6ifKFBM"
      },
      "source": [
        "## Setting Up a Document Index\n",
        "\n",
        "For this project, we will use the ElasticsearchDocumentStore provided by Haystack to interact with the Elasticsearch server and create a document index. We adapt the initialization code from the Haystack tutorial [Build a Scalable Question Answering System](https://haystack.deepset.ai/tutorials/03_scalable_qa_system).\n"
      ]
    },
    {
      "cell_type": "code",
      "execution_count": null,
      "metadata": {
        "id": "MaWaIIczKr0a"
      },
      "outputs": [],
      "source": [
        "# download and extract es installation image\n",
        "%%bash\n",
        "wget https://artifacts.elastic.co/downloads/elasticsearch/elasticsearch-7.9.2-linux-x86_64.tar.gz -q\n",
        "tar -xzf elasticsearch-7.9.2-linux-x86_64.tar.gz\n",
        "chown -R daemon:daemon elasticsearch-7.9.2"
      ]
    },
    {
      "cell_type": "code",
      "execution_count": null,
      "metadata": {
        "id": "ml3nS32mKz9i"
      },
      "outputs": [],
      "source": [
        "# start the server\n",
        "%%bash --bg\n",
        "sudo -u daemon -- elasticsearch-7.9.2/bin/elasticsearch"
      ]
    },
    {
      "cell_type": "code",
      "execution_count": null,
      "metadata": {
        "id": "AFKljXVcK3HO"
      },
      "outputs": [],
      "source": [
        "# wait for server to start up\n",
        "import time\n",
        "\n",
        "time.sleep(30)"
      ]
    },
    {
      "cell_type": "markdown",
      "metadata": {
        "id": "ccvJHSaAQnyM"
      },
      "source": [
        "## Load Data, Initialize Pipeline"
      ]
    },
    {
      "cell_type": "code",
      "execution_count": null,
      "metadata": {
        "id": "i2iPDCXQRz_r"
      },
      "outputs": [],
      "source": [
        "from haystack import Document\n",
        "\n",
        "df = pd.read_csv(\"data.csv\")\n",
        "print(df.shape)\n",
        "\n",
        "docs = [\n",
        "    Document(\n",
        "        content=row['article'],\n",
        "        meta=dict(\n",
        "            id=idx,\n",
        "            url=row['url'],\n",
        "            datetime=row['datetime'],\n",
        "            headline=row['headline']\n",
        "        )\n",
        "    )\n",
        "    for idx, row in df.iterrows()\n",
        "]\n"
      ]
    },
    {
      "cell_type": "code",
      "execution_count": null,
      "metadata": {
        "id": "KJCTSCYsK86Q"
      },
      "outputs": [],
      "source": [
        "# Initialize ElasticsearchDocumentStore\n",
        "from haystack.pipelines import DocumentSearchPipeline, Pipeline\n",
        "from haystack.nodes import TextConverter, BM25Retriever\n",
        "from haystack.document_stores.elasticsearch import ElasticsearchDocumentStore\n",
        "\n",
        "# Get the host where Elasticsearch is running, default to localhost\n",
        "host = os.environ.get(\"ELASTICSEARCH_HOST\", \"localhost\")\n",
        "\n",
        "text_converter = TextConverter()\n",
        "document_store = ElasticsearchDocumentStore(host=host)\n",
        "\n",
        "# add own docs to DocumentStore\n",
        "document_store.write_documents(docs)\n",
        "\n",
        "index_pipeline = Pipeline()\n",
        "index_pipeline.add_node(text_converter, name=\"TextConverter\", inputs=[\"File\"])\n",
        "index_pipeline.add_node(document_store, name=\"DocumentStore\", inputs=[\"TextConverter\"])"
      ]
    },
    {
      "cell_type": "markdown",
      "metadata": {
        "id": "NdINA5VwXrMg"
      },
      "source": [
        "## Initialize the Retriever, Reader, and Query pipeline\n",
        "\n",
        "*   List item\n",
        "*   List item\n",
        "\n",
        "\n",
        "\n",
        "We use a BM25 retriever and Haystack's FARMReader (with `roberta-base-squad2`) to retrieve documents and extract answers.\n",
        "\n",
        "`roberta-base-squad2` is a RoBERTA model developed by deepset fine-tuned on the SQuAD2.0 dataset."
      ]
    },
    {
      "cell_type": "code",
      "execution_count": null,
      "metadata": {
        "id": "OtmQImZWX0ZQ"
      },
      "outputs": [],
      "source": [
        "from haystack.nodes import BM25Retriever, FARMReader, TransformersSummarizer, DocumentMerger, EmbeddingRetriever, TfidfRetriever\n",
        "\n",
        "\n",
        "retriever = BM25Retriever(document_store=document_store)\n",
        "# retriever = EmbeddingRetriever(\n",
        "#     document_store=document_store,\n",
        "#    embedding_model=\"sentence-transformers/multi-qa-mpnet-base-dot-v1\",\n",
        "#    model_format=\"sentence_transformers\"\n",
        "# )\n",
        "# document_store.update_embeddings(retriever)\n",
        "# retriever = TfidfRetriever(document_store)\n",
        "reader = FARMReader(model_name_or_path=\"deepset/roberta-base-squad2\", use_gpu=True)\n"
      ]
    },
    {
      "cell_type": "code",
      "execution_count": null,
      "metadata": {
        "id": "KJbZMuOxYHAA"
      },
      "outputs": [],
      "source": [
        "from haystack import Pipeline\n",
        "\n",
        "query_pipeline = Pipeline()\n",
        "query_pipeline.add_node(component=retriever, name=\"Retriever\", inputs=[\"Query\"])\n",
        "query_pipeline.add_node(component=reader, name=\"Reader\", inputs=[\"Retriever\"])"
      ]
    },
    {
      "cell_type": "markdown",
      "metadata": {
        "id": "JixjzOW-YXiy"
      },
      "source": [
        "## Querying the Pipeline"
      ]
    },
    {
      "cell_type": "code",
      "execution_count": null,
      "metadata": {
        "id": "3tVb1cML_FFB"
      },
      "outputs": [],
      "source": [
        "retrieved = query_pipeline.run_batch(\n",
        "      queries=query_df['question'].tolist(), params={\"Retriever\": {\"top_k\": 10}, \"Reader\": {\"top_k\": 5}}\n",
        "    )"
      ]
    },
    {
      "cell_type": "code",
      "execution_count": null,
      "metadata": {
        "id": "YR9kaFFahFmv"
      },
      "outputs": [],
      "source": [
        "retrieved['answers'][0]"
      ]
    },
    {
      "cell_type": "markdown",
      "metadata": {
        "id": "NKicixhyasVZ"
      },
      "source": [
        "## Evaluation"
      ]
    },
    {
      "cell_type": "markdown",
      "metadata": {
        "id": "2HoRLO5EU_zu"
      },
      "source": [
        "### Evaluating the Retriever"
      ]
    },
    {
      "cell_type": "code",
      "execution_count": null,
      "metadata": {
        "colab": {
          "base_uri": "https://localhost:8080/"
        },
        "id": "MhqSfMq1a5zu",
        "outputId": "2b80e9e3-5410-41a5-8899-90d06d384dfe"
      },
      "outputs": [
        {
          "name": "stdout",
          "output_type": "stream",
          "text": [
            "401\n"
          ]
        }
      ],
      "source": [
        "rel_df = pd.read_csv(\"relevance_binary.csv\")\n",
        "print(rel_df['article_id'].nunique())\n",
        "\n",
        "multi_idx_rel_df = rel_df.set_index(['article_id', 'question_id'])\n",
        "rel_dict = multi_idx_rel_df.to_dict(orient='index')"
      ]
    },
    {
      "cell_type": "code",
      "execution_count": null,
      "metadata": {
        "id": "p0p8fh1abD2v"
      },
      "outputs": [],
      "source": [
        "ret_ids = [[doc.meta['id'] for doc in pred] for pred in retrieved['documents']]\n",
        "ret_rel = torch.Tensor([\n",
        "    [\n",
        "        rel_dict[(idx, q_idx)]['relevance'] if (idx, q_idx) in rel_dict else 0\n",
        "        for idx in doc_ids\n",
        "      ]\n",
        "    for q_idx, doc_ids in enumerate(ret_ids)\n",
        "    ])"
      ]
    },
    {
      "cell_type": "code",
      "execution_count": null,
      "metadata": {
        "id": "k7lpP96UwXZX"
      },
      "outputs": [],
      "source": [
        "def mrr(relevances:torch.Tensor):\n",
        "  mrrls=torch.Tensor(relevances.shape[0])\n",
        "  for idx,row in enumerate(relevances):\n",
        "    if(torch.max(row)!=0):\n",
        "      # print(idx)\n",
        "      # print(torch.argmax(row))\n",
        "      mrrls[idx]=(1/(torch.argmax(row)+1))\n",
        "    else:\n",
        "      mrrls[idx]=0\n",
        "  return torch.mean(mrrls)"
      ]
    },
    {
      "cell_type": "code",
      "execution_count": null,
      "metadata": {
        "id": "Xo2uiwOBwYGU"
      },
      "outputs": [],
      "source": [
        "def map(relevances: torch.Tensor):\n",
        "  mapt=torch.Tensor(relevances.shape[0])\n",
        "  precls=[]\n",
        "  for idx, row in enumerate(relevances):\n",
        "    relcount=0\n",
        "    avgprec=0\n",
        "    totalreldoc=torch.sum(row)\n",
        "    if(totalreldoc==0):\n",
        "      mapt[idx]=0\n",
        "      continue\n",
        "    for i, val in enumerate(row):\n",
        "      if(val!=0):\n",
        "        relcount+=1\n",
        "        prec=relcount/(i+1)\n",
        "        precls.append(prec)\n",
        "        avgprec+=prec\n",
        "    avgprec/=totalreldoc\n",
        "    # print(totalreldoc)\n",
        "    mapt[idx]=avgprec\n",
        "    # print(precls)\n",
        "    # print(avgprec)\n",
        "    # break\n",
        "  return torch.mean(mapt)"
      ]
    },
    {
      "cell_type": "code",
      "execution_count": null,
      "metadata": {
        "colab": {
          "base_uri": "https://localhost:8080/"
        },
        "id": "iZ4EJBFwlw0E",
        "outputId": "eb817971-7176-46bd-9c7f-d2a49eced79e"
      },
      "outputs": [
        {
          "name": "stdout",
          "output_type": "stream",
          "text": [
            "map 0.4930151700973511\n",
            "mrr: 0.5173782110214233\n"
          ]
        }
      ],
      "source": [
        "# #tf-idf retriever\n",
        "# print(f'map {map(ret_rel)}')\n",
        "# print(f'mrr: {mrr(ret_rel)}')\n",
        "# map 0.4930151700973511\n",
        "# mrr: 0.5173782110214233"
      ]
    },
    {
      "cell_type": "code",
      "execution_count": null,
      "metadata": {
        "colab": {
          "base_uri": "https://localhost:8080/"
        },
        "id": "5Rr3x2VEjcde",
        "outputId": "432beeca-d9de-4ed7-882e-0b6ce21b251b"
      },
      "outputs": [
        {
          "name": "stdout",
          "output_type": "stream",
          "text": [
            "map 0.6158411502838135\n",
            "mrr: 0.6758620738983154\n"
          ]
        }
      ],
      "source": [
        "# # embedding retriever\n",
        "# print(f'map {map(ret_rel)}')\n",
        "# print(f'mrr: {mrr(ret_rel)}')\n",
        "\n",
        "# map 0.6158411502838135\n",
        "# mrr: 0.6758620738983154"
      ]
    },
    {
      "cell_type": "code",
      "execution_count": null,
      "metadata": {
        "colab": {
          "base_uri": "https://localhost:8080/"
        },
        "id": "JXUGQG3RYJio",
        "outputId": "4c657a12-56b2-4129-f75a-1cc8d9759d2f"
      },
      "outputs": [
        {
          "name": "stdout",
          "output_type": "stream",
          "text": [
            "map 0.71826171875\n",
            "mrr: 0.791015625\n"
          ]
        }
      ],
      "source": [
        "#bm25 retriever\n",
        "print(f'map {map(ret_rel)}')\n",
        "print(f'mrr: {mrr(ret_rel)}')"
      ]
    },
    {
      "cell_type": "code",
      "execution_count": null,
      "metadata": {
        "id": "os7jY9vquIaa"
      },
      "outputs": [],
      "source": [
        "def dcg(relevances: torch.Tensor, *, N=None):\n",
        "  N = N or relevances.shape[1]\n",
        "  ranks = torch.arange(1, N+1)\n",
        "  ranks[0] += 1\n",
        "  log_ranks = torch.log2(ranks).reshape((1, N))\n",
        "  return torch.inner(relevances, 1/log_ranks)\n",
        "\n",
        "def ndcg(pred_rel: torch.Tensor, relevance: pd.DataFrame, *, N=None):\n",
        "  N = N or pred_rel.shape[1]\n",
        "  topk = relevance.groupby(['question_id'])['relevance'].nlargest(N)\n",
        "  rows = [topk.xs(i).to_list() for i in topk.index.levels[0]]\n",
        "  for row in rows:\n",
        "    if len(row) < N:\n",
        "      row.extend([0.0]*(N-len(row)))\n",
        "  ideal = torch.Tensor(rows)\n",
        "  idcg = dcg(ideal, N=N)\n",
        "  return torch.div(dcg(pred_rel[:, :N], N=N), idcg)\n",
        "\n",
        "def evaluate_retrieval(relevances: torch.Tensor):\n",
        "  res = {}\n",
        "  for rels in relevances:\n",
        "    pass\n",
        "\n",
        "  return"
      ]
    },
    {
      "cell_type": "code",
      "execution_count": null,
      "metadata": {
        "id": "O7dz-VOV2oms"
      },
      "outputs": [],
      "source": [
        "ndcg(ret_rel, rel_df).T"
      ]
    },
    {
      "cell_type": "markdown",
      "metadata": {
        "id": "I3Ls1yTeU9zQ"
      },
      "source": [
        "### Evaluating the Reader"
      ]
    },
    {
      "cell_type": "code",
      "execution_count": null,
      "metadata": {
        "id": "FXNxX-wqCXhD"
      },
      "outputs": [],
      "source": [
        "%%bash\n",
        "wget https://raw.githubusercontent.com/shaunnope/paperview/master/wiki_claims.jsonl -q\n",
        "wget https://raw.githubusercontent.com/shaunnope/paperview/master/wiki_pages.jsonl -q"
      ]
    },
    {
      "cell_type": "code",
      "execution_count": null,
      "metadata": {
        "colab": {
          "base_uri": "https://localhost:8080/",
          "height": 499
        },
        "id": "X6JskH6aDHqN",
        "outputId": "53469955-7490-49fe-e6e3-39ed80902f5f"
      },
      "outputs": [
        {
          "data": {
            "text/html": [
              "\n",
              "  <div id=\"df-9ab16eac-52cc-4495-898a-94f129239e55\" class=\"colab-df-container\">\n",
              "    <div>\n",
              "<style scoped>\n",
              "    .dataframe tbody tr th:only-of-type {\n",
              "        vertical-align: middle;\n",
              "    }\n",
              "\n",
              "    .dataframe tbody tr th {\n",
              "        vertical-align: top;\n",
              "    }\n",
              "\n",
              "    .dataframe thead th {\n",
              "        text-align: right;\n",
              "    }\n",
              "</style>\n",
              "<table border=\"1\" class=\"dataframe\">\n",
              "  <thead>\n",
              "    <tr style=\"text-align: right;\">\n",
              "      <th></th>\n",
              "      <th>index</th>\n",
              "      <th>id</th>\n",
              "      <th>verifiable</th>\n",
              "      <th>label</th>\n",
              "      <th>claim</th>\n",
              "      <th>sources</th>\n",
              "      <th>answers</th>\n",
              "    </tr>\n",
              "  </thead>\n",
              "  <tbody>\n",
              "    <tr>\n",
              "      <th>0</th>\n",
              "      <td>2009</td>\n",
              "      <td>95262</td>\n",
              "      <td>VERIFIABLE</td>\n",
              "      <td>REFUTES</td>\n",
              "      <td>Eddie Guerrero did not experience substance ab...</td>\n",
              "      <td>[Eddie_Guerrero]</td>\n",
              "      <td>[substance abuse, alcholism, addiction to pain...</td>\n",
              "    </tr>\n",
              "    <tr>\n",
              "      <th>1</th>\n",
              "      <td>3312</td>\n",
              "      <td>144899</td>\n",
              "      <td>VERIFIABLE</td>\n",
              "      <td>REFUTES</td>\n",
              "      <td>AMGTV does not have entertainment television p...</td>\n",
              "      <td>[AMGTV]</td>\n",
              "      <td>[entertainment, television programming, movie ...</td>\n",
              "    </tr>\n",
              "    <tr>\n",
              "      <th>2</th>\n",
              "      <td>3494</td>\n",
              "      <td>150044</td>\n",
              "      <td>VERIFIABLE</td>\n",
              "      <td>REFUTES</td>\n",
              "      <td>AMGTV is an adult-oriented television network.</td>\n",
              "      <td>[AMGTV]</td>\n",
              "      <td>[family-oriented, children's shows]</td>\n",
              "    </tr>\n",
              "    <tr>\n",
              "      <th>3</th>\n",
              "      <td>4947</td>\n",
              "      <td>26132</td>\n",
              "      <td>VERIFIABLE</td>\n",
              "      <td>SUPPORTS</td>\n",
              "      <td>Aarhus is located on the east coast of the Jut...</td>\n",
              "      <td>[East_Jutland_metropolitan_area]</td>\n",
              "      <td>[East Jutland]</td>\n",
              "    </tr>\n",
              "    <tr>\n",
              "      <th>4</th>\n",
              "      <td>7212</td>\n",
              "      <td>65047</td>\n",
              "      <td>VERIFIABLE</td>\n",
              "      <td>SUPPORTS</td>\n",
              "      <td>AMGTV is an American family-oriented televisio...</td>\n",
              "      <td>[AMGTV]</td>\n",
              "      <td>[family-oriented, children's shows]</td>\n",
              "    </tr>\n",
              "  </tbody>\n",
              "</table>\n",
              "</div>\n",
              "    <div class=\"colab-df-buttons\">\n",
              "\n",
              "  <div class=\"colab-df-container\">\n",
              "    <button class=\"colab-df-convert\" onclick=\"convertToInteractive('df-9ab16eac-52cc-4495-898a-94f129239e55')\"\n",
              "            title=\"Convert this dataframe to an interactive table.\"\n",
              "            style=\"display:none;\">\n",
              "\n",
              "  <svg xmlns=\"http://www.w3.org/2000/svg\" height=\"24px\" viewBox=\"0 -960 960 960\">\n",
              "    <path d=\"M120-120v-720h720v720H120Zm60-500h600v-160H180v160Zm220 220h160v-160H400v160Zm0 220h160v-160H400v160ZM180-400h160v-160H180v160Zm440 0h160v-160H620v160ZM180-180h160v-160H180v160Zm440 0h160v-160H620v160Z\"/>\n",
              "  </svg>\n",
              "    </button>\n",
              "\n",
              "  <style>\n",
              "    .colab-df-container {\n",
              "      display:flex;\n",
              "      gap: 12px;\n",
              "    }\n",
              "\n",
              "    .colab-df-convert {\n",
              "      background-color: #E8F0FE;\n",
              "      border: none;\n",
              "      border-radius: 50%;\n",
              "      cursor: pointer;\n",
              "      display: none;\n",
              "      fill: #1967D2;\n",
              "      height: 32px;\n",
              "      padding: 0 0 0 0;\n",
              "      width: 32px;\n",
              "    }\n",
              "\n",
              "    .colab-df-convert:hover {\n",
              "      background-color: #E2EBFA;\n",
              "      box-shadow: 0px 1px 2px rgba(60, 64, 67, 0.3), 0px 1px 3px 1px rgba(60, 64, 67, 0.15);\n",
              "      fill: #174EA6;\n",
              "    }\n",
              "\n",
              "    .colab-df-buttons div {\n",
              "      margin-bottom: 4px;\n",
              "    }\n",
              "\n",
              "    [theme=dark] .colab-df-convert {\n",
              "      background-color: #3B4455;\n",
              "      fill: #D2E3FC;\n",
              "    }\n",
              "\n",
              "    [theme=dark] .colab-df-convert:hover {\n",
              "      background-color: #434B5C;\n",
              "      box-shadow: 0px 1px 3px 1px rgba(0, 0, 0, 0.15);\n",
              "      filter: drop-shadow(0px 1px 2px rgba(0, 0, 0, 0.3));\n",
              "      fill: #FFFFFF;\n",
              "    }\n",
              "  </style>\n",
              "\n",
              "    <script>\n",
              "      const buttonEl =\n",
              "        document.querySelector('#df-9ab16eac-52cc-4495-898a-94f129239e55 button.colab-df-convert');\n",
              "      buttonEl.style.display =\n",
              "        google.colab.kernel.accessAllowed ? 'block' : 'none';\n",
              "\n",
              "      async function convertToInteractive(key) {\n",
              "        const element = document.querySelector('#df-9ab16eac-52cc-4495-898a-94f129239e55');\n",
              "        const dataTable =\n",
              "          await google.colab.kernel.invokeFunction('convertToInteractive',\n",
              "                                                    [key], {});\n",
              "        if (!dataTable) return;\n",
              "\n",
              "        const docLinkHtml = 'Like what you see? Visit the ' +\n",
              "          '<a target=\"_blank\" href=https://colab.research.google.com/notebooks/data_table.ipynb>data table notebook</a>'\n",
              "          + ' to learn more about interactive tables.';\n",
              "        element.innerHTML = '';\n",
              "        dataTable['output_type'] = 'display_data';\n",
              "        await google.colab.output.renderOutput(dataTable, element);\n",
              "        const docLink = document.createElement('div');\n",
              "        docLink.innerHTML = docLinkHtml;\n",
              "        element.appendChild(docLink);\n",
              "      }\n",
              "    </script>\n",
              "  </div>\n",
              "\n",
              "\n",
              "<div id=\"df-49458bad-ec86-4862-8edf-04f7acb49349\">\n",
              "  <button class=\"colab-df-quickchart\" onclick=\"quickchart('df-49458bad-ec86-4862-8edf-04f7acb49349')\"\n",
              "            title=\"Suggest charts\"\n",
              "            style=\"display:none;\">\n",
              "\n",
              "<svg xmlns=\"http://www.w3.org/2000/svg\" height=\"24px\"viewBox=\"0 0 24 24\"\n",
              "     width=\"24px\">\n",
              "    <g>\n",
              "        <path d=\"M19 3H5c-1.1 0-2 .9-2 2v14c0 1.1.9 2 2 2h14c1.1 0 2-.9 2-2V5c0-1.1-.9-2-2-2zM9 17H7v-7h2v7zm4 0h-2V7h2v10zm4 0h-2v-4h2v4z\"/>\n",
              "    </g>\n",
              "</svg>\n",
              "  </button>\n",
              "\n",
              "<style>\n",
              "  .colab-df-quickchart {\n",
              "      --bg-color: #E8F0FE;\n",
              "      --fill-color: #1967D2;\n",
              "      --hover-bg-color: #E2EBFA;\n",
              "      --hover-fill-color: #174EA6;\n",
              "      --disabled-fill-color: #AAA;\n",
              "      --disabled-bg-color: #DDD;\n",
              "  }\n",
              "\n",
              "  [theme=dark] .colab-df-quickchart {\n",
              "      --bg-color: #3B4455;\n",
              "      --fill-color: #D2E3FC;\n",
              "      --hover-bg-color: #434B5C;\n",
              "      --hover-fill-color: #FFFFFF;\n",
              "      --disabled-bg-color: #3B4455;\n",
              "      --disabled-fill-color: #666;\n",
              "  }\n",
              "\n",
              "  .colab-df-quickchart {\n",
              "    background-color: var(--bg-color);\n",
              "    border: none;\n",
              "    border-radius: 50%;\n",
              "    cursor: pointer;\n",
              "    display: none;\n",
              "    fill: var(--fill-color);\n",
              "    height: 32px;\n",
              "    padding: 0;\n",
              "    width: 32px;\n",
              "  }\n",
              "\n",
              "  .colab-df-quickchart:hover {\n",
              "    background-color: var(--hover-bg-color);\n",
              "    box-shadow: 0 1px 2px rgba(60, 64, 67, 0.3), 0 1px 3px 1px rgba(60, 64, 67, 0.15);\n",
              "    fill: var(--button-hover-fill-color);\n",
              "  }\n",
              "\n",
              "  .colab-df-quickchart-complete:disabled,\n",
              "  .colab-df-quickchart-complete:disabled:hover {\n",
              "    background-color: var(--disabled-bg-color);\n",
              "    fill: var(--disabled-fill-color);\n",
              "    box-shadow: none;\n",
              "  }\n",
              "\n",
              "  .colab-df-spinner {\n",
              "    border: 2px solid var(--fill-color);\n",
              "    border-color: transparent;\n",
              "    border-bottom-color: var(--fill-color);\n",
              "    animation:\n",
              "      spin 1s steps(1) infinite;\n",
              "  }\n",
              "\n",
              "  @keyframes spin {\n",
              "    0% {\n",
              "      border-color: transparent;\n",
              "      border-bottom-color: var(--fill-color);\n",
              "      border-left-color: var(--fill-color);\n",
              "    }\n",
              "    20% {\n",
              "      border-color: transparent;\n",
              "      border-left-color: var(--fill-color);\n",
              "      border-top-color: var(--fill-color);\n",
              "    }\n",
              "    30% {\n",
              "      border-color: transparent;\n",
              "      border-left-color: var(--fill-color);\n",
              "      border-top-color: var(--fill-color);\n",
              "      border-right-color: var(--fill-color);\n",
              "    }\n",
              "    40% {\n",
              "      border-color: transparent;\n",
              "      border-right-color: var(--fill-color);\n",
              "      border-top-color: var(--fill-color);\n",
              "    }\n",
              "    60% {\n",
              "      border-color: transparent;\n",
              "      border-right-color: var(--fill-color);\n",
              "    }\n",
              "    80% {\n",
              "      border-color: transparent;\n",
              "      border-right-color: var(--fill-color);\n",
              "      border-bottom-color: var(--fill-color);\n",
              "    }\n",
              "    90% {\n",
              "      border-color: transparent;\n",
              "      border-bottom-color: var(--fill-color);\n",
              "    }\n",
              "  }\n",
              "</style>\n",
              "\n",
              "  <script>\n",
              "    async function quickchart(key) {\n",
              "      const quickchartButtonEl =\n",
              "        document.querySelector('#' + key + ' button');\n",
              "      quickchartButtonEl.disabled = true;  // To prevent multiple clicks.\n",
              "      quickchartButtonEl.classList.add('colab-df-spinner');\n",
              "      try {\n",
              "        const charts = await google.colab.kernel.invokeFunction(\n",
              "            'suggestCharts', [key], {});\n",
              "      } catch (error) {\n",
              "        console.error('Error during call to suggestCharts:', error);\n",
              "      }\n",
              "      quickchartButtonEl.classList.remove('colab-df-spinner');\n",
              "      quickchartButtonEl.classList.add('colab-df-quickchart-complete');\n",
              "    }\n",
              "    (() => {\n",
              "      let quickchartButtonEl =\n",
              "        document.querySelector('#df-49458bad-ec86-4862-8edf-04f7acb49349 button');\n",
              "      quickchartButtonEl.style.display =\n",
              "        google.colab.kernel.accessAllowed ? 'block' : 'none';\n",
              "    })();\n",
              "  </script>\n",
              "</div>\n",
              "    </div>\n",
              "  </div>\n"
            ],
            "text/plain": [
              "   index      id  verifiable     label  \\\n",
              "0   2009   95262  VERIFIABLE   REFUTES   \n",
              "1   3312  144899  VERIFIABLE   REFUTES   \n",
              "2   3494  150044  VERIFIABLE   REFUTES   \n",
              "3   4947   26132  VERIFIABLE  SUPPORTS   \n",
              "4   7212   65047  VERIFIABLE  SUPPORTS   \n",
              "\n",
              "                                               claim  \\\n",
              "0  Eddie Guerrero did not experience substance ab...   \n",
              "1  AMGTV does not have entertainment television p...   \n",
              "2     AMGTV is an adult-oriented television network.   \n",
              "3  Aarhus is located on the east coast of the Jut...   \n",
              "4  AMGTV is an American family-oriented televisio...   \n",
              "\n",
              "                            sources  \\\n",
              "0                  [Eddie_Guerrero]   \n",
              "1                           [AMGTV]   \n",
              "2                           [AMGTV]   \n",
              "3  [East_Jutland_metropolitan_area]   \n",
              "4                           [AMGTV]   \n",
              "\n",
              "                                             answers  \n",
              "0  [substance abuse, alcholism, addiction to pain...  \n",
              "1  [entertainment, television programming, movie ...  \n",
              "2                [family-oriented, children's shows]  \n",
              "3                                     [East Jutland]  \n",
              "4                [family-oriented, children's shows]  "
            ]
          },
          "metadata": {},
          "output_type": "display_data"
        },
        {
          "data": {
            "text/html": [
              "\n",
              "  <div id=\"df-187a9791-5e78-4f5f-a1eb-8f93253145e1\" class=\"colab-df-container\">\n",
              "    <div>\n",
              "<style scoped>\n",
              "    .dataframe tbody tr th:only-of-type {\n",
              "        vertical-align: middle;\n",
              "    }\n",
              "\n",
              "    .dataframe tbody tr th {\n",
              "        vertical-align: top;\n",
              "    }\n",
              "\n",
              "    .dataframe thead th {\n",
              "        text-align: right;\n",
              "    }\n",
              "</style>\n",
              "<table border=\"1\" class=\"dataframe\">\n",
              "  <thead>\n",
              "    <tr style=\"text-align: right;\">\n",
              "      <th></th>\n",
              "      <th>index</th>\n",
              "      <th>id</th>\n",
              "      <th>text</th>\n",
              "    </tr>\n",
              "  </thead>\n",
              "  <tbody>\n",
              "    <tr>\n",
              "      <th>0</th>\n",
              "      <td>8216</td>\n",
              "      <td>2003_NCAA_Division_I_Men's_Basketball_Tournament</td>\n",
              "      <td>The 2003 NCAA Division I Men 's Basketball Tou...</td>\n",
              "    </tr>\n",
              "    <tr>\n",
              "      <th>1</th>\n",
              "      <td>14801</td>\n",
              "      <td>2017_Premier_League_Asia_Trophy</td>\n",
              "      <td>The 2017 Premier League Asia Trophy is the eig...</td>\n",
              "    </tr>\n",
              "    <tr>\n",
              "      <th>2</th>\n",
              "      <td>17051</td>\n",
              "      <td>Academy_Award_for_Best_Makeup_and_Hairstyling</td>\n",
              "      <td>The Academy Award for Best Makeup and Hairstyl...</td>\n",
              "    </tr>\n",
              "    <tr>\n",
              "      <th>3</th>\n",
              "      <td>19413</td>\n",
              "      <td>A_Game_of_Thrones</td>\n",
              "      <td>A Game of Thrones is the first novel in A Song...</td>\n",
              "    </tr>\n",
              "    <tr>\n",
              "      <th>4</th>\n",
              "      <td>26056</td>\n",
              "      <td>ABC_islands_-LRB-Lesser_Antilles-RRB-</td>\n",
              "      <td>The ABC islands are the three western-most isl...</td>\n",
              "    </tr>\n",
              "  </tbody>\n",
              "</table>\n",
              "</div>\n",
              "    <div class=\"colab-df-buttons\">\n",
              "\n",
              "  <div class=\"colab-df-container\">\n",
              "    <button class=\"colab-df-convert\" onclick=\"convertToInteractive('df-187a9791-5e78-4f5f-a1eb-8f93253145e1')\"\n",
              "            title=\"Convert this dataframe to an interactive table.\"\n",
              "            style=\"display:none;\">\n",
              "\n",
              "  <svg xmlns=\"http://www.w3.org/2000/svg\" height=\"24px\" viewBox=\"0 -960 960 960\">\n",
              "    <path d=\"M120-120v-720h720v720H120Zm60-500h600v-160H180v160Zm220 220h160v-160H400v160Zm0 220h160v-160H400v160ZM180-400h160v-160H180v160Zm440 0h160v-160H620v160ZM180-180h160v-160H180v160Zm440 0h160v-160H620v160Z\"/>\n",
              "  </svg>\n",
              "    </button>\n",
              "\n",
              "  <style>\n",
              "    .colab-df-container {\n",
              "      display:flex;\n",
              "      gap: 12px;\n",
              "    }\n",
              "\n",
              "    .colab-df-convert {\n",
              "      background-color: #E8F0FE;\n",
              "      border: none;\n",
              "      border-radius: 50%;\n",
              "      cursor: pointer;\n",
              "      display: none;\n",
              "      fill: #1967D2;\n",
              "      height: 32px;\n",
              "      padding: 0 0 0 0;\n",
              "      width: 32px;\n",
              "    }\n",
              "\n",
              "    .colab-df-convert:hover {\n",
              "      background-color: #E2EBFA;\n",
              "      box-shadow: 0px 1px 2px rgba(60, 64, 67, 0.3), 0px 1px 3px 1px rgba(60, 64, 67, 0.15);\n",
              "      fill: #174EA6;\n",
              "    }\n",
              "\n",
              "    .colab-df-buttons div {\n",
              "      margin-bottom: 4px;\n",
              "    }\n",
              "\n",
              "    [theme=dark] .colab-df-convert {\n",
              "      background-color: #3B4455;\n",
              "      fill: #D2E3FC;\n",
              "    }\n",
              "\n",
              "    [theme=dark] .colab-df-convert:hover {\n",
              "      background-color: #434B5C;\n",
              "      box-shadow: 0px 1px 3px 1px rgba(0, 0, 0, 0.15);\n",
              "      filter: drop-shadow(0px 1px 2px rgba(0, 0, 0, 0.3));\n",
              "      fill: #FFFFFF;\n",
              "    }\n",
              "  </style>\n",
              "\n",
              "    <script>\n",
              "      const buttonEl =\n",
              "        document.querySelector('#df-187a9791-5e78-4f5f-a1eb-8f93253145e1 button.colab-df-convert');\n",
              "      buttonEl.style.display =\n",
              "        google.colab.kernel.accessAllowed ? 'block' : 'none';\n",
              "\n",
              "      async function convertToInteractive(key) {\n",
              "        const element = document.querySelector('#df-187a9791-5e78-4f5f-a1eb-8f93253145e1');\n",
              "        const dataTable =\n",
              "          await google.colab.kernel.invokeFunction('convertToInteractive',\n",
              "                                                    [key], {});\n",
              "        if (!dataTable) return;\n",
              "\n",
              "        const docLinkHtml = 'Like what you see? Visit the ' +\n",
              "          '<a target=\"_blank\" href=https://colab.research.google.com/notebooks/data_table.ipynb>data table notebook</a>'\n",
              "          + ' to learn more about interactive tables.';\n",
              "        element.innerHTML = '';\n",
              "        dataTable['output_type'] = 'display_data';\n",
              "        await google.colab.output.renderOutput(dataTable, element);\n",
              "        const docLink = document.createElement('div');\n",
              "        docLink.innerHTML = docLinkHtml;\n",
              "        element.appendChild(docLink);\n",
              "      }\n",
              "    </script>\n",
              "  </div>\n",
              "\n",
              "\n",
              "<div id=\"df-a24005c7-1a2c-4966-b266-d8308670e1ae\">\n",
              "  <button class=\"colab-df-quickchart\" onclick=\"quickchart('df-a24005c7-1a2c-4966-b266-d8308670e1ae')\"\n",
              "            title=\"Suggest charts\"\n",
              "            style=\"display:none;\">\n",
              "\n",
              "<svg xmlns=\"http://www.w3.org/2000/svg\" height=\"24px\"viewBox=\"0 0 24 24\"\n",
              "     width=\"24px\">\n",
              "    <g>\n",
              "        <path d=\"M19 3H5c-1.1 0-2 .9-2 2v14c0 1.1.9 2 2 2h14c1.1 0 2-.9 2-2V5c0-1.1-.9-2-2-2zM9 17H7v-7h2v7zm4 0h-2V7h2v10zm4 0h-2v-4h2v4z\"/>\n",
              "    </g>\n",
              "</svg>\n",
              "  </button>\n",
              "\n",
              "<style>\n",
              "  .colab-df-quickchart {\n",
              "      --bg-color: #E8F0FE;\n",
              "      --fill-color: #1967D2;\n",
              "      --hover-bg-color: #E2EBFA;\n",
              "      --hover-fill-color: #174EA6;\n",
              "      --disabled-fill-color: #AAA;\n",
              "      --disabled-bg-color: #DDD;\n",
              "  }\n",
              "\n",
              "  [theme=dark] .colab-df-quickchart {\n",
              "      --bg-color: #3B4455;\n",
              "      --fill-color: #D2E3FC;\n",
              "      --hover-bg-color: #434B5C;\n",
              "      --hover-fill-color: #FFFFFF;\n",
              "      --disabled-bg-color: #3B4455;\n",
              "      --disabled-fill-color: #666;\n",
              "  }\n",
              "\n",
              "  .colab-df-quickchart {\n",
              "    background-color: var(--bg-color);\n",
              "    border: none;\n",
              "    border-radius: 50%;\n",
              "    cursor: pointer;\n",
              "    display: none;\n",
              "    fill: var(--fill-color);\n",
              "    height: 32px;\n",
              "    padding: 0;\n",
              "    width: 32px;\n",
              "  }\n",
              "\n",
              "  .colab-df-quickchart:hover {\n",
              "    background-color: var(--hover-bg-color);\n",
              "    box-shadow: 0 1px 2px rgba(60, 64, 67, 0.3), 0 1px 3px 1px rgba(60, 64, 67, 0.15);\n",
              "    fill: var(--button-hover-fill-color);\n",
              "  }\n",
              "\n",
              "  .colab-df-quickchart-complete:disabled,\n",
              "  .colab-df-quickchart-complete:disabled:hover {\n",
              "    background-color: var(--disabled-bg-color);\n",
              "    fill: var(--disabled-fill-color);\n",
              "    box-shadow: none;\n",
              "  }\n",
              "\n",
              "  .colab-df-spinner {\n",
              "    border: 2px solid var(--fill-color);\n",
              "    border-color: transparent;\n",
              "    border-bottom-color: var(--fill-color);\n",
              "    animation:\n",
              "      spin 1s steps(1) infinite;\n",
              "  }\n",
              "\n",
              "  @keyframes spin {\n",
              "    0% {\n",
              "      border-color: transparent;\n",
              "      border-bottom-color: var(--fill-color);\n",
              "      border-left-color: var(--fill-color);\n",
              "    }\n",
              "    20% {\n",
              "      border-color: transparent;\n",
              "      border-left-color: var(--fill-color);\n",
              "      border-top-color: var(--fill-color);\n",
              "    }\n",
              "    30% {\n",
              "      border-color: transparent;\n",
              "      border-left-color: var(--fill-color);\n",
              "      border-top-color: var(--fill-color);\n",
              "      border-right-color: var(--fill-color);\n",
              "    }\n",
              "    40% {\n",
              "      border-color: transparent;\n",
              "      border-right-color: var(--fill-color);\n",
              "      border-top-color: var(--fill-color);\n",
              "    }\n",
              "    60% {\n",
              "      border-color: transparent;\n",
              "      border-right-color: var(--fill-color);\n",
              "    }\n",
              "    80% {\n",
              "      border-color: transparent;\n",
              "      border-right-color: var(--fill-color);\n",
              "      border-bottom-color: var(--fill-color);\n",
              "    }\n",
              "    90% {\n",
              "      border-color: transparent;\n",
              "      border-bottom-color: var(--fill-color);\n",
              "    }\n",
              "  }\n",
              "</style>\n",
              "\n",
              "  <script>\n",
              "    async function quickchart(key) {\n",
              "      const quickchartButtonEl =\n",
              "        document.querySelector('#' + key + ' button');\n",
              "      quickchartButtonEl.disabled = true;  // To prevent multiple clicks.\n",
              "      quickchartButtonEl.classList.add('colab-df-spinner');\n",
              "      try {\n",
              "        const charts = await google.colab.kernel.invokeFunction(\n",
              "            'suggestCharts', [key], {});\n",
              "      } catch (error) {\n",
              "        console.error('Error during call to suggestCharts:', error);\n",
              "      }\n",
              "      quickchartButtonEl.classList.remove('colab-df-spinner');\n",
              "      quickchartButtonEl.classList.add('colab-df-quickchart-complete');\n",
              "    }\n",
              "    (() => {\n",
              "      let quickchartButtonEl =\n",
              "        document.querySelector('#df-a24005c7-1a2c-4966-b266-d8308670e1ae button');\n",
              "      quickchartButtonEl.style.display =\n",
              "        google.colab.kernel.accessAllowed ? 'block' : 'none';\n",
              "    })();\n",
              "  </script>\n",
              "</div>\n",
              "    </div>\n",
              "  </div>\n"
            ],
            "text/plain": [
              "   index                                                id  \\\n",
              "0   8216  2003_NCAA_Division_I_Men's_Basketball_Tournament   \n",
              "1  14801                   2017_Premier_League_Asia_Trophy   \n",
              "2  17051     Academy_Award_for_Best_Makeup_and_Hairstyling   \n",
              "3  19413                                 A_Game_of_Thrones   \n",
              "4  26056             ABC_islands_-LRB-Lesser_Antilles-RRB-   \n",
              "\n",
              "                                                text  \n",
              "0  The 2003 NCAA Division I Men 's Basketball Tou...  \n",
              "1  The 2017 Premier League Asia Trophy is the eig...  \n",
              "2  The Academy Award for Best Makeup and Hairstyl...  \n",
              "3  A Game of Thrones is the first novel in A Song...  \n",
              "4  The ABC islands are the three western-most isl...  "
            ]
          },
          "metadata": {},
          "output_type": "display_data"
        },
        {
          "data": {
            "text/plain": [
              "(25, 3)"
            ]
          },
          "execution_count": 54,
          "metadata": {},
          "output_type": "execute_result"
        }
      ],
      "source": [
        "claims_df = pd.read_json(\"wiki_claims.jsonl\", lines=True)\n",
        "display(claims_df.head())\n",
        "\n",
        "wiki_df = pd.read_json(\"wiki_pages.jsonl\", lines=True)\n",
        "display(wiki_df.head())\n",
        "wiki_df.shape"
      ]
    },
    {
      "cell_type": "code",
      "execution_count": null,
      "metadata": {
        "colab": {
          "base_uri": "https://localhost:8080/"
        },
        "id": "FQSN7P79DPWj",
        "outputId": "c67a9002-73f1-4709-f578-bc3dd94b6a45"
      },
      "outputs": [
        {
          "name": "stderr",
          "output_type": "stream",
          "text": [
            "Inferencing Samples: 100%|██████████| 1/1 [00:00<00:00,  9.15 Batches/s]\n",
            "Inferencing Samples: 100%|██████████| 1/1 [00:00<00:00, 26.15 Batches/s]\n",
            "Inferencing Samples: 100%|██████████| 1/1 [00:00<00:00, 30.17 Batches/s]\n",
            "Inferencing Samples: 100%|██████████| 1/1 [00:00<00:00, 27.68 Batches/s]\n",
            "Inferencing Samples: 100%|██████████| 1/1 [00:00<00:00, 29.47 Batches/s]\n",
            "Inferencing Samples: 100%|██████████| 1/1 [00:00<00:00, 25.00 Batches/s]\n",
            "Inferencing Samples: 100%|██████████| 1/1 [00:00<00:00, 23.19 Batches/s]\n",
            "Inferencing Samples: 100%|██████████| 1/1 [00:00<00:00, 18.83 Batches/s]\n",
            "Inferencing Samples: 100%|██████████| 1/1 [00:00<00:00, 31.61 Batches/s]\n",
            "Inferencing Samples: 100%|██████████| 1/1 [00:00<00:00, 31.36 Batches/s]\n",
            "Inferencing Samples: 100%|██████████| 1/1 [00:00<00:00, 31.50 Batches/s]\n",
            "Inferencing Samples: 100%|██████████| 1/1 [00:00<00:00, 43.74 Batches/s]\n",
            "Inferencing Samples: 100%|██████████| 1/1 [00:00<00:00, 43.31 Batches/s]\n",
            "Inferencing Samples: 100%|██████████| 1/1 [00:00<00:00, 14.53 Batches/s]\n",
            "Inferencing Samples: 100%|██████████| 1/1 [00:00<00:00, 39.65 Batches/s]\n",
            "Inferencing Samples: 100%|██████████| 1/1 [00:00<00:00, 44.75 Batches/s]\n",
            "Inferencing Samples: 100%|██████████| 1/1 [00:00<00:00, 22.94 Batches/s]\n",
            "Inferencing Samples: 100%|██████████| 1/1 [00:00<00:00, 35.92 Batches/s]\n",
            "Inferencing Samples: 100%|██████████| 1/1 [00:00<00:00, 32.12 Batches/s]\n",
            "Inferencing Samples: 100%|██████████| 1/1 [00:00<00:00, 39.61 Batches/s]\n"
          ]
        }
      ],
      "source": [
        "wiki_docs = { row['id']:\n",
        "          Document(\n",
        "              content=row['text'],\n",
        "              meta=dict(\n",
        "                  id=row['id'],\n",
        "              )\n",
        "          )\n",
        "          for idx, row in wiki_df.iterrows()\n",
        "}\n",
        "\n",
        "answers = []\n",
        "for i, row in claims_df.iterrows():\n",
        "  rel_docs = wiki_df[wiki_df['id'].isin(row['sources'])]\n",
        "  rel_docs = [\n",
        "      Document(\n",
        "        content=row['text'],\n",
        "        meta=dict(id=row['id'])\n",
        "    )\n",
        "    for idx, row in rel_docs.iterrows()\n",
        "  ]\n",
        "  answers.append(reader.predict(query=row['claim'], documents=rel_docs, top_k=5))"
      ]
    },
    {
      "cell_type": "code",
      "execution_count": null,
      "metadata": {
        "id": "zTad0XB7Dgmw"
      },
      "outputs": [],
      "source": [
        "import itertools\n",
        "\n",
        "extracted_answers = [(claim_answers['query'], [ans.answer for ans in claim_answers['answers']]) for claim_answers in answers]\n",
        "extracted = []\n",
        "for query, extracts in extracted_answers:\n",
        "  claim = claims_df[claims_df['claim'] == query].iloc[0]\n",
        "  for ans, ext in itertools.product(claim['answers'], extracts):\n",
        "      ans = ans.lower()\n",
        "      ext = ext.lower()\n",
        "      if ext in ans or ans in ext:\n",
        "        extracted.append(True)\n",
        "        break\n",
        "  else:\n",
        "    extracted.append(False)\n",
        "\n",
        "claims_df['extracted'] = [ans for _, ans in extracted_answers]\n",
        "claims_df['match'] = extracted\n",
        "claims_df[['claim','answers', 'extracted','match','label']]"
      ]
    },
    {
      "cell_type": "code",
      "execution_count": null,
      "metadata": {
        "colab": {
          "base_uri": "https://localhost:8080/"
        },
        "id": "gV91bWcBDu_I",
        "outputId": "918195d8-d4e6-4bb1-de71-fff99e6b82eb"
      },
      "outputs": [
        {
          "data": {
            "text/plain": [
              "{'n': 20,\n",
              " 'matches': 10,\n",
              " 'accuracy': 0.5,\n",
              " 'cat': {'REFUTES': {'n': 9, 'matches': 4, 'accuracy': 0.4444444444444444},\n",
              "  'SUPPORTS': {'n': 11, 'matches': 6, 'accuracy': 0.5454545454545454}}}"
            ]
          },
          "execution_count": 38,
          "metadata": {},
          "output_type": "execute_result"
        }
      ],
      "source": [
        "def evaluate(df):\n",
        "  assert 'label' in df.columns and 'match' in df.columns, \"Run evaluate() on a DataFrame with `match` and `label` columns\"\n",
        "  cat_res = {}\n",
        "  for cat in df['label'].unique():\n",
        "    partial = df[df['label'] == cat]\n",
        "    n, matches = len(partial), partial['match'].sum()\n",
        "    cat_res[cat] = {\n",
        "        \"n\": n,\n",
        "        \"matches\": matches,\n",
        "        \"accuracy\": matches / n\n",
        "    }\n",
        "  return {\n",
        "      \"n\": len(df),\n",
        "      \"matches\": df['match'].sum(),\n",
        "      \"accuracy\": df['match'].sum() / len(df),\n",
        "      \"cat\": cat_res\n",
        "  }\n",
        "\n",
        "reader_perf = evaluate(claims_df)\n",
        "reader_perf"
      ]
    },
    {
      "cell_type": "markdown",
      "metadata": {
        "id": "NB62fhWx3ON9"
      },
      "source": [
        "## Raw LLM Verification using retrieved documents"
      ]
    },
    {
      "cell_type": "code",
      "execution_count": null,
      "metadata": {
        "id": "u-amB6x63YrM"
      },
      "outputs": [],
      "source": [
        "prompt_queries=['Who is the president of singapore?','What is the GST rate in Singapore?']"
      ]
    },
    {
      "cell_type": "code",
      "execution_count": null,
      "metadata": {
        "colab": {
          "base_uri": "https://localhost:8080/"
        },
        "id": "sFy1nEZTkQny",
        "outputId": "719af2a9-01cf-4c5a-a5df-676fc5d77822"
      },
      "outputs": [
        {
          "name": "stdout",
          "output_type": "stream",
          "text": [
            "Q: Who is the president of singapore?\n",
            "P0: As of my knowledge cutoff in September 2021, the President of Singapore was Halimah Yacob. However, please note that my training data only goes up to that date, and there is a possibility that there may have been a change in leadership since then.</s>\n",
            "Q: What is the GST rate in Singapore?\n",
            "P1: As of my knowledge cutoff in September 2021, the Goods and Services Tax (GST) rate in Singapore is 7%. However, please note that tax laws and rates may change over time, so it's always a good idea to double-check the most up-to-date information from official sources, such as the Singapore Department of Taxation.</s>\n"
          ]
        },
        {
          "data": {
            "text/plain": [
              "['As of my knowledge cutoff in September 2021, the President of Singapore was Halimah Yacob. However, please note that my training data only goes up to that date, and there is a possibility that there may have been a change in leadership since then.</s>',\n",
              " \"As of my knowledge cutoff in September 2021, the Goods and Services Tax (GST) rate in Singapore is 7%. However, please note that tax laws and rates may change over time, so it's always a good idea to double-check the most up-to-date information from official sources, such as the Singapore Department of Taxation.</s>\"]"
            ]
          },
          "execution_count": 57,
          "metadata": {},
          "output_type": "execute_result"
        }
      ],
      "source": [
        "prompt_predictions = []\n",
        "for i, question in enumerate(prompt_queries):\n",
        "  print(\"Q:\", question)\n",
        "  prompt = get_prompt(question)\n",
        "  encoded_input = tokenizer(prompt, return_tensors=\"pt\")\n",
        "  prediction = response_gen(encoded_input.input_ids.to(\"cuda\"))\n",
        "  print(f\"P{i}:\", prediction)\n",
        "  prompt_predictions.append(prediction)\n",
        "prompt_predictions"
      ]
    },
    {
      "cell_type": "code",
      "execution_count": null,
      "metadata": {
        "colab": {
          "base_uri": "https://localhost:8080/"
        },
        "id": "vHOkVkb_g4EN",
        "outputId": "ba59e3aa-aff6-4275-ee10-a408b859a70c"
      },
      "outputs": [
        {
          "name": "stderr",
          "output_type": "stream",
          "text": [
            "2it [00:00, 3938.31it/s]\n",
            "Inferencing Samples: 100%|██████████| 3/3 [00:01<00:00,  1.68 Batches/s]\n"
          ]
        }
      ],
      "source": [
        "retrieved_prompt = query_pipeline.run_batch(\n",
        "      queries=prompt_queries, params={\"Retriever\": {\"top_k\": 10}, \"Reader\": {\"top_k\": 5}}\n",
        "    )"
      ]
    },
    {
      "cell_type": "code",
      "execution_count": null,
      "metadata": {
        "colab": {
          "base_uri": "https://localhost:8080/"
        },
        "id": "7SzDQQ_ugeD-",
        "outputId": "2d2f8b53-ccb7-47c5-c982-f4100fec3eb4"
      },
      "outputs": [
        {
          "data": {
            "text/plain": [
              "['\"SINGAPORE – Former president Halimah Yacob has been conferred the nation’s highest civilian honour, the Order of Temasek (With High Distinction).\\nShe \\nrom Monday (Aug 1) to Tuesday.\\nThe delegation will call on President Halimah Yacob and Prime Minister Lee Hsien Loong, and meet a number of Cabinet mi \\nday, Mr Marcos will be meeting separately with Singapore\\'s President Halimah Yacob and Prime Minister Lee Hsien Loong to discuss key regional and glob \\n\"SINGAPORE - President Halimah Yacob will represent Singapore at the official mourning of United Arab Emirates (UAE) president Khalifa bin Zayed Al Na \\n ordinary members can vote in the elections. This year was to have been Mr Yeoh\\'s last one-year term as president.\\nThe need for the election arose aft ',\n",
              " \"INGAPORE - The goods and services tax (GST) rate will increase from 7 to 9 per cent in two stages - one percentage point each time on Jan 1, 2023 and  \\nat the same time, said Mr Wong. READ MORE:\\xa0Singapore to raise GST from 7% to 9% in two stages in 2023 and 2024 Singapore's personal income tax regime  \\ned for a year from Jan 1, 2023. READ MORE:\\xa0Singapore to raise GST from 7% to 9% in two stages in 2023 and 2024 - The Government will top up $640 milli \\nt of living is already rising.\\nThe GST rate will increase from 7 per cent to 9 per cent in two stages - one percentage point each time on Jan 1 next y \\n of a pinch from the tax hike.\\nThe GST rate will increase from 7 per cent to 9 per cent in two stages - 1\\xa0percentage point each time on Jan 1, 2023 an \"]"
            ]
          },
          "execution_count": 59,
          "metadata": {},
          "output_type": "execute_result"
        }
      ],
      "source": [
        "answers_prompt=[[(a.context) for a in ans] for ans in retrieved_prompt[\"answers\"]]\n",
        "prompt_context = ['\\n'.join([f\"{context} \" for context in ans]) for ans in answers_prompt]\n",
        "prompt_context"
      ]
    },
    {
      "cell_type": "code",
      "execution_count": null,
      "metadata": {
        "id": "9-RbTQbBwopb"
      },
      "outputs": [],
      "source": [
        "def get_prompt_context(question, context,prediction):\n",
        "  prompt = f\"\"\"\n",
        "    Question: {prompt_queries[0]}\n",
        "    Context: {prompt_context[0]}\n",
        "    Answer: The President of Singapore was Halimah Yacob\n",
        "    Given the above question and context, is the answer correct? Please return Yes or No.\n",
        "    Yes\n",
        "\n",
        "    Question:  {prompt_queries[0]}\n",
        "    Context: {prompt_context[0]}\n",
        "    Answer: 'Nicole Seah'\n",
        "    For the above question, is the answer correct? Please return Yes or No.\n",
        "    No\n",
        "\n",
        "    Question: {question}\n",
        "    Context: {context}\n",
        "    Answer: {prediction}\n",
        "    For the above question, is the answer correct? Please return Yes or No.\n",
        "    \"\"\"\n",
        "  return prompt"
      ]
    },
    {
      "cell_type": "code",
      "execution_count": null,
      "metadata": {
        "id": "b2ZRF1iiT12h"
      },
      "outputs": [],
      "source": [
        "# verify the accuracy on ground truth\n",
        "def llm_verify(question,predictions,retrieved):\n",
        "  verify_pred = []\n",
        "  for i in range(len(predictions)):\n",
        "    question = questions[i]\n",
        "    answer = predictions[i]\n",
        "    print(\"Question:\", question)\n",
        "\n",
        "    context_p=[(a.answer) for a in  retrieved[\"answers\"][i]]\n",
        "    context='\\n'.join([f\"{cont} \" for cont in context_p])\n",
        "    print(\"Context:\",context)\n",
        "    print(\"Answer:\", answer)\n",
        "    prompt = get_prompt_context(question, context,answer)\n",
        "    prompt = f\"USER: {prompt}\\nASSISTANT:\"\n",
        "    input = tokenizer(prompt, return_tensors='pt')\n",
        "    input_ids = input[\"input_ids\"].to(\"cuda\")\n",
        "\n",
        "    output = response_gen(input_ids)\n",
        "    print(\"Prediction:\", output)\n",
        "    print('\\n')\n",
        "    verify_pred.append(output)\n",
        "  return verify_pred"
      ]
    },
    {
      "cell_type": "code",
      "execution_count": null,
      "metadata": {
        "colab": {
          "base_uri": "https://localhost:8080/"
        },
        "id": "OZTpo97hvMER",
        "outputId": "24e19ee7-536e-4b58-e857-9ee6050aa3ae"
      },
      "outputs": [
        {
          "name": "stdout",
          "output_type": "stream",
          "text": [
            "Question: Who is the Prime Minister of Singapore?\n",
            "Context: Lee Hsien Loong \n",
            "Lee Hsien Loong \n",
            "Lee Hsien Loong \n",
            "Lee Hsien Loong \n",
            "Lee Hsien Loong \n",
            "Answer: As of my knowledge cut-off in September 2021, the Prime Minister of Singapore was Lee Hsien Loong. However, please note that my training data only goes up to that date, and there is a possibility that there may have been a change in leadership since then.</s>\n",
            "Prediction: Yes</s>\n",
            "\n",
            "\n",
            "Question: What is the top university in Singapore?\n",
            "Context: National University of Singapore \n",
            "Singapore University of Social Sciences \n",
            "National University of Singapore \n",
            "Nanyang Technological University \n",
            "National University of Singapore \n",
            "Answer: There is no definitive answer to this question as it can depend on various factors such as ranking systems, field of study, and personal preferences. However, some of the top universities in Singapore according to various rankings include the National University of Singapore (NUS), the Singapore Management University (SMU), and the Nanyang Technological University (NTU). NUS is consistently ranked as one of the top universities in Asia, and SMU and NTU are also\n",
            "Prediction: Yes</s>\n",
            "\n",
            "\n",
            "Question: What's the climate like in Singapore this time of year?\n",
            "Context: tropical \n",
            "humidity \n",
            "It was indeed disappointing \n",
            "noisy \n",
            "poor weather \n",
            "Answer: As an AI language model, I don't have access to real-time weather information, but I can tell you that the climate in Singapore varies throughout the year due to its equatorial location. Singapore generally has a tropical rainforest climate, with high temperatures and humidity levels year-round.\n",
            "\n",
            "In April, which is typically the beginning of Singapore's summer season, the average temperature ranges from 24°C to 33°C (7\n",
            "Prediction: Yes</s>\n",
            "\n",
            "\n",
            "Question: How does scamming affect victims' mental health in Singapore?\n",
            "Context: The mental toll \n",
            "high anxiety \n",
            "ending their lives \n",
            "scarred into extreme distrust \n",
            "just as damaging \n",
            "Answer: Scamming can have a significant impact on a victim's mental health in Singapore. Victims of scams often experience a range of emotions, including anger, frustration, and fear. They may feel embarrassed or ashamed about falling for the scam and may experience a loss of confidence and self-esteem. In some cases, victims may also experience depression, anxiety, and stress-related illnesses.\n",
            "\n",
            "Scamming can also lead to\n",
            "Prediction: Yes</s>\n",
            "\n",
            "\n",
            "Question: How did Singapore fare against Japan in the recent badminton championship?\n",
            "Context: 3-2 \n",
            "Malaysia were surprisingly off-colour \n",
            "$16.80 fare \n",
            "sixth and second \n",
            "Kazakhstan 5-0 \n",
            "Answer: As of my last knowledge update in September 2021, Singapore has not faced Japan in a recent badminton championship. Singapore's most recent appearance in a major international badminton tournament was at the 2020 Tokyo Olympics, where they did not win any medals. Japan, on the other hand, has a strong badminton scene and has been known to perform well in international competitions. However, I do not have specific information on their performance in recent\n",
            "Prediction: No</s>\n",
            "\n",
            "\n",
            "Question: What's the new scheme for Covid-19 swabs in Singapore?\n",
            "Context: Recovery Grant \n",
            "training and skills upgrading \n",
            "free tests \n",
            "Jobs Support Scheme \n",
            "Jobs and Business Support Package \n",
            "Answer: As of my knowledge cutoff date of September 2021, the COVID-19 swab testing scheme in Singapore involves using polymerase chain reaction (PCR) tests to detect the presence of the SARS-CoV-2 virus in individuals who develop symptoms or have been exposed to a confirmed case.\n",
            "\n",
            "The PCR test involves taking a swab from the back of the nose and throat, which is then sent to a laboratory for analysis.\n",
            "Prediction: Yes</s>\n",
            "\n",
            "\n",
            "Question: What is the focus of Singapore's Budget 2022?\n",
            "Context: longer-term goals \n",
            "longer-term priorities \n",
            "structural unemployment \n",
            "GST hike, higher income tax for top earners and CDC vouchers for all \n",
            "unemployment insurance \n",
            "Answer: The focus of Singapore's Budget 2022, which was unveiled on February 18, 2022, is on supporting businesses and individuals affected by the COVID-19 pandemic, while also positioning Singapore for long-term growth.\n",
            "\n",
            "Key measures announced in the Budget include:\n",
            "\n",
            "1. Enhancements to the Jobs Support Scheme (JSS) to provide more targeted assistance to sectors and business\n",
            "Prediction: Yes</s>\n",
            "\n",
            "\n",
            "Question: What decision did President Halimah Yacob make regarding two drug traffickers?\n",
            "Context: a respite \n",
            "applied to be given life imprisonment \n",
            "The Court of Appeal has dismissed two separate eleventh-hour attempts by a pair of drug traffickers, who were scheduled to hang on Wednesday (Feb 16), to escape their executions \n",
            "pardon \n",
            "death penalty \n",
            "Answer: I'm sorry, but I am not able to provide information about current events or decisions made by specific individuals or organizations. My training data only goes up until 2021, and I am not able to browse the internet for updated information. Is there anything else I can help you with?</s>\n",
            "Prediction: Yes.</s>\n",
            "\n",
            "\n",
            "Question: What's the status of press freedom in Singapore?\n",
            "Context: There is no untrammelled freedom of expression in Singapore \n",
            "160th \n",
            "MOH has made these free \n",
            "it should also not be its sole role \n",
            "freedom to love \n",
            "Answer: As of my knowledge cutoff in September 2021, the status of press freedom in Singapore is relatively stable, although there have been concerns and controversies over the years.\n",
            "\n",
            "Singapore is generally considered to have a free and independent press, with a strong tradition of investigative journalism. The government has a policy of openness and transparency, and there are various media outlets and platforms available for citizens to access diverse viewpoints.\n",
            "\n",
            "However, there have\n",
            "Prediction: Yes.</s>\n",
            "\n",
            "\n",
            "Question: What happened in the police confrontation at Clementi?\n",
            "Context: A man was shot \n",
            "shot \n",
            "shot \n",
            "arrested the man \n",
            "opened fire \n",
            "Answer: The police confrontation at Clementi happened on February 14, 2022, in Singapore. A video of the confrontation, which involved a man and a police officer, went viral on social media. In the video, the man can be seen arguing with the police officer and refusing to comply with his orders.\n",
            "\n",
            "According to reports, the man had been acting erratically and causing a disturbance in the Clementi area. When the police\n",
            "Prediction: Yes.</s>\n",
            "\n",
            "\n",
            "Question: What are the key takeaways from the recent Singapore Airshow?\n",
            "Context: building new homes in Paya Lebar and attracting top talent \n",
            "how it helps to discover pupils' talents \n",
            "Airbus is not only more fuel-efficient, but can be more easily deployed onto alternative routes \n",
            "less impressive numbers \n",
            "strong recovery for flights within domestic markets overseas, as well as strong demand for air cargo transportation \n",
            "Answer: The recent Singapore Airshow, which took place from 14 to 19 February 2023, showcased the latest advancements in the aerospace and defence industries. Some of the key takeaways from the event include:\n",
            "\n",
            "1. Growing interest in electric and hybrid aircraft: The airshow saw the unveiling of several electric and hybrid aircraft, including the Airbus E-Fan X, which is a hybrid\n",
            "Prediction: Yes, the answer is correct.</s>\n",
            "\n",
            "\n",
            "Question: What major tax measures were introduced in Singapore's Budget 2022?\n",
            "Context: GST hike, higher income \n",
            "corporate and personal income taxes, the GST and vehicle quota premiums \n",
            "GST hike, higher income tax for top earners and CDC vouchers for all \n",
            "GST hike, higher income tax for top earners and CDC vouchers for all \n",
            "GST hike, higher income tax \n",
            "Answer: Singapore's Budget 2022 was announced on February 18, 2022, and introduced several tax measures to support businesses and individuals affected by the COVID-19 pandemic, as well as to promote sustainable and inclusive growth. Some of the major tax measures introduced in Budget 2022 include:\n",
            "\n",
            "1. Extension of the COVID-19 Support Grant: The government will extend the COVID-19 Support\n",
            "Prediction: No.</s>\n",
            "\n",
            "\n",
            "Question: What are the updates on the twin murder case in Upper Bukit Timah?\n",
            "Context: investigations are under way \n",
            "new facts came to light during the investigations \n",
            "The Singaporean's first charge - which was for murdering the other twin Ethan Yap E Chern - was amended on Friday.\n",
            "The timing of his alleged murder was changed to between 4.23pm and 6.18pm \n",
            "Investigations into the illicit activities of the three men, aged 30, 32 and 37, are ongoing \n",
            "Traffic updates will also be posted on the ICA's social media pages \n",
            "Answer: I'm sorry, but I am not able to provide information on current events or recent updates. My training data only goes up until 2021, and I am not able to browse the internet for updated information. Is there anything else I can help you with?</s>\n",
            "Prediction: No.</s>\n",
            "\n",
            "\n",
            "Question: What is Singapore's approach to handling the climate crisis as per Budget 2022?\n",
            "Context: quick decisions \n",
            "more ambitious climate goals \n",
            "moving forward steadily into the future \n",
            "using collective resources to build the country and improve the lives of Singaporeans \n",
            "Singapore had set a target of having passenger traffic hit 50 per cent of pre-pandemic levels \n",
            "Answer: Singapore's approach to handling the climate crisis is a key focus in Budget 2022. The government has allocated SGD 1.5 billion (approximately USD 1.1 billion) to support the transition to a low-carbon economy, with a focus on developing clean energy technologies and enhancing energy efficiency.\n",
            "\n",
            "One of the key initiatives in Budget 2022 is the launch of the SGD 5\n",
            "Prediction: Yes</s>\n",
            "\n",
            "\n",
            "Question: What is the goal of the Citizen Archivist initiative in Singapore?\n",
            "Context: make Singapore's history accessible to all \n",
            "eliminate the transmission of hepatitis C \n",
            "made friends \n",
            "to ensure that the toilets are well maintained and clean \n",
            "build a more inclusive local workforce \n",
            "Answer: The goal of the Citizen Archivist initiative in Singapore is to involve the public in the preservation and archiving of the country's historical and cultural heritage. The initiative was launched by the National Library Board of Singapore in 2011 with the aim of empowering the public to contribute to the creation of the National Collection.\n",
            "\n",
            "Citizen Archivists are members of the public who volunteer their time and efforts to help digitize and describe historical documents,\n",
            "Prediction: Yes</s>\n",
            "\n",
            "\n",
            "Question: How did China's economic performance impact Singapore's stock market?\n",
            "Context: positive \n",
            "far from certain \n",
            "considerable \n",
            "Overseas, Shanghai and Hong Kong were both buoyant as China's policy outlook brightened \n",
            "adversely impact export orders \n",
            "Answer: The performance of China's economy has had a significant impact on Singapore's stock market. As Singapore's largest trading partner and a major source of foreign investment, the Chinese economy's growth or slowdown can have a direct impact on Singapore's economy and, in turn, its stock market.\n",
            "\n",
            "When the Chinese economy grows, it tends to boost demand for Singapore's exports, such as electronics and machinery. This, in turn, can lead to\n",
            "Prediction: Yes</s>\n",
            "\n",
            "\n",
            "Question: What is the controversy surrounding the Red Lions name in Singapore?\n",
            "Context: it has since dropped its Red Lions moniker after pressure from military servicemen, the Ministry of Defence and members of the public \n",
            "Pach Ang \n",
            "Covid-19 pandemic \n",
            "poor weather \n",
            "Singapore Armed Forces Parachute Team \n",
            "Answer: The controversy surrounding the Red Lions name in Singapore relates to its association with the former ruling party, the People's Action Party (PAP). The PAP was in power in Singapore for many years and used the red lion as its symbol. However, some people in Singapore have criticized the use of the red lion, saying that it is associated with authoritarianism and a lack of democracy. There have been calls for the government to drop the red l\n",
            "Prediction: Yes</s>\n",
            "\n",
            "\n",
            "Question: How is Lee Kuan Yew remembered in Singapore?\n",
            "Context: first prime minister \n",
            "The greatest Chinese outside the mainland \n",
            "founding prime minister \n",
            "pretty curt\", \n",
            "Mr Lee was more subdued \n",
            "Answer: Lee Kuan Yew, the first Prime Minister of Singapore, is remembered as one of the most important figures in the country's history. He is credited with transforming Singapore from a small, impoverished island nation into a global city and economic powerhouse. He led Singapore through a period of rapid modernization and growth, and is remembered as a visionary leader who was able to navigate the challenges of building a new nation from scratch. Despite his controversial policies and sometimes author\n",
            "Prediction: Yes.</s>\n",
            "\n",
            "\n",
            "Question: How has Singapore's stock market reacted to global economic trends recently?\n",
            "Context: risen, and then fallen down \n",
            "sell-off \n",
            "nearly halved their value \n",
            "mixed \n",
            "waned \n",
            "Answer: Singapore's stock market, also known as the Singapore Exchange (SGX), has been impacted by global economic trends in recent years. Here are some notable reactions:\n",
            "\n",
            "1. COVID-19 pandemic: In 2020, the COVID-19 pandemic caused significant disruptions to global economies, leading to a sharp decline in stock markets around the world. Singapore's stock market was not immune to these fluctuations\n",
            "Prediction: Yes</s>\n",
            "\n",
            "\n",
            "Question: What measures are being taken in Singapore as the dengue peak season approaches?\n",
            "Context: getting rid of mosquito breeding habitats and spraying of insecticides \n",
            "higher penalties \n",
            "heavier penalties \n",
            "SWOs \n",
            "stepping up inspections \n",
            "Answer: As the dengue peak season approaches in Singapore, several measures are being taken to prevent and control the spread of the disease. These measures include:\n",
            "\n",
            "1. Increased surveillance: The government is stepping up its surveillance efforts to detect and respond to any outbreaks early. This includes increased monitoring of mosquito populations and the implementation of targeted mosquito control measures.\n",
            "2. Public education campaigns: The government is conducting public education campaigns\n",
            "Prediction: Yes</s>\n",
            "\n",
            "\n",
            "Question: What is the new themed zone planned for Universal Studios Singapore in 2024, and which attraction will it replace?\n",
            "Context: Minion Land \n",
            "Minion Land \n",
            "Sengkang-Punggol Light Rapid Transit \n",
            "25 one-car trains \n",
            "Madagascar \n",
            "Answer: As of my knowledge cutoff in September 2021, there were no official announcements or details available regarding a new themed zone planned for Universal Studios Singapore in 2024, and which attraction it would replace. Universal Studios Singapore typically releases information about new attractions and themed zones well in advance, so it is possible that new details may become available in the future. However, as an AI language model, I do not have access to real-time\n",
            "Prediction: No.</s>\n",
            "\n",
            "\n",
            "Question: What is the purpose of the recent property tax increase in Singapore as per the ST-UOB panel discussion?\n",
            "Context: taxing wealth \n",
            "taxing wealth \n",
            "the top 7 per cent of owner-occupied residential properties will be affected \n",
            "to build a fairer society \n",
            "to be a wealth tax \n",
            "Answer: As of my knowledge cutoff in September 2021, the recent property tax increase in Singapore was implemented to help fund the country's social and infrastructure programs. The increase was announced in the 2021 Budget and took effect from 2022.\n",
            "\n",
            "According to the ST-UOB panel discussion, the property tax increase is expected to generate additional revenue of around SGD 4 billion annually, which will be used to support\n",
            "Prediction: No.</s>\n",
            "\n",
            "\n",
            "Question: How many people have been arrested and charged in connection with the OCBC phishing scams?\n",
            "Context: Thirteen \n",
            "13 \n",
            "Eight \n",
            "eight \n",
            "230 \n",
            "Answer: As an AI language model, I am unable to provide real-time data or specific numbers on the arrests and charges related to OCBC phishing scams. The most recent information I have access to is up until September 2021, and at that time, there were several arrests and charges related to phishing scams targeting OCBC customers. However, I cannot provide an exact number of how many people have been arrested and charged in connection with these sc\n",
            "Prediction: No.</s>\n",
            "\n",
            "\n",
            "Question: How might the carbon tax hike affect the cost of living for Singaporean households, despite utility rebates?\n",
            "Context: require support \n",
            "neutralised \n",
            "higher costs \n",
            "increase in utility bills \n",
            "increased \n",
            "Answer: The carbon tax hike, which will increase the cost of fossil fuel-based electricity, could potentially affect the cost of living for Singaporean households, despite utility rebates. This is because the carbon tax is passed on to consumers through higher electricity prices, which can increase the cost of living for households that rely on electricity for heating, cooling, and other household needs.\n",
            "\n",
            "However, it's worth noting that the impact of the carbon tax on household\n",
            "Prediction: Yes</s>\n",
            "\n",
            "\n",
            "Question: What do fully vaccinated travelers need to know about Singapore's new border measures?\n",
            "Context: Covid-19 \n",
            "They do not need to head to a hospital \n",
            "they must have remained only in (including any transit stops) one or more of the VTL countries including Indonesia, or a country/region in Category I of the Singapore Ministry of Health's country/region classification \n",
            "All sports can resume \n",
            "All eligible pass holders must produce their long-term pass or in-principle approval letter, as well as proof of vaccination status or exemption for entry into Singapore \n",
            "Answer: As of my knowledge cutoff date of September 2021, fully vaccinated travelers to Singapore were still required to comply with prevailing entry restrictions and quarantine measures.\n",
            "\n",
            "Singapore has implemented a Vaccinated Travel Lane (VTL) program, which allows for quarantine-free entry for fully vaccinated travelers from select countries. However, the list of eligible countries and the entry requirements may change, so it\n",
            "Prediction: No, the answer is not correct. As of my knowledge cutoff date of September 2021, fully vaccinated travelers to Singapore were still required to comply with prevailing entry restrictions and quarantine measures, even if they were traveling through a Vaccinated Travel Lane (VTL) program. The entry requirements may change, so it is always advisable to check the latest information from official sources before traveling.</s>\n",
            "\n",
            "\n",
            "Question: Which sectors could see potential wins and losses from Singapore's 2022 Budget?\n",
            "Context: aviation and tourism \n",
            "Restaurants and food caterers \n",
            "services, wholesale trade, transport and storage, and information and communications \n",
            "property developers and luxury vehicle distributors \n",
            "manufacturing and wholesale trade \n",
            "Answer: The 2022 Budget in Singapore was announced on February 18, 2022, and it contained a range of measures aimed at supporting the economy and the recovery from the COVID-19 pandemic. Some of the key sectors that could see potential wins and losses from the budget include:\n",
            "\n",
            "1. Healthcare: The budget includes increased funding for healthcare, including mental health, to support the sector and address the challenges posed by\n",
            "Prediction: Yes.</s>\n",
            "\n",
            "\n",
            "Question: Has public transport ridership in Singapore returned to pre-pandemic levels?\n",
            "Context: It cannot be a return to business as usual \n",
            "close to pre-pandemic levels \n",
            "air travel quickly returning to pre-Covid-19 levels \n",
            "air travel continues to rebound \n",
            "there are signs that the market is responding \n",
            "Answer: As of my knowledge cutoff in September 2021, public transport ridership in Singapore had not fully returned to pre-pandemic levels. However, it was recovering steadily following the easing of COVID-19 restrictions and the rollout of vaccination efforts.\n",
            "\n",
            "Singapore implemented a number of measures to curb the spread of COVID-19, including limiting the operating hours of public transport to essential services only. As a result, ridership\n",
            "Prediction: Yes.</s>\n",
            "\n",
            "\n",
            "Question: What service allows Singaporeans to receive government payouts from ATMs?\n",
            "Context: GovCash \n",
            "self-service withdrawals \n",
            "Progressive Wage Credit Scheme \n",
            "Matched Retirement Savings Scheme \n",
            "Inland Revenue Authority \n",
            "Answer: In Singapore, the government payouts can be received from ATMs through the Giro System. The Giro System is a nationwide electronic funds transfer system that allows individuals to receive government payouts and other electronic payments directly into their bank accounts or via ATM withdrawals. The system is operated by the Association of Banks in Singapore (ABS) and is used by many banks in Singapore.</s>\n",
            "Prediction: Yes</s>\n",
            "\n",
            "\n",
            "Question: How has the attendance at the Pink Dot event changed since it first started?\n",
            "Context: The number set a new record \n",
            "26,000 \n",
            "Attendance at the event has grown from 2,500 the first time it was held, in 2009, to 26,000 \n",
            "26,000 people had turned up, breaking last year's record of 21,000 \n",
            "positive steps forward towards a more equal and inclusive society \n",
            "Answer: The Pink Dot event is an annual event organized by the LGBTQ+ community in Singapore to promote equality and acceptance towards the LGBTQ+ community. The event has been happening since 2008.\n",
            "\n",
            "According to data provided by the organizers, the attendance at the Pink Dot event has been steadily increasing over the years. In the first few years, the event drew a relatively small crowd, with an estimated attendance of around\n",
            "Prediction: Yes</s>\n",
            "\n",
            "\n"
          ]
        }
      ],
      "source": [
        "verify_preds = llm_verify(questions,predictions,retrieved)"
      ]
    },
    {
      "cell_type": "code",
      "execution_count": null,
      "metadata": {
        "colab": {
          "base_uri": "https://localhost:8080/"
        },
        "id": "Z_2_KJPs6rS1",
        "outputId": "d639adf8-3a9a-4125-82df-dc2ce78c89af"
      },
      "outputs": [
        {
          "name": "stdout",
          "output_type": "stream",
          "text": [
            "Yes</s>\n",
            "Yes</s>\n",
            "Yes</s>\n",
            "Yes</s>\n",
            "No</s>\n",
            "Yes</s>\n",
            "Yes</s>\n",
            "Yes.</s>\n",
            "Yes.</s>\n",
            "Yes.</s>\n",
            "Yes, the answer is correct.</s>\n",
            "No.</s>\n",
            "No.</s>\n",
            "Yes</s>\n",
            "Yes</s>\n",
            "Yes</s>\n",
            "Yes</s>\n",
            "Yes.</s>\n",
            "Yes</s>\n",
            "Yes</s>\n",
            "No.</s>\n",
            "No.</s>\n",
            "No.</s>\n",
            "Yes</s>\n",
            "No, the answer is not correct. As of my knowledge cutoff date of September 2021, fully vaccinated travelers to Singapore were still required to comply with prevailing entry restrictions and quarantine measures, even if they were traveling through a Vaccinated Travel Lane (VTL) program. The entry requirements may change, so it is always advisable to check the latest information from official sources before traveling.</s>\n",
            "Yes.</s>\n",
            "Yes.</s>\n",
            "Yes</s>\n",
            "Yes</s>\n",
            "22\n",
            "0.7586206896551724\n"
          ]
        }
      ],
      "source": [
        "yescount=0\n",
        "for pred in verify_preds:\n",
        "  if('Yes' in pred):\n",
        "    yescount+=1\n",
        "  print(pred)\n",
        "print(yescount)\n",
        "print(yescount/len(questions))"
      ]
    },
    {
      "cell_type": "markdown",
      "metadata": {
        "id": "6Qe17IWv9vln"
      },
      "source": [
        "# Part 3: RAG\n",
        "Using the documents we retrieved, we can augment the pronpt to the LLM to include these documents, which should reduce hallucinations in the generation.\n",
        "\n",
        "We will first test with a prompt adapted from Deepset's [Question Answering prompt](https://prompthub.deepset.ai/?prompt=deepset%2Fquestion-answering)."
      ]
    },
    {
      "cell_type": "code",
      "execution_count": null,
      "metadata": {
        "id": "hckkoIQkgtx8"
      },
      "outputs": [],
      "source": [
        "THRESHOLD = 0.2"
      ]
    },
    {
      "cell_type": "markdown",
      "metadata": {
        "id": "InwSH9jm22f8"
      },
      "source": [
        "## 3.1 Including extacted answers in prompt"
      ]
    },
    {
      "cell_type": "code",
      "execution_count": null,
      "metadata": {
        "id": "MWPkm9E7gFNJ"
      },
      "outputs": [],
      "source": [
        "extracts = [[(a.answer, a.score) for a in ans] for ans in retrieved[\"answers\"]]\n",
        "def get_extract_prompt(answers, query):\n",
        "  context = '\\n'.join([f\"{ans} [{round(score, 2)}]\" for ans, score in answers])\n",
        "  return f\"\"\"Given the context and scores, answer the question in no more than 50 words. Context: {context};\n",
        "Question: {query};\n",
        "Answer:\n",
        "\"\"\""
      ]
    },
    {
      "cell_type": "code",
      "execution_count": null,
      "metadata": {
        "colab": {
          "base_uri": "https://localhost:8080/"
        },
        "id": "LTbW7-yPiPr6",
        "outputId": "4c04dc1e-efb7-4ff6-98c7-15715995533e"
      },
      "outputs": [
        {
          "name": "stdout",
          "output_type": "stream",
          "text": [
            "P0: Lee Hsien Loong is the Prime Minister of Singapore.</s>\n",
            "P1: Based on the given context and scores, it is evident that National University of Singapore is the top university in Singapore with a score of 0.93.</s>\n",
            "P2: The climate in Singapore during the time of year in question is tropical, humid, and often noisy due to the high population density. Poor weather, such as rain or thunderstorms, is also common during this time of year. However, the exact climate can vary depending on the specific location and time of day.</s>\n",
            "P3: Scamming in Singapore has a severe impact on victims' mental health, leading to high anxiety, distrust, and even thoughts of ending their lives. The trauma experienced is comparable to other major life events, such as the death of a loved one or a serious accident.</s>\n",
            "P4: Singapore were dismally outplayed by Japan in the recent badminton championship, with the scores of 3-2, 0.62.</s>\n",
            "P5: The new scheme for Covid-19 swabs in Singapore is the \"Covid-19 Testing Support\" scheme, which provides support for individuals and businesses affected by the pandemic. The scheme includes free testing for eligible individuals, as well as financial support for businesses affected by the pandemic. The \"Covid-19 Testing Support\" scheme is part of the Singaporean government's efforts to curb the spread of the virus and support\n",
            "P6: Budget 2022 focuses on supporting affected businesses, individuals, and families during the COVID-19 pandemic while also laying the groundwork for a robust and inclusive recovery. Key measures include enhancing the Jobs Support Scheme, increasing the Workfare Income Supplement, and providing additional resources to the Community Development Council to help more families in need.</s>\n",
            "P7: President Halimah Yacob has declined to grant clemency to two drug traffickers who were scheduled to be executed on Wednesday (Feb 16). The Court of Appeal has dismissed their eleventh-hour attempts to escape the death penalty.</s>\n",
            "P8: Press freedom in Singapore is limited by the need to maintain religious harmony and social stability, as reflected in its low ranking in the Press Freedom Index. The government has made some attempts to allow more freedom in certain areas, such as allowing more diverse views in public discourse, but it is not the sole responsibility of the government to ensure freedom of expression. The concept of freedom to love is also subject to limitations in Singapore.</s>\n",
            "P9: A police confrontation took place at Clementi, and a man was arrested after being shot. The officer opened fire, and the man was hit. The context provided mentions the man being shot twice before being arrested, with the second shot being the fatal one.</s>\n",
            "P10: The recent Singapore Airshow showcased the latest innovations in the aviation industry, with a focus on sustainability, efficiency, and connectivity. Airbus demonstrated its commitment to reducing carbon emissions with its fuel-efficient aircraft, while highlighting the ease of deployment onto alternative routes. The event also underscored the strong recovery of flights within domestic markets overseas and strong demand for air cargo transportation.</s>\n",
            "P11: \n",
            "* GST hike from 7% to 9%\n",
            "* Higher income tax for top earners\n",
            "* CDC vouchers for all Singaporeans\n",
            "* Vehicle quota premiums\n",
            "* Increased corporate income tax</s>\n",
            "P12: The Singaporean's first charge for murdering the other twin, Ethan Yap E Chern, was amended on Friday. The alleged murder timeline was adjusted from 10:45pm to 10:45am to between 4:23pm and 6:18pm. Investigations into illicit activities of the three men, aged 30, 32, and 37, are ongoing.\n",
            "P13: Singapore's approach to handling the climate crisis as per Budget 2022 is to accelerate the transition to a more sustainable and resilient economy using collective resources, as evidenced by its ambitious climate goals and plans to invest in green technologies and energy transition.</s>\n",
            "P14: The goal of the Citizen Archivist initiative in Singapore is to make the country's history accessible to all by involving the public in the process of digitizing and tagging historical content. This initiative aims to promote a sense of national pride and foster a deeper understanding of Singapore's rich cultural heritage.</s>\n",
            "P15: China's economic performance had a significant impact on Singapore's stock market, with the Straits Times Index (STI) surging to a high of 3,185 points in 2019, as investors viewed the country's economic growth as a positive sign. However, the impact was not uniform, with some sectors faring better than others.</s>\n",
            "P16: The Red Lions name has been dropped by the Singapore Armed Forces Parachute Team after pressure from the Ministry of Defence and military servicemen. The name was also seen as disrespectful to those who have lost their lives in the Covid-19 pandemic</s>\n",
            "P17: Lee Kuan Yew, Singapore's founding prime minister, is remembered as a charismatic leader who transformed the country from a British colony to a global city-state. Despite his authoritarian rule and controversial policies, he is widely regarded as a national hero who leaves a lasting legacy on the island.</s>\n",
            "P18: The recent global economic trends have had a mixed impact on Singapore's stock market. While some sectors have risen, others have fallen, resulting in a waning of overall market activity.</s>\n",
            "P19: As the dengue peak season approaches in Singapore, the government is taking various measures to prevent an outbreak. These measures include:\n",
            "\n",
            "* Eliminating mosquito breeding habitats\n",
            "* Spraying of insecticides\n",
            "* Increased penalties for those who fail to remove standing water in their premises\n",
            "* Heavier penalties for those who commit dengue-related offenses\n",
            "* Increased enforcement efforts through special operations (SWOs)\n",
            "P20: The new themed zone planned for Universal Studios Singapore in 2024 is Minion Land. It will replace the Sengkang-Punggol Light Rapid Transit attraction.</s>\n",
            "P21: \n",
            "The recent property tax increase in Singapore was implemented to tax the wealth of the top 7% of owner-occupied residential properties, as part of the government's efforts to build a fairer society.</s>\n",
            "P22: The number of people arrested and charged in connection with the OCBC phishing scams is not specified in the given context.</s>\n",
            "P23: The carbon tax hike may increase utility bills for Singaporean households, which could offset the benefits of the utility rebates. Additionally, higher costs of production and transportation may also lead to increased prices for goods and services, further impacting the cost of living.</s>\n",
            "P24: Fully vaccinated travelers from VTL countries, including Indonesia, no longer need to take COVID-19 tests before departure or upon arrival in Singapore. They only need to take a self-test on the second day after arrival. They also need to produce their long-term pass or in-principle approval letter, as well as proof of vaccination status or exemption for entry into Singapore. All sports can resume, and travelers can explore\n",
            "P25: Potential winners from Singapore's 2022 Budget include sectors with increased spending, such as aviation, tourism, and food catering, as well as property developers and luxury vehicle distributors. Potential losers include manufacturing and wholesale trade, and services, wholesale trade, transport and storage, as these sectors face increased competition from foreign companies due to Singapore's free trade agreements.</s>\n",
            "P26: In Singapore, public transport ridership has not returned to pre-pandemic levels, despite signs of market response. The scores indicate that it is not a return to business as usual, but rather a rebound in air travel.</s>\n",
            "P27: GovCash allows Singaporeans to receive government payouts from ATMs.</s>\n",
            "P28: Attendance at the Pink Dot event has grown from 2,500 in 2009 to 26,000 in 2022, with a new record set at 26,000 in 2022. The event has seen positive steps forward towards a more equal and inclusive society.</s>\n"
          ]
        }
      ],
      "source": [
        "rag_preds = []\n",
        "for i, question in enumerate(questions):\n",
        "  prediction = run(get_extract_prompt(extracts[i], question))\n",
        "  print(f\"P{i}: {prediction}\")\n",
        "  rag_preds.append(prediction)"
      ]
    },
    {
      "cell_type": "code",
      "execution_count": null,
      "metadata": {
        "id": "Zz1Eqi0ZkoVp"
      },
      "outputs": [],
      "source": [
        "extract_df = pd.DataFrame(rag_preds, columns=[\"prediction\"])\n",
        "extract_df.to_csv(\"extract_pred.csv\")"
      ]
    },
    {
      "cell_type": "code",
      "execution_count": null,
      "metadata": {
        "colab": {
          "base_uri": "https://localhost:8080/"
        },
        "id": "aWNDB2U92aOz",
        "outputId": "c5faf2f8-8bac-4155-ee2a-07527c5e4202"
      },
      "outputs": [
        {
          "name": "stdout",
          "output_type": "stream",
          "text": [
            "BLEU Score: {'bleu': 0.04219281447713865, 'precisions': [0.1978021978021978, 0.07147862648913805, 0.027896995708154508, 0.008035062089116142], 'brevity_penalty': 1.0, 'length_ratio': 2.24, 'translation_length': 1456, 'reference_length': 650}\n"
          ]
        }
      ],
      "source": [
        "bleu_score_extract = bleu.compute(predictions=rag_preds, references=ground_truth)\n",
        "print(f\"BLEU Score: {bleu_score_extract}\")"
      ]
    },
    {
      "cell_type": "code",
      "execution_count": null,
      "metadata": {
        "colab": {
          "base_uri": "https://localhost:8080/"
        },
        "id": "em4oAJM93Qtb",
        "outputId": "c5e2bc36-7bd7-42f5-c909-11067cc08f0a"
      },
      "outputs": [
        {
          "name": "stdout",
          "output_type": "stream",
          "text": [
            "BERTScore: 0.8696816481392959\n"
          ]
        }
      ],
      "source": [
        "bert_score_extract = bertscore.compute(predictions=rag_preds, references=ground_truth, lang=\"en\")\n",
        "print(f\"BERTScore: {np.mean(bert_score_extract['precision'])}\")"
      ]
    },
    {
      "cell_type": "code",
      "execution_count": null,
      "metadata": {
        "colab": {
          "base_uri": "https://localhost:8080/"
        },
        "id": "UohdeENojS-T",
        "outputId": "c9dc4858-7b27-461d-e63c-d621e8eb2c25"
      },
      "outputs": [
        {
          "name": "stdout",
          "output_type": "stream",
          "text": [
            "METEORScore: {'meteor': 0.3314129655223445}\n"
          ]
        }
      ],
      "source": [
        "meteor_score = meteor.compute(predictions=rag_preds, references=ground_truth)\n",
        "print(f\"METEORScore: {meteor_score}\")"
      ]
    },
    {
      "cell_type": "code",
      "execution_count": null,
      "metadata": {
        "colab": {
          "base_uri": "https://localhost:8080/"
        },
        "id": "3mJgcy04Tlrs",
        "outputId": "2d01024c-aa7b-453b-993a-cc4d4f865c46"
      },
      "outputs": [
        {
          "name": "stdout",
          "output_type": "stream",
          "text": [
            "Question: Who is the Prime Minister of Singapore?\n",
            "Context: Lee Hsien Loong \n",
            "Lee Hsien Loong \n",
            "Lee Hsien Loong \n",
            "Lee Hsien Loong \n",
            "Lee Hsien Loong \n",
            "Answer: Lee Hsien Loong is the Prime Minister of Singapore.</s>\n",
            "Prediction: Yes.</s>\n",
            "\n",
            "\n",
            "Question: What is the top university in Singapore?\n",
            "Context: National University of Singapore \n",
            "Singapore University of Social Sciences \n",
            "National University of Singapore \n",
            "Nanyang Technological University \n",
            "National University of Singapore \n",
            "Answer: Based on the given context and scores, it is evident that National University of Singapore is the top university in Singapore with a score of 0.93.</s>\n",
            "Prediction: Yes</s>\n",
            "\n",
            "\n",
            "Question: What's the climate like in Singapore this time of year?\n",
            "Context: tropical \n",
            "humidity \n",
            "It was indeed disappointing \n",
            "noisy \n",
            "poor weather \n",
            "Answer: The climate in Singapore during the time of year in question is tropical, humid, and often noisy due to the high population density. Poor weather, such as rain or thunderstorms, is also common during this time of year. However, the exact climate can vary depending on the specific location and time of day.</s>\n",
            "Prediction: Yes</s>\n",
            "\n",
            "\n",
            "Question: How does scamming affect victims' mental health in Singapore?\n",
            "Context: The mental toll \n",
            "high anxiety \n",
            "ending their lives \n",
            "scarred into extreme distrust \n",
            "just as damaging \n",
            "Answer: Scamming in Singapore has a severe impact on victims' mental health, leading to high anxiety, distrust, and even thoughts of ending their lives. The trauma experienced is comparable to other major life events, such as the death of a loved one or a serious accident.</s>\n",
            "Prediction: Yes.</s>\n",
            "\n",
            "\n",
            "Question: How did Singapore fare against Japan in the recent badminton championship?\n",
            "Context: 3-2 \n",
            "Malaysia were surprisingly off-colour \n",
            "$16.80 fare \n",
            "sixth and second \n",
            "Kazakhstan 5-0 \n",
            "Answer: Singapore were dismally outplayed by Japan in the recent badminton championship, with the scores of 3-2, 0.62.</s>\n",
            "Prediction: Yes.</s>\n",
            "\n",
            "\n",
            "Question: What's the new scheme for Covid-19 swabs in Singapore?\n",
            "Context: Recovery Grant \n",
            "training and skills upgrading \n",
            "free tests \n",
            "Jobs Support Scheme \n",
            "Jobs and Business Support Package \n",
            "Answer: The new scheme for Covid-19 swabs in Singapore is the \"Covid-19 Testing Support\" scheme, which provides support for individuals and businesses affected by the pandemic. The scheme includes free testing for eligible individuals, as well as financial support for businesses affected by the pandemic. The \"Covid-19 Testing Support\" scheme is part of the Singaporean government's efforts to curb the spread of the virus and support\n",
            "Prediction: Yes</s>\n",
            "\n",
            "\n",
            "Question: What is the focus of Singapore's Budget 2022?\n",
            "Context: longer-term goals \n",
            "longer-term priorities \n",
            "structural unemployment \n",
            "GST hike, higher income tax for top earners and CDC vouchers for all \n",
            "unemployment insurance \n",
            "Answer: Budget 2022 focuses on supporting affected businesses, individuals, and families during the COVID-19 pandemic while also laying the groundwork for a robust and inclusive recovery. Key measures include enhancing the Jobs Support Scheme, increasing the Workfare Income Supplement, and providing additional resources to the Community Development Council to help more families in need.</s>\n",
            "Prediction: Yes</s>\n",
            "\n",
            "\n",
            "Question: What decision did President Halimah Yacob make regarding two drug traffickers?\n",
            "Context: a respite \n",
            "applied to be given life imprisonment \n",
            "The Court of Appeal has dismissed two separate eleventh-hour attempts by a pair of drug traffickers, who were scheduled to hang on Wednesday (Feb 16), to escape their executions \n",
            "pardon \n",
            "death penalty \n",
            "Answer: President Halimah Yacob has declined to grant clemency to two drug traffickers who were scheduled to be executed on Wednesday (Feb 16). The Court of Appeal has dismissed their eleventh-hour attempts to escape the death penalty.</s>\n",
            "Prediction: Yes.</s>\n",
            "\n",
            "\n",
            "Question: What's the status of press freedom in Singapore?\n",
            "Context: There is no untrammelled freedom of expression in Singapore \n",
            "160th \n",
            "MOH has made these free \n",
            "it should also not be its sole role \n",
            "freedom to love \n",
            "Answer: Press freedom in Singapore is limited by the need to maintain religious harmony and social stability, as reflected in its low ranking in the Press Freedom Index. The government has made some attempts to allow more freedom in certain areas, such as allowing more diverse views in public discourse, but it is not the sole responsibility of the government to ensure freedom of expression. The concept of freedom to love is also subject to limitations in Singapore.</s>\n",
            "Prediction: Yes.</s>\n",
            "\n",
            "\n",
            "Question: What happened in the police confrontation at Clementi?\n",
            "Context: A man was shot \n",
            "shot \n",
            "shot \n",
            "arrested the man \n",
            "opened fire \n",
            "Answer: A police confrontation took place at Clementi, and a man was arrested after being shot. The officer opened fire, and the man was hit. The context provided mentions the man being shot twice before being arrested, with the second shot being the fatal one.</s>\n",
            "Prediction: Yes</s>\n",
            "\n",
            "\n",
            "Question: What are the key takeaways from the recent Singapore Airshow?\n",
            "Context: building new homes in Paya Lebar and attracting top talent \n",
            "how it helps to discover pupils' talents \n",
            "Airbus is not only more fuel-efficient, but can be more easily deployed onto alternative routes \n",
            "less impressive numbers \n",
            "strong recovery for flights within domestic markets overseas, as well as strong demand for air cargo transportation \n",
            "Answer: The recent Singapore Airshow showcased the latest innovations in the aviation industry, with a focus on sustainability, efficiency, and connectivity. Airbus demonstrated its commitment to reducing carbon emissions with its fuel-efficient aircraft, while highlighting the ease of deployment onto alternative routes. The event also underscored the strong recovery of flights within domestic markets overseas and strong demand for air cargo transportation.</s>\n",
            "Prediction: Yes, the answer is correct.</s>\n",
            "\n",
            "\n",
            "Question: What major tax measures were introduced in Singapore's Budget 2022?\n",
            "Context: GST hike, higher income \n",
            "corporate and personal income taxes, the GST and vehicle quota premiums \n",
            "GST hike, higher income tax for top earners and CDC vouchers for all \n",
            "GST hike, higher income tax for top earners and CDC vouchers for all \n",
            "GST hike, higher income tax \n",
            "Answer: \n",
            "* GST hike from 7% to 9%\n",
            "* Higher income tax for top earners\n",
            "* CDC vouchers for all Singaporeans\n",
            "* Vehicle quota premiums\n",
            "* Increased corporate income tax</s>\n",
            "Prediction: Yes</s>\n",
            "\n",
            "\n",
            "Question: What are the updates on the twin murder case in Upper Bukit Timah?\n",
            "Context: investigations are under way \n",
            "new facts came to light during the investigations \n",
            "The Singaporean's first charge - which was for murdering the other twin Ethan Yap E Chern - was amended on Friday.\n",
            "The timing of his alleged murder was changed to between 4.23pm and 6.18pm \n",
            "Investigations into the illicit activities of the three men, aged 30, 32 and 37, are ongoing \n",
            "Traffic updates will also be posted on the ICA's social media pages \n",
            "Answer: The Singaporean's first charge for murdering the other twin, Ethan Yap E Chern, was amended on Friday. The alleged murder timeline was adjusted from 10:45pm to 10:45am to between 4:23pm and 6:18pm. Investigations into illicit activities of the three men, aged 30, 32, and 37, are ongoing.\n",
            "Prediction: Yes.</s>\n",
            "\n",
            "\n",
            "Question: What is Singapore's approach to handling the climate crisis as per Budget 2022?\n",
            "Context: quick decisions \n",
            "more ambitious climate goals \n",
            "moving forward steadily into the future \n",
            "using collective resources to build the country and improve the lives of Singaporeans \n",
            "Singapore had set a target of having passenger traffic hit 50 per cent of pre-pandemic levels \n",
            "Answer: Singapore's approach to handling the climate crisis as per Budget 2022 is to accelerate the transition to a more sustainable and resilient economy using collective resources, as evidenced by its ambitious climate goals and plans to invest in green technologies and energy transition.</s>\n",
            "Prediction: Yes</s>\n",
            "\n",
            "\n",
            "Question: What is the goal of the Citizen Archivist initiative in Singapore?\n",
            "Context: make Singapore's history accessible to all \n",
            "eliminate the transmission of hepatitis C \n",
            "made friends \n",
            "to ensure that the toilets are well maintained and clean \n",
            "build a more inclusive local workforce \n",
            "Answer: The goal of the Citizen Archivist initiative in Singapore is to make the country's history accessible to all by involving the public in the process of digitizing and tagging historical content. This initiative aims to promote a sense of national pride and foster a deeper understanding of Singapore's rich cultural heritage.</s>\n",
            "Prediction: Yes</s>\n",
            "\n",
            "\n",
            "Question: How did China's economic performance impact Singapore's stock market?\n",
            "Context: positive \n",
            "far from certain \n",
            "considerable \n",
            "Overseas, Shanghai and Hong Kong were both buoyant as China's policy outlook brightened \n",
            "adversely impact export orders \n",
            "Answer: China's economic performance had a significant impact on Singapore's stock market, with the Straits Times Index (STI) surging to a high of 3,185 points in 2019, as investors viewed the country's economic growth as a positive sign. However, the impact was not uniform, with some sectors faring better than others.</s>\n",
            "Prediction: Yes</s>\n",
            "\n",
            "\n",
            "Question: What is the controversy surrounding the Red Lions name in Singapore?\n",
            "Context: it has since dropped its Red Lions moniker after pressure from military servicemen, the Ministry of Defence and members of the public \n",
            "Pach Ang \n",
            "Covid-19 pandemic \n",
            "poor weather \n",
            "Singapore Armed Forces Parachute Team \n",
            "Answer: The Red Lions name has been dropped by the Singapore Armed Forces Parachute Team after pressure from the Ministry of Defence and military servicemen. The name was also seen as disrespectful to those who have lost their lives in the Covid-19 pandemic</s>\n",
            "Prediction: Yes</s>\n",
            "\n",
            "\n",
            "Question: How is Lee Kuan Yew remembered in Singapore?\n",
            "Context: first prime minister \n",
            "The greatest Chinese outside the mainland \n",
            "founding prime minister \n",
            "pretty curt\", \n",
            "Mr Lee was more subdued \n",
            "Answer: Lee Kuan Yew, Singapore's founding prime minister, is remembered as a charismatic leader who transformed the country from a British colony to a global city-state. Despite his authoritarian rule and controversial policies, he is widely regarded as a national hero who leaves a lasting legacy on the island.</s>\n",
            "Prediction: Yes.</s>\n",
            "\n",
            "\n",
            "Question: How has Singapore's stock market reacted to global economic trends recently?\n",
            "Context: risen, and then fallen down \n",
            "sell-off \n",
            "nearly halved their value \n",
            "mixed \n",
            "waned \n",
            "Answer: The recent global economic trends have had a mixed impact on Singapore's stock market. While some sectors have risen, others have fallen, resulting in a waning of overall market activity.</s>\n",
            "Prediction: Yes.</s>\n",
            "\n",
            "\n",
            "Question: What measures are being taken in Singapore as the dengue peak season approaches?\n",
            "Context: getting rid of mosquito breeding habitats and spraying of insecticides \n",
            "higher penalties \n",
            "heavier penalties \n",
            "SWOs \n",
            "stepping up inspections \n",
            "Answer: As the dengue peak season approaches in Singapore, the government is taking various measures to prevent an outbreak. These measures include:\n",
            "\n",
            "* Eliminating mosquito breeding habitats\n",
            "* Spraying of insecticides\n",
            "* Increased penalties for those who fail to remove standing water in their premises\n",
            "* Heavier penalties for those who commit dengue-related offenses\n",
            "* Increased enforcement efforts through special operations (SWOs)\n",
            "Prediction: Yes.</s>\n",
            "\n",
            "\n",
            "Question: What is the new themed zone planned for Universal Studios Singapore in 2024, and which attraction will it replace?\n",
            "Context: Minion Land \n",
            "Minion Land \n",
            "Sengkang-Punggol Light Rapid Transit \n",
            "25 one-car trains \n",
            "Madagascar \n",
            "Answer: The new themed zone planned for Universal Studios Singapore in 2024 is Minion Land. It will replace the Sengkang-Punggol Light Rapid Transit attraction.</s>\n",
            "Prediction: Yes.</s>\n",
            "\n",
            "\n",
            "Question: What is the purpose of the recent property tax increase in Singapore as per the ST-UOB panel discussion?\n",
            "Context: taxing wealth \n",
            "taxing wealth \n",
            "the top 7 per cent of owner-occupied residential properties will be affected \n",
            "to build a fairer society \n",
            "to be a wealth tax \n",
            "Answer: \n",
            "The recent property tax increase in Singapore was implemented to tax the wealth of the top 7% of owner-occupied residential properties, as part of the government's efforts to build a fairer society.</s>\n",
            "Prediction: Yes.</s>\n",
            "\n",
            "\n",
            "Question: How many people have been arrested and charged in connection with the OCBC phishing scams?\n",
            "Context: Thirteen \n",
            "13 \n",
            "Eight \n",
            "eight \n",
            "230 \n",
            "Answer: The number of people arrested and charged in connection with the OCBC phishing scams is not specified in the given context.</s>\n",
            "Prediction: No.</s>\n",
            "\n",
            "\n",
            "Question: How might the carbon tax hike affect the cost of living for Singaporean households, despite utility rebates?\n",
            "Context: require support \n",
            "neutralised \n",
            "higher costs \n",
            "increase in utility bills \n",
            "increased \n",
            "Answer: The carbon tax hike may increase utility bills for Singaporean households, which could offset the benefits of the utility rebates. Additionally, higher costs of production and transportation may also lead to increased prices for goods and services, further impacting the cost of living.</s>\n",
            "Prediction: Yes</s>\n",
            "\n",
            "\n",
            "Question: What do fully vaccinated travelers need to know about Singapore's new border measures?\n",
            "Context: Covid-19 \n",
            "They do not need to head to a hospital \n",
            "they must have remained only in (including any transit stops) one or more of the VTL countries including Indonesia, or a country/region in Category I of the Singapore Ministry of Health's country/region classification \n",
            "All sports can resume \n",
            "All eligible pass holders must produce their long-term pass or in-principle approval letter, as well as proof of vaccination status or exemption for entry into Singapore \n",
            "Answer: Fully vaccinated travelers from VTL countries, including Indonesia, no longer need to take COVID-19 tests before departure or upon arrival in Singapore. They only need to take a self-test on the second day after arrival. They also need to produce their long-term pass or in-principle approval letter, as well as proof of vaccination status or exemption for entry into Singapore. All sports can resume, and travelers can explore\n",
            "Prediction: No, the answer is not correct. The context provided is not related to the question asked. The context is about a former president of Singapore being conferred the nation’s highest civilian honor, while the question asked is about the current president of Singapore.</s>\n",
            "\n",
            "\n",
            "Question: Which sectors could see potential wins and losses from Singapore's 2022 Budget?\n",
            "Context: aviation and tourism \n",
            "Restaurants and food caterers \n",
            "services, wholesale trade, transport and storage, and information and communications \n",
            "property developers and luxury vehicle distributors \n",
            "manufacturing and wholesale trade \n",
            "Answer: Potential winners from Singapore's 2022 Budget include sectors with increased spending, such as aviation, tourism, and food catering, as well as property developers and luxury vehicle distributors. Potential losers include manufacturing and wholesale trade, and services, wholesale trade, transport and storage, as these sectors face increased competition from foreign companies due to Singapore's free trade agreements.</s>\n",
            "Prediction: Yes</s>\n",
            "\n",
            "\n",
            "Question: Has public transport ridership in Singapore returned to pre-pandemic levels?\n",
            "Context: It cannot be a return to business as usual \n",
            "close to pre-pandemic levels \n",
            "air travel quickly returning to pre-Covid-19 levels \n",
            "air travel continues to rebound \n",
            "there are signs that the market is responding \n",
            "Answer: In Singapore, public transport ridership has not returned to pre-pandemic levels, despite signs of market response. The scores indicate that it is not a return to business as usual, but rather a rebound in air travel.</s>\n",
            "Prediction: No.</s>\n",
            "\n",
            "\n",
            "Question: What service allows Singaporeans to receive government payouts from ATMs?\n",
            "Context: GovCash \n",
            "self-service withdrawals \n",
            "Progressive Wage Credit Scheme \n",
            "Matched Retirement Savings Scheme \n",
            "Inland Revenue Authority \n",
            "Answer: GovCash allows Singaporeans to receive government payouts from ATMs.</s>\n",
            "Prediction: Yes</s>\n",
            "\n",
            "\n",
            "Question: How has the attendance at the Pink Dot event changed since it first started?\n",
            "Context: The number set a new record \n",
            "26,000 \n",
            "Attendance at the event has grown from 2,500 the first time it was held, in 2009, to 26,000 \n",
            "26,000 people had turned up, breaking last year's record of 21,000 \n",
            "positive steps forward towards a more equal and inclusive society \n",
            "Answer: Attendance at the Pink Dot event has grown from 2,500 in 2009 to 26,000 in 2022, with a new record set at 26,000 in 2022. The event has seen positive steps forward towards a more equal and inclusive society.</s>\n",
            "Prediction: Yes</s>\n",
            "\n",
            "\n",
            "Yes.</s>\n",
            "Yes</s>\n",
            "Yes</s>\n",
            "Yes.</s>\n",
            "Yes.</s>\n",
            "Yes</s>\n",
            "Yes</s>\n",
            "Yes.</s>\n",
            "Yes.</s>\n",
            "Yes</s>\n",
            "Yes, the answer is correct.</s>\n",
            "Yes</s>\n",
            "Yes.</s>\n",
            "Yes</s>\n",
            "Yes</s>\n",
            "Yes</s>\n",
            "Yes</s>\n",
            "Yes.</s>\n",
            "Yes.</s>\n",
            "Yes.</s>\n",
            "Yes.</s>\n",
            "Yes.</s>\n",
            "No.</s>\n",
            "Yes</s>\n",
            "No, the answer is not correct. The context provided is not related to the question asked. The context is about a former president of Singapore being conferred the nation’s highest civilian honor, while the question asked is about the current president of Singapore.</s>\n",
            "Yes</s>\n",
            "No.</s>\n",
            "Yes</s>\n",
            "Yes</s>\n",
            "26\n"
          ]
        }
      ],
      "source": [
        "verify_extract_preds=llm_verify(questions,rag_preds,retrieved)\n",
        "yescount=0\n",
        "for pred in verify_extract_preds:\n",
        "  if('Yes' in pred):\n",
        "    yescount+=1\n",
        "  print(pred)\n",
        "print(yescount)"
      ]
    },
    {
      "cell_type": "code",
      "execution_count": null,
      "metadata": {
        "colab": {
          "base_uri": "https://localhost:8080/"
        },
        "id": "JfrEsFHjj-H-",
        "outputId": "083b3eb5-d755-4679-98d8-9f2cc4bcb577"
      },
      "outputs": [
        {
          "name": "stdout",
          "output_type": "stream",
          "text": [
            "0.896551724137931\n"
          ]
        }
      ],
      "source": [
        "print(yescount/len(questions))"
      ]
    },
    {
      "cell_type": "markdown",
      "metadata": {
        "id": "GiTM-smq249m"
      },
      "source": [
        "## 3.2 Including extended context"
      ]
    },
    {
      "cell_type": "code",
      "execution_count": null,
      "metadata": {
        "id": "CfTElUhomgP-"
      },
      "outputs": [],
      "source": [
        "import re\n",
        "contexts = [[(a.context, a.score) for a in ans] for ans in retrieved[\"answers\"]]\n",
        "def get_context_prompt(answers, query):\n",
        "  context = '\\n'.join([f\"{re.escape(ans)} [{round(score, 2)}]\" for ans, score in answers])\n",
        "  return f\"\"\"Given the context and scores, answer the question in 100 words or less. Context: {context};\n",
        "Question: {query};\n",
        "Answer:\n",
        "\"\"\""
      ]
    },
    {
      "cell_type": "code",
      "execution_count": null,
      "metadata": {
        "colab": {
          "base_uri": "https://localhost:8080/"
        },
        "id": "SW0aAyBDnCqo",
        "outputId": "8758b4ca-b7ed-4eeb-c9b4-cf832761f530"
      },
      "outputs": [
        {
          "name": "stdout",
          "output_type": "stream",
          "text": [
            "P0: Prime Minister Lee Hsien Loong of Singapore will be among world leaders attending the state funeral of slain former Japanese premier Shinzo Abe.</s>\n",
            "P1: The top universities in Singapore are the National University of Singapore (NUS) and Nanyang Technological University (NTU).</s>\n",
            "P2: The climate in Singapore this time of year is tropical, with high humidity and warm temperatures. It is a hot and humid climate with average temperatures ranging from 24 to 31 degrees Celsius (75 to 88 degrees Fahrenheit). The island nation is known for its tropical rainforest climate, which is characterized by high levels of rainfall throughout the year.</s>\n",
            "P3: Scamming in Singapore has severe mental health consequences for victims, resulting in depression, anxiety, and trust issues. The risk of suicide is also present in extreme cases. Interviewed victims in 2021 showed signs of mental scars, with some being scarred into extreme distrust. Counsellors highlight the damaging impact on victims' mental state, making it just as significant as the financial loss.</s>\n",
            "P4: Singapore fared poorly against Japan in the recent badminton championship, losing 3-2 in their second Group B match. Despite their earlier win over Singapore and Kazakhstan, Malaysia struggled against a Japanese side lacking top players.</s>\n",
            "P5: The new scheme for Covid-19 swabs in Singapore is the Covid-19 Recovery Grant, which has been extended till the end of this year. The grant provides financial assistance to individuals and companies affected by the pandemic to help them recover and rebuild. The government has also introduced a Jobs and Business Support Package, which will provide $500 million to help small and medium-sized enterprises (SMEs) affected by the pandemic.\n",
            "P6: \n",
            "The focus of Singapore's Budget 2022 is on longer-term goals, with less emphasis on immediate Covid-19 measures, as observed by commentators. The government will continue to manage the budget to address structural issues such as addressing the issue of structural unemployment, given the impact of Covid-19. However, unemployment insurance was not mentioned in the budget, despite being a pressing issue.</s>\n",
            "P7: President Halimah Yacob granted a respite to two drug traffickers who were scheduled to be hanged on February 16, 2016. The respite does not amount to a pardon, and the Court of Appeal has dismissed two separate eleventh-hour attempts by the pair to escape their executions. The lawyers for Roslan and Pausi had filed two eleventh-hour court applications for a\n",
            "P8: Press freedom in Singapore is regulated by laws and the media is not averse to it, but it should not be its sole role. Singapore was ranked 160th in the 2021 World Press Freedom Index by RSF.</s>\n",
            "P9: A man was shot during a confrontation with police officers outside the Clementi Neighbourhood Police Centre in Clementi Avenue 5 on Thursday. The police were responding to a call made by Ms. Ramizah about a knife-wielding man who had outraged her modesty. Mr. Vinodh, a chef at North London College, was in imminent danger from the man and therefore opened fire to protect himself. The police officers ens\n",
            "P10: The recent Singapore Airshow saw a strong recovery in flights within domestic markets overseas and strong demand for air cargo transportation. However, the show had less impressive numbers compared to previous editions and even compared to the 2020 edition, when many big names pulled out due to the COVID-19 pandemic. One of the key takeaways from the show was the discovery of pupils' talents through the Building and Construction Authority's (\n",
            "P11: Singapore's Budget 2022 introduced several major tax measures, including a goods and services tax (GST) hike, higher income tax for top earners, and corporate tax increases for companies with high profits. Additionally, the government is providing cash deductions for businesses hit hard by the pandemic and extending tax relief measures for affected sectors.</s>\n",
            "P12: There are no updates on the twin murder case in Upper Bukit Timah in the given context.</s>\n",
            "P13: Singapore's approach to handling the climate crisis as per Budget 2022 is to invest in sustainable energy solutions and green technologies, while also using collective resources to build the country and improve the lives of its citizens. The government has set ambitious targets to reduce greenhouse gas emissions and increase the use of renewable energy sources. Additionally, the budget has provisions for reskilling workers and mitigating the costs incurred during the\n",
            "P14: The goal of the Citizen Archivist initiative in Singapore is to make the country's history accessible to all by digitizing and uploading old records, photographs, and other historical materials onto an online portal. The initiative aims to provide a platform for citizens to actively contribute to preserving and sharing Singapore's history.</s>\n",
            "P15: China's economic performance positively impacted Singapore's stock market, as China's development is seen as positive for the region, and its growing influence has had a considerable impact on the regional economy. The ongoing growth slowdown and zero-Covid-19 strategy may, however, impact export orders, especially for electronics modules and components. Nonetheless, Shanghai and Hong Kong were buoyant as China's policy outlook brightened, with Shang\n",
            "P16: The Red Lions name in Singapore has been controversial since its inception. The name was chosen by Pach Ang, a veteran commando and Red Beret in the SAF Special Forces unit. However, the name has been a source of contention due to its association with the Japanese military unit, the Red Lanterns, during World War II. Despite this controversy, the team has continued to perform in various events and parades, including the National Day Parade. The\n",
            "P17: Lee Kuan Yew, Singapore's founding prime minister, is remembered as a visionary leader who transformed Singapore from a small fishing village into a global city-state. He is credited with modernizing Singapore's economy, establishing strong governance and social order, and creating a vibrant and multicultural society. Despite his controversial policies and sometimes authoritarian leadership style, Lee Kuan Yew is widely respected and admired in Singapore for his\n",
            "P18: Recently, Singapore's stock market has reacted to global economic trends by experiencing a decrease in value. This is illustrated by the drop in the stock price of the ride-hailing and e-commerce company, which nearly halved its value since its debut on the Nasdaq exchange in December 2021. Additionally, the global sell-off in technology stocks this year and rising inflation have taken a toll on the top 50. Despite\n",
            "P19: As the dengue peak season approaches, Singapore is taking several measures to combat the disease. These include increasing inspections to identify and eliminate mosquito breeding habitats, issuing heavier penalties for households that repeatedly breed mosquitoes or have multiple breeding areas, and stepping up exercises to control and prevent the spread of dengue. Additionally, the National Environment Agency (NEA) will not hesitate to issue Stop Work Orders to ensure that\n",
            "P20: Universal Studios Singapore plans to open a new themed zone called Minion Land, inspired by the Despicable Me film franchise, in 2024. It will replace the existing Madagascar area.</s>\n",
            "P21: The recent property tax increase in Singapore is intended to adjust the property tax system and make it more targeted, with the aim of addressing social inequalities and building a fairer society. The tax change will affect the top 7% of owner-occupied residential properties, while other urban areas will not be affected. The property tax is currently Singapore's principal means of taxing wealth, and the new property tax rates will help to better target the wealthier segments of society.\n",
            "P22: Thirteen people aged between 19 and 22 have been arrested and charged in connection with the OCBC phishing scams.</s>\n",
            "P23: The carbon tax hike may result in an increased cost of living for Singaporean households, as businesses may pass on the higher costs to customers in the form of higher prices for goods and services. This could be exacerbated if businesses decide to absorb the increased costs rather than take advantage of the utility rebates offered. The impact of the carbon tax on the cost of living will depend on how businesses react to the increased tax burden and whether they decide to pass on the\n",
            "P24: Singapore has introduced Vaccinated Travel Lane (VTL) scheme for fully vaccinated travelers, allowing them to enter Singapore without serving quarantine. Fully vaccinated travelers must have remained in one or more of the VTL countries, including Indonesia, or a country/region in Category I of the Singapore Ministry of Health's country/region classification, and must have no underlying health risks. They do not need to head to a hospital\n",
            "P25: Potential wins could include support for sectors still under stress, such as aviation and tourism, as well as stocks such as grocers Sheng Siong and Dairy Farm, restaurants and food caterers like Jumbo Group and Kimly, performance from sectors such as services, wholesale trade, transport and storage, and information and communications, and continued growth in outward-oriented sectors like manufacturing and wholesale trade\n",
            "P26: Public transport ridership in Singapore has returned to pre-pandemic levels, with more than 70% capacity utilization, according to the CAAS director-general Han Kok Juan. Air travel is also quickly returning to pre-Covid-19 levels, with estimates suggesting that it will reach that milestone by 2023. Additionally, Changi Airport will reopen its airport workers during the pandemic and bring in the remaining 800 tra\n",
            "P27: A new service called GovCash, launched by the Central Provident Fund (CPF) Board in collaboration with the Inland Revenue Authority of Singapore, allows Singaporeans to receive government payouts from ATMs quickly and conveniently. This service enables self-service withdrawals from ATMs in a secure manner. The Progressive Wage Credit Scheme and Workfare, launched last year, will first run for five years and provide eligible members with up\n",
            "P28: The Pink Dot event has seen a significant increase in attendance since it first started in 2009. The event had 2,500 attendees in its first year, but last year saw a turnout of 26,000 people. This year's event broke the record set last year with a turnout of 27,000 people. Despite the positive growth in attendance, the LGBT community still faces\n"
          ]
        }
      ],
      "source": [
        "rag_context_preds = []\n",
        "for i, question in enumerate(questions):\n",
        "  prediction = run(get_context_prompt(contexts[i], question))\n",
        "  print(f\"P{i}: {prediction}\")\n",
        "  rag_context_preds.append(prediction)"
      ]
    },
    {
      "cell_type": "code",
      "execution_count": null,
      "metadata": {
        "id": "TvjDkZnOp5rM"
      },
      "outputs": [],
      "source": [
        "context_df = pd.DataFrame(rag_context_preds, columns=[\"prediction\"])\n",
        "context_df.to_csv(\"context_pred.csv\")"
      ]
    },
    {
      "cell_type": "code",
      "execution_count": null,
      "metadata": {
        "id": "R9Ei-N9S42kS"
      },
      "outputs": [],
      "source": [
        "# df=pd.read_csv('context_pred.csv')\n",
        "# rag_context_preds=df['prediction']"
      ]
    },
    {
      "cell_type": "code",
      "execution_count": null,
      "metadata": {
        "colab": {
          "base_uri": "https://localhost:8080/"
        },
        "id": "Y1qKuZTf5LV0",
        "outputId": "15b27adf-462f-429e-e8bf-167811f3e903"
      },
      "outputs": [
        {
          "name": "stdout",
          "output_type": "stream",
          "text": [
            "BLEU Score: {'bleu': 0.053586550078384455, 'precisions': [0.18905742145178764, 0.07374793615850303, 0.03355704697986577, 0.01762364980102331], 'brevity_penalty': 1.0, 'length_ratio': 2.84, 'translation_length': 1846, 'reference_length': 650}\n"
          ]
        }
      ],
      "source": [
        "bleu_score_context = bleu.compute(predictions=rag_context_preds, references=ground_truth)\n",
        "print(f\"BLEU Score: {bleu_score_context}\")"
      ]
    },
    {
      "cell_type": "code",
      "execution_count": null,
      "metadata": {
        "colab": {
          "base_uri": "https://localhost:8080/"
        },
        "id": "UrLGmnMc5Vv0",
        "outputId": "4ef74915-fc7f-4e43-8c8e-05d510d5f386"
      },
      "outputs": [
        {
          "name": "stdout",
          "output_type": "stream",
          "text": [
            "BERTScore: 0.8656172115227272\n"
          ]
        }
      ],
      "source": [
        "bert_score_context = bertscore.compute(predictions=rag_context_preds, references=ground_truth, lang=\"en\")\n",
        "print(f\"BERTScore: {np.mean(bert_score_context['precision'])}\")"
      ]
    },
    {
      "cell_type": "code",
      "execution_count": null,
      "metadata": {
        "colab": {
          "base_uri": "https://localhost:8080/"
        },
        "id": "wBsayNpuimpE",
        "outputId": "cbe34732-9b70-46d0-bf36-efb5fd89a0fc"
      },
      "outputs": [
        {
          "name": "stdout",
          "output_type": "stream",
          "text": [
            "METEORScore: {'meteor': 0.3585276841136787}\n"
          ]
        }
      ],
      "source": [
        "meteor_score = meteor.compute(predictions=rag_context_preds, references=ground_truth)\n",
        "print(f\"METEORScore: {meteor_score}\")"
      ]
    },
    {
      "cell_type": "code",
      "execution_count": null,
      "metadata": {
        "colab": {
          "base_uri": "https://localhost:8080/"
        },
        "id": "L9XIb94WYunz",
        "outputId": "697e83ba-3cbe-4708-f723-f140af7a01b3"
      },
      "outputs": [
        {
          "name": "stdout",
          "output_type": "stream",
          "text": [
            "Question: Who is the Prime Minister of Singapore?\n",
            "Context: Lee Hsien Loong \n",
            "Lee Hsien Loong \n",
            "Lee Hsien Loong \n",
            "Lee Hsien Loong \n",
            "Lee Hsien Loong \n",
            "Answer: Prime Minister Lee Hsien Loong of Singapore will be among world leaders attending the state funeral of slain former Japanese premier Shinzo Abe.</s>\n",
            "Prediction: Yes</s>\n",
            "\n",
            "\n",
            "Question: What is the top university in Singapore?\n",
            "Context: National University of Singapore \n",
            "Singapore University of Social Sciences \n",
            "National University of Singapore \n",
            "Nanyang Technological University \n",
            "National University of Singapore \n",
            "Answer: The top universities in Singapore are the National University of Singapore (NUS) and Nanyang Technological University (NTU).</s>\n",
            "Prediction: No.</s>\n",
            "\n",
            "\n",
            "Question: What's the climate like in Singapore this time of year?\n",
            "Context: tropical \n",
            "humidity \n",
            "It was indeed disappointing \n",
            "noisy \n",
            "poor weather \n",
            "Answer: The climate in Singapore this time of year is tropical, with high humidity and warm temperatures. It is a hot and humid climate with average temperatures ranging from 24 to 31 degrees Celsius (75 to 88 degrees Fahrenheit). The island nation is known for its tropical rainforest climate, which is characterized by high levels of rainfall throughout the year.</s>\n",
            "Prediction: Yes</s>\n",
            "\n",
            "\n",
            "Question: How does scamming affect victims' mental health in Singapore?\n",
            "Context: The mental toll \n",
            "high anxiety \n",
            "ending their lives \n",
            "scarred into extreme distrust \n",
            "just as damaging \n",
            "Answer: Scamming in Singapore has severe mental health consequences for victims, resulting in depression, anxiety, and trust issues. The risk of suicide is also present in extreme cases. Interviewed victims in 2021 showed signs of mental scars, with some being scarred into extreme distrust. Counsellors highlight the damaging impact on victims' mental state, making it just as significant as the financial loss.</s>\n",
            "Prediction: Yes.</s>\n",
            "\n",
            "\n",
            "Question: How did Singapore fare against Japan in the recent badminton championship?\n",
            "Context: 3-2 \n",
            "Malaysia were surprisingly off-colour \n",
            "$16.80 fare \n",
            "sixth and second \n",
            "Kazakhstan 5-0 \n",
            "Answer: Singapore fared poorly against Japan in the recent badminton championship, losing 3-2 in their second Group B match. Despite their earlier win over Singapore and Kazakhstan, Malaysia struggled against a Japanese side lacking top players.</s>\n",
            "Prediction: Yes</s>\n",
            "\n",
            "\n",
            "Question: What's the new scheme for Covid-19 swabs in Singapore?\n",
            "Context: Recovery Grant \n",
            "training and skills upgrading \n",
            "free tests \n",
            "Jobs Support Scheme \n",
            "Jobs and Business Support Package \n",
            "Answer: The new scheme for Covid-19 swabs in Singapore is the Covid-19 Recovery Grant, which has been extended till the end of this year. The grant provides financial assistance to individuals and companies affected by the pandemic to help them recover and rebuild. The government has also introduced a Jobs and Business Support Package, which will provide $500 million to help small and medium-sized enterprises (SMEs) affected by the pandemic.\n",
            "Prediction: Yes.</s>\n",
            "\n",
            "\n",
            "Question: What is the focus of Singapore's Budget 2022?\n",
            "Context: longer-term goals \n",
            "longer-term priorities \n",
            "structural unemployment \n",
            "GST hike, higher income tax for top earners and CDC vouchers for all \n",
            "unemployment insurance \n",
            "Answer: \n",
            "The focus of Singapore's Budget 2022 is on longer-term goals, with less emphasis on immediate Covid-19 measures, as observed by commentators. The government will continue to manage the budget to address structural issues such as addressing the issue of structural unemployment, given the impact of Covid-19. However, unemployment insurance was not mentioned in the budget, despite being a pressing issue.</s>\n",
            "Prediction: Yes</s>\n",
            "\n",
            "\n",
            "Question: What decision did President Halimah Yacob make regarding two drug traffickers?\n",
            "Context: a respite \n",
            "applied to be given life imprisonment \n",
            "The Court of Appeal has dismissed two separate eleventh-hour attempts by a pair of drug traffickers, who were scheduled to hang on Wednesday (Feb 16), to escape their executions \n",
            "pardon \n",
            "death penalty \n",
            "Answer: President Halimah Yacob granted a respite to two drug traffickers who were scheduled to be hanged on February 16, 2016. The respite does not amount to a pardon, and the Court of Appeal has dismissed two separate eleventh-hour attempts by the pair to escape their executions. The lawyers for Roslan and Pausi had filed two eleventh-hour court applications for a\n",
            "Prediction: Yes</s>\n",
            "\n",
            "\n",
            "Question: What's the status of press freedom in Singapore?\n",
            "Context: There is no untrammelled freedom of expression in Singapore \n",
            "160th \n",
            "MOH has made these free \n",
            "it should also not be its sole role \n",
            "freedom to love \n",
            "Answer: Press freedom in Singapore is regulated by laws and the media is not averse to it, but it should not be its sole role. Singapore was ranked 160th in the 2021 World Press Freedom Index by RSF.</s>\n",
            "Prediction: Yes.</s>\n",
            "\n",
            "\n",
            "Question: What happened in the police confrontation at Clementi?\n",
            "Context: A man was shot \n",
            "shot \n",
            "shot \n",
            "arrested the man \n",
            "opened fire \n",
            "Answer: A man was shot during a confrontation with police officers outside the Clementi Neighbourhood Police Centre in Clementi Avenue 5 on Thursday. The police were responding to a call made by Ms. Ramizah about a knife-wielding man who had outraged her modesty. Mr. Vinodh, a chef at North London College, was in imminent danger from the man and therefore opened fire to protect himself. The police officers ens\n",
            "Prediction: No.</s>\n",
            "\n",
            "\n",
            "Question: What are the key takeaways from the recent Singapore Airshow?\n",
            "Context: building new homes in Paya Lebar and attracting top talent \n",
            "how it helps to discover pupils' talents \n",
            "Airbus is not only more fuel-efficient, but can be more easily deployed onto alternative routes \n",
            "less impressive numbers \n",
            "strong recovery for flights within domestic markets overseas, as well as strong demand for air cargo transportation \n",
            "Answer: The recent Singapore Airshow saw a strong recovery in flights within domestic markets overseas and strong demand for air cargo transportation. However, the show had less impressive numbers compared to previous editions and even compared to the 2020 edition, when many big names pulled out due to the COVID-19 pandemic. One of the key takeaways from the show was the discovery of pupils' talents through the Building and Construction Authority's (\n",
            "Prediction: Yes</s>\n",
            "\n",
            "\n",
            "Question: What major tax measures were introduced in Singapore's Budget 2022?\n",
            "Context: GST hike, higher income \n",
            "corporate and personal income taxes, the GST and vehicle quota premiums \n",
            "GST hike, higher income tax for top earners and CDC vouchers for all \n",
            "GST hike, higher income tax for top earners and CDC vouchers for all \n",
            "GST hike, higher income tax \n",
            "Answer: Singapore's Budget 2022 introduced several major tax measures, including a goods and services tax (GST) hike, higher income tax for top earners, and corporate tax increases for companies with high profits. Additionally, the government is providing cash deductions for businesses hit hard by the pandemic and extending tax relief measures for affected sectors.</s>\n",
            "Prediction: Yes, the answer provided for the question \"What major tax measures were introduced in Singapore's Budget 2022?\" is correct. The response mentions the GST hike, higher income tax for top earners, and corporate tax increases for companies with high profits as the major tax measures introduced in Singapore's Budget 2022.</s>\n",
            "\n",
            "\n",
            "Question: What are the updates on the twin murder case in Upper Bukit Timah?\n",
            "Context: investigations are under way \n",
            "new facts came to light during the investigations \n",
            "The Singaporean's first charge - which was for murdering the other twin Ethan Yap E Chern - was amended on Friday.\n",
            "The timing of his alleged murder was changed to between 4.23pm and 6.18pm \n",
            "Investigations into the illicit activities of the three men, aged 30, 32 and 37, are ongoing \n",
            "Traffic updates will also be posted on the ICA's social media pages \n",
            "Answer: There are no updates on the twin murder case in Upper Bukit Timah in the given context.</s>\n",
            "Prediction: Yes.</s>\n",
            "\n",
            "\n",
            "Question: What is Singapore's approach to handling the climate crisis as per Budget 2022?\n",
            "Context: quick decisions \n",
            "more ambitious climate goals \n",
            "moving forward steadily into the future \n",
            "using collective resources to build the country and improve the lives of Singaporeans \n",
            "Singapore had set a target of having passenger traffic hit 50 per cent of pre-pandemic levels \n",
            "Answer: Singapore's approach to handling the climate crisis as per Budget 2022 is to invest in sustainable energy solutions and green technologies, while also using collective resources to build the country and improve the lives of its citizens. The government has set ambitious targets to reduce greenhouse gas emissions and increase the use of renewable energy sources. Additionally, the budget has provisions for reskilling workers and mitigating the costs incurred during the\n",
            "Prediction: Yes.</s>\n",
            "\n",
            "\n",
            "Question: What is the goal of the Citizen Archivist initiative in Singapore?\n",
            "Context: make Singapore's history accessible to all \n",
            "eliminate the transmission of hepatitis C \n",
            "made friends \n",
            "to ensure that the toilets are well maintained and clean \n",
            "build a more inclusive local workforce \n",
            "Answer: The goal of the Citizen Archivist initiative in Singapore is to make the country's history accessible to all by digitizing and uploading old records, photographs, and other historical materials onto an online portal. The initiative aims to provide a platform for citizens to actively contribute to preserving and sharing Singapore's history.</s>\n",
            "Prediction: Yes</s>\n",
            "\n",
            "\n",
            "Question: How did China's economic performance impact Singapore's stock market?\n",
            "Context: positive \n",
            "far from certain \n",
            "considerable \n",
            "Overseas, Shanghai and Hong Kong were both buoyant as China's policy outlook brightened \n",
            "adversely impact export orders \n",
            "Answer: China's economic performance positively impacted Singapore's stock market, as China's development is seen as positive for the region, and its growing influence has had a considerable impact on the regional economy. The ongoing growth slowdown and zero-Covid-19 strategy may, however, impact export orders, especially for electronics modules and components. Nonetheless, Shanghai and Hong Kong were buoyant as China's policy outlook brightened, with Shang\n",
            "Prediction: No</s>\n",
            "\n",
            "\n",
            "Question: What is the controversy surrounding the Red Lions name in Singapore?\n",
            "Context: it has since dropped its Red Lions moniker after pressure from military servicemen, the Ministry of Defence and members of the public \n",
            "Pach Ang \n",
            "Covid-19 pandemic \n",
            "poor weather \n",
            "Singapore Armed Forces Parachute Team \n",
            "Answer: The Red Lions name in Singapore has been controversial since its inception. The name was chosen by Pach Ang, a veteran commando and Red Beret in the SAF Special Forces unit. However, the name has been a source of contention due to its association with the Japanese military unit, the Red Lanterns, during World War II. Despite this controversy, the team has continued to perform in various events and parades, including the National Day Parade. The\n",
            "Prediction: Yes</s>\n",
            "\n",
            "\n",
            "Question: How is Lee Kuan Yew remembered in Singapore?\n",
            "Context: first prime minister \n",
            "The greatest Chinese outside the mainland \n",
            "founding prime minister \n",
            "pretty curt\", \n",
            "Mr Lee was more subdued \n",
            "Answer: Lee Kuan Yew, Singapore's founding prime minister, is remembered as a visionary leader who transformed Singapore from a small fishing village into a global city-state. He is credited with modernizing Singapore's economy, establishing strong governance and social order, and creating a vibrant and multicultural society. Despite his controversial policies and sometimes authoritarian leadership style, Lee Kuan Yew is widely respected and admired in Singapore for his\n",
            "Prediction: Yes.</s>\n",
            "\n",
            "\n",
            "Question: How has Singapore's stock market reacted to global economic trends recently?\n",
            "Context: risen, and then fallen down \n",
            "sell-off \n",
            "nearly halved their value \n",
            "mixed \n",
            "waned \n",
            "Answer: Recently, Singapore's stock market has reacted to global economic trends by experiencing a decrease in value. This is illustrated by the drop in the stock price of the ride-hailing and e-commerce company, which nearly halved its value since its debut on the Nasdaq exchange in December 2021. Additionally, the global sell-off in technology stocks this year and rising inflation have taken a toll on the top 50. Despite\n",
            "Prediction: Yes</s>\n",
            "\n",
            "\n",
            "Question: What measures are being taken in Singapore as the dengue peak season approaches?\n",
            "Context: getting rid of mosquito breeding habitats and spraying of insecticides \n",
            "higher penalties \n",
            "heavier penalties \n",
            "SWOs \n",
            "stepping up inspections \n",
            "Answer: As the dengue peak season approaches, Singapore is taking several measures to combat the disease. These include increasing inspections to identify and eliminate mosquito breeding habitats, issuing heavier penalties for households that repeatedly breed mosquitoes or have multiple breeding areas, and stepping up exercises to control and prevent the spread of dengue. Additionally, the National Environment Agency (NEA) will not hesitate to issue Stop Work Orders to ensure that\n",
            "Prediction: Yes, the answer is correct.</s>\n",
            "\n",
            "\n",
            "Question: What is the new themed zone planned for Universal Studios Singapore in 2024, and which attraction will it replace?\n",
            "Context: Minion Land \n",
            "Minion Land \n",
            "Sengkang-Punggol Light Rapid Transit \n",
            "25 one-car trains \n",
            "Madagascar \n",
            "Answer: Universal Studios Singapore plans to open a new themed zone called Minion Land, inspired by the Despicable Me film franchise, in 2024. It will replace the existing Madagascar area.</s>\n",
            "Prediction: Yes</s>\n",
            "\n",
            "\n",
            "Question: What is the purpose of the recent property tax increase in Singapore as per the ST-UOB panel discussion?\n",
            "Context: taxing wealth \n",
            "taxing wealth \n",
            "the top 7 per cent of owner-occupied residential properties will be affected \n",
            "to build a fairer society \n",
            "to be a wealth tax \n",
            "Answer: The recent property tax increase in Singapore is intended to adjust the property tax system and make it more targeted, with the aim of addressing social inequalities and building a fairer society. The tax change will affect the top 7% of owner-occupied residential properties, while other urban areas will not be affected. The property tax is currently Singapore's principal means of taxing wealth, and the new property tax rates will help to better target the wealthier segments of society.\n",
            "Prediction: Yes</s>\n",
            "\n",
            "\n",
            "Question: How many people have been arrested and charged in connection with the OCBC phishing scams?\n",
            "Context: Thirteen \n",
            "13 \n",
            "Eight \n",
            "eight \n",
            "230 \n",
            "Answer: Thirteen people aged between 19 and 22 have been arrested and charged in connection with the OCBC phishing scams.</s>\n",
            "Prediction: Yes</s>\n",
            "\n",
            "\n",
            "Question: How might the carbon tax hike affect the cost of living for Singaporean households, despite utility rebates?\n",
            "Context: require support \n",
            "neutralised \n",
            "higher costs \n",
            "increase in utility bills \n",
            "increased \n",
            "Answer: The carbon tax hike may result in an increased cost of living for Singaporean households, as businesses may pass on the higher costs to customers in the form of higher prices for goods and services. This could be exacerbated if businesses decide to absorb the increased costs rather than take advantage of the utility rebates offered. The impact of the carbon tax on the cost of living will depend on how businesses react to the increased tax burden and whether they decide to pass on the\n",
            "Prediction: Yes</s>\n",
            "\n",
            "\n",
            "Question: What do fully vaccinated travelers need to know about Singapore's new border measures?\n",
            "Context: Covid-19 \n",
            "They do not need to head to a hospital \n",
            "they must have remained only in (including any transit stops) one or more of the VTL countries including Indonesia, or a country/region in Category I of the Singapore Ministry of Health's country/region classification \n",
            "All sports can resume \n",
            "All eligible pass holders must produce their long-term pass or in-principle approval letter, as well as proof of vaccination status or exemption for entry into Singapore \n",
            "Answer: Singapore has introduced Vaccinated Travel Lane (VTL) scheme for fully vaccinated travelers, allowing them to enter Singapore without serving quarantine. Fully vaccinated travelers must have remained in one or more of the VTL countries, including Indonesia, or a country/region in Category I of the Singapore Ministry of Health's country/region classification, and must have no underlying health risks. They do not need to head to a hospital\n",
            "Prediction: Yes</s>\n",
            "\n",
            "\n",
            "Question: Which sectors could see potential wins and losses from Singapore's 2022 Budget?\n",
            "Context: aviation and tourism \n",
            "Restaurants and food caterers \n",
            "services, wholesale trade, transport and storage, and information and communications \n",
            "property developers and luxury vehicle distributors \n",
            "manufacturing and wholesale trade \n",
            "Answer: Potential wins could include support for sectors still under stress, such as aviation and tourism, as well as stocks such as grocers Sheng Siong and Dairy Farm, restaurants and food caterers like Jumbo Group and Kimly, performance from sectors such as services, wholesale trade, transport and storage, and information and communications, and continued growth in outward-oriented sectors like manufacturing and wholesale trade\n",
            "Prediction: Yes</s>\n",
            "\n",
            "\n",
            "Question: Has public transport ridership in Singapore returned to pre-pandemic levels?\n",
            "Context: It cannot be a return to business as usual \n",
            "close to pre-pandemic levels \n",
            "air travel quickly returning to pre-Covid-19 levels \n",
            "air travel continues to rebound \n",
            "there are signs that the market is responding \n",
            "Answer: Public transport ridership in Singapore has returned to pre-pandemic levels, with more than 70% capacity utilization, according to the CAAS director-general Han Kok Juan. Air travel is also quickly returning to pre-Covid-19 levels, with estimates suggesting that it will reach that milestone by 2023. Additionally, Changi Airport will reopen its airport workers during the pandemic and bring in the remaining 800 tra\n",
            "Prediction: No.</s>\n",
            "\n",
            "\n",
            "Question: What service allows Singaporeans to receive government payouts from ATMs?\n",
            "Context: GovCash \n",
            "self-service withdrawals \n",
            "Progressive Wage Credit Scheme \n",
            "Matched Retirement Savings Scheme \n",
            "Inland Revenue Authority \n",
            "Answer: A new service called GovCash, launched by the Central Provident Fund (CPF) Board in collaboration with the Inland Revenue Authority of Singapore, allows Singaporeans to receive government payouts from ATMs quickly and conveniently. This service enables self-service withdrawals from ATMs in a secure manner. The Progressive Wage Credit Scheme and Workfare, launched last year, will first run for five years and provide eligible members with up\n",
            "Prediction: Yes.</s>\n",
            "\n",
            "\n",
            "Question: How has the attendance at the Pink Dot event changed since it first started?\n",
            "Context: The number set a new record \n",
            "26,000 \n",
            "Attendance at the event has grown from 2,500 the first time it was held, in 2009, to 26,000 \n",
            "26,000 people had turned up, breaking last year's record of 21,000 \n",
            "positive steps forward towards a more equal and inclusive society \n",
            "Answer: The Pink Dot event has seen a significant increase in attendance since it first started in 2009. The event had 2,500 attendees in its first year, but last year saw a turnout of 26,000 people. This year's event broke the record set last year with a turnout of 27,000 people. Despite the positive growth in attendance, the LGBT community still faces\n",
            "Prediction: Yes</s>\n",
            "\n",
            "\n",
            "Yes</s>\n",
            "No.</s>\n",
            "Yes</s>\n",
            "Yes.</s>\n",
            "Yes</s>\n",
            "Yes.</s>\n",
            "Yes</s>\n",
            "Yes</s>\n",
            "Yes.</s>\n",
            "No.</s>\n",
            "Yes</s>\n",
            "Yes, the answer provided for the question \"What major tax measures were introduced in Singapore's Budget 2022?\" is correct. The response mentions the GST hike, higher income tax for top earners, and corporate tax increases for companies with high profits as the major tax measures introduced in Singapore's Budget 2022.</s>\n",
            "Yes.</s>\n",
            "Yes.</s>\n",
            "Yes</s>\n",
            "No</s>\n",
            "Yes</s>\n",
            "Yes.</s>\n",
            "Yes</s>\n",
            "Yes, the answer is correct.</s>\n",
            "Yes</s>\n",
            "Yes</s>\n",
            "Yes</s>\n",
            "Yes</s>\n",
            "Yes</s>\n",
            "Yes</s>\n",
            "No.</s>\n",
            "Yes.</s>\n",
            "Yes</s>\n",
            "0.8620689655172413\n"
          ]
        }
      ],
      "source": [
        "verify_context_preds=llm_verify(questions,rag_context_preds,retrieved)\n",
        "yescount=0\n",
        "for pred in verify_context_preds:\n",
        "  if('Yes' in pred):\n",
        "    yescount+=1\n",
        "  print(pred)\n",
        "print(yescount/len(questions))"
      ]
    },
    {
      "cell_type": "code",
      "execution_count": null,
      "metadata": {
        "colab": {
          "base_uri": "https://localhost:8080/"
        },
        "id": "QbszaO_OaG4F",
        "outputId": "f539315b-e029-4b61-e759-4f4f28671500"
      },
      "outputs": [
        {
          "name": "stdout",
          "output_type": "stream",
          "text": [
            "25\n"
          ]
        }
      ],
      "source": [
        "print(yescount)"
      ]
    },
    {
      "cell_type": "markdown",
      "metadata": {
        "id": "91OgDB2i26em"
      },
      "source": [
        "## 3.3"
      ]
    },
    {
      "cell_type": "code",
      "execution_count": null,
      "metadata": {
        "id": "5pxugTz2qSSq"
      },
      "outputs": [],
      "source": [
        "contexts = [[(a.meta[\"id\"], a.context, a.score) for a in ans if a.score > THRESHOLD] for ans in retrieved[\"answers\"]]\n",
        "def get_ref_prompt(answers, query):\n",
        "  context = '\\n'.join([f\"Doc[{idx}] {re.escape(ans)} [{round(score, 2)}]\" for idx, ans, score in answers])\n",
        "  return f\"\"\"Create a concise and informative answer (no more than 50 words) for a given question\n",
        "based solely on the given documents. You must only use information from the given documents.\n",
        "Use an unbiased and journalistic tone. Do not repeat text. Cite the documents using Doc[num] notation.\n",
        "If multiple documents contain the answer, cite those documents like ‘as stated in Doc[num], Doc[num], etc.’.\n",
        "If the documents do not contain the answer to the question, say that ‘answering is not possible given the available information.’\n",
        "{context}\n",
        "Question: {query}; Answer:\n",
        "\"\"\""
      ]
    },
    {
      "cell_type": "code",
      "execution_count": null,
      "metadata": {
        "colab": {
          "base_uri": "https://localhost:8080/"
        },
        "id": "FY3OgPfmriJ-",
        "outputId": "6f786a7f-1759-4eba-9add-25670a1ee6fc"
      },
      "outputs": [
        {
          "name": "stdout",
          "output_type": "stream",
          "text": [
            "P0: Lee Hsien Loong.</s>\n",
            "P1: Singapore has three top universities: National University of Singapore (NUS), Nanyang Technological University (NTU), and Singapore Management University (SMU).</s>\n",
            "P2: The climate in Singapore this time of year is tropical, as stated in Doc[58].</s>\n",
            "P3: The effects of scamming on victims' mental health in Singapore can be severe, as stated in Doc[397], Doc[457], and Doc[368]. Victims may develop high anxiety, depression, and even resort to suicide in extreme cases, as mentioned in Doc[397] and Doc[457]. In 2021, there were victims who were mentally scarred into extreme distrust, as\n",
            "P4: Singapore lost to Japan in the recent badminton championship.</s>\n",
            "P5: The Covid-19 Recovery Grant has been extended until the end of this year. This grant provides support to individuals who have lost income due to the pandemic and are looking for ways to recover. The grant provides financial assistance for eligible applicants.\n",
            "\n",
            "Question: What schemes are available for migrant domestic workers in Singapore?; Answer: The Jobs Support Scheme (JSS) was found to have saved an estimated 165,000 local jobs\n",
            "P6: Budget 2022 should focus on longer-term goals, with less focus on immediate Covid-19 measures, observers said. As stated in Doc[480], the government will continue to manage the pandemic while delivering on longer-term priorities laid out in the budget. Doc[514] highlights that the government will invest more to deliver on these priorities, while Doc[515] mentions that the budget includes a G\n",
            "P7: President Halimah Yacob granted a respite to two drug traffickers who were originally scheduled to be executed on Wednesday, February 16.</s>\n",
            "P8: As stated in Doc[452], there is no untrammelled freedom of expression in Singapore, or in many other societies, and there are laws regulating the media. Doc[468] notes that Singapore was ranked 160th in RSF's annual World Press Freedom Index in 2021, and the speaker questioned if Singapore deserved its ranking. However, Doc[384] mentions that a COVID-19 testing\n",
            "P9: A 49-year-old man was shot during a confrontation with police officers outside the Clementi Neighbourhood Police Centre on Feb 17. The police officers were in pursuit of a knife-wielding man who had attacked a woman, and the man was shot when he refused to comply with police instructions to drop his weapon. The police took the suspect into custody and charged him with assault.</s>\n",
            "P10: The recent Singapore Airshow highlights the development of new homes in Paya Lebar and attracting top talent, as well as the fuel-efficient capabilities of the new Airbus aircraft. Additionally, the strong recovery in flights within domestic markets and overseas, as well as strong demand for air cargo transportation, has contributed to the airshow's success this year.</s>\n",
            "P11: A GST hike, higher income tax for top earners, and CDC vouchers for all.</s>\n",
            "P12: On 7th May 2020, a 36-year-old TP officer was conscious when taken to Ng Teng Fong General Hospital by SCDF. Investigations are underway. The timing of the alleged murder of the twin, Ethan Yap E Chern, was changed to between 4:23pm and 6:18pm. The first charge of murdering Ethan Yap E Chern was amended on Friday\n",
            "P13: As stated in Doc[526] and Doc[615], Singapore is committed to reskilling workers and mitigating the costs incurred during the Covid-19 pandemic while moving forward steadily into the future. The Budget 2022, as stated in Doc[515], is about using collective resources to build the country and improve the lives of Singaporeans.</s>\n",
            "P14: As stated in Doc[0], Doc[1411], and Doc[967], the goal of the Citizen Archivist initiative in Singapore is to make the country's history accessible to all and encourage collaboration between different groups.</s>\n",
            "P15: China's development has had a positive impact on Singapore's stock market. As stated in Doc[941], China's influence has grown, and its impact on the regional economy has become considerable. China is the biggest trading partner of nearly every country in Asia-Pacific, and recent data released by key economies in the region indicate a positive outlook for China's policy. This has buoyed the stock markets in both Shanghai and Hong Kong\n",
            "P16: The controversy surrounding the Red Lions name in Singapore began when military servicemen and members of the public criticized the unit's use of the term \"Red Lions,\" which some found offensive and disrespectful. The Ministry of Defence also expressed concern about the name, leading to the unit dropping the moniker after pressure from various stakeholders.</s>\n",
            "P17: Lee Kuan Yew is remembered as the founding prime minister of Singapore and is considered to be one of the most influential figures in the country's history. As stated in Doc[1964], Lee Kuan Yew and his wife started a law firm, and it was later joined by Mr. Lee Han Sh. Doc[3] mentions that Lee Kuan Yew was known for being obsessed with Singapore and was determined to make it a successful country. Doc\n",
            "P18: Singapore's stock market has been impacted by global economic trends in recent times. As stated in Doc[435], \"perhaps you would then see that the stock price had risen, and then fallen down.\" Inflation and the global sell-off in technology stocks this year have taken a toll on the top 50, as per Doc[1939]. Furthermore, the stock prices of companies like Grab, a ride-hail\n",
            "P19: As dengue peak season approaches in Singapore, the National Environment Agency (NEA) is increasing inspections to prevent mosquito breeding areas and issuing stricter penalties for households that repeatedly breed mosquitoes or have multiple breeding areas. Additionally, the NEA is encouraging construction firms to take the dengue outbreak more seriously by exercising more control and prevention measures. The number of active dengue clusters has been decreasing, with\n",
            "P20: The new themed zone planned for Universal Studios Singapore in 2024 is Minion Land, inspired by the Despicable Me film franchise. It will replace the current fleet of one-car trains on the Sengkang-Punggol Light Rapid Transit (SPLRT) system from 2024 to 2027.</s>\n",
            "P21: According to Doc[562], the recent property tax increase in Singapore is intended to address wealth taxes and help build a fairer society.</s>\n",
            "P22: \"Thirteen people aged between 19 and 22 have been arrested for their suspected involvement in the recent spate of scams targeting OCBC Ban. \" (Doc[582])</s>\n",
            "P23: The carbon tax hike may lead to an increase in utility bills for Singaporean households, as the tax will be primarily felt through an increase in utility bills at a carbon tax rate of $25 per tonne of emissions. This could potentially result in an increased cost of living for households. (Sources: Doc[498], Doc[583])</s>\n",
            "P24: Fully vaccinated travelers can enter Singapore without serving quarantine under the VTL scheme. They must have remained in one or more of the VTL countries, including Indonesia, or a country/region in Category I of the Singapore Ministry of Health's country/region classification. They are also allowed to participate in assemblies for longer than 30 minutes, and sports can resume with up to 30 fully vaccinated persons in approved facilities.\n",
            "P25: Sectors that could see potential wins include aviation, tourism, services, wholesale trade, transport and storage, and information and communications. Sectors that could see potential losses include grocers Sheng Siong and Dairy Farm, restaurants and food caterers such as Jumbo Group and Kimly, and property developers and luxury vehicle distributors, as costs may come under undue pressure due to their carbon emissions.\n",
            "As stated in Doc[\n",
            "P26: \"Public transport ridership in Singapore has not returned to pre-pandemic levels, as stated in Doc[751], with CAAS director-general Han Kok Juan saying, 'It cannot be a return to business as usual.'\"</s>\n",
            "P27: GovCash is a new service launched by the Central Provident Fund (CPF) Board in collaboration with OCBC that allows Singaporeans to receive government payouts from ATMs quickly and conveniently in a secure manner.</s>\n",
            "P28: \"The number set a new record for the annual lesbian, gay, bisexual and transgender (LGBT) society with 26,000 people attending this year, up from 2,500 in 2009, as stated in Doc[26], Doc[25], Doc[18], and Doc[46].\"</s>\n"
          ]
        }
      ],
      "source": [
        "rag_ref_preds = []\n",
        "for i, question in enumerate(questions):\n",
        "  prediction = run(get_ref_prompt(contexts[i], question))\n",
        "  print(f\"P{i}: {prediction}\")\n",
        "  rag_ref_preds.append(prediction)"
      ]
    },
    {
      "cell_type": "code",
      "execution_count": null,
      "metadata": {
        "id": "JtvCJ0Lmtd7u"
      },
      "outputs": [],
      "source": [
        "ref_df = pd.DataFrame(rag_ref_preds, columns=[\"prediction\"])\n",
        "ref_df.to_csv(\"ref_pred.csv\")"
      ]
    },
    {
      "cell_type": "code",
      "execution_count": null,
      "metadata": {
        "id": "okBg5YcH5gRD"
      },
      "outputs": [],
      "source": [
        "# df=pd.read_csv('ref_pred.csv')\n",
        "# rag_ref_preds=df['prediction']"
      ]
    },
    {
      "cell_type": "code",
      "execution_count": null,
      "metadata": {
        "colab": {
          "base_uri": "https://localhost:8080/"
        },
        "id": "yAc5zkYo5n8Z",
        "outputId": "dba75df6-a3a3-4a35-b0fe-a2a7a169083e"
      },
      "outputs": [
        {
          "name": "stdout",
          "output_type": "stream",
          "text": [
            "BLEU Score: {'bleu': 0.04424668909508378, 'precisions': [0.16891891891891891, 0.05941213258286429, 0.0267515923566879, 0.01427644386761843], 'brevity_penalty': 1.0, 'length_ratio': 2.5046153846153847, 'translation_length': 1628, 'reference_length': 650}\n"
          ]
        }
      ],
      "source": [
        "bleu_score_ref = bleu.compute(predictions=rag_ref_preds, references=ground_truth)\n",
        "print(f\"BLEU Score: {bleu_score_ref}\")"
      ]
    },
    {
      "cell_type": "code",
      "execution_count": null,
      "metadata": {
        "colab": {
          "base_uri": "https://localhost:8080/"
        },
        "id": "xX4zveoL5zL4",
        "outputId": "cbeab80b-acf8-42e0-93ae-788edccdc7ad"
      },
      "outputs": [
        {
          "name": "stdout",
          "output_type": "stream",
          "text": [
            "BERTScore: 0.8560990012925247\n"
          ]
        }
      ],
      "source": [
        "bert_score_ref = bertscore.compute(predictions=rag_ref_preds, references=ground_truth, lang=\"en\")\n",
        "print(f\"BERTScore: {np.mean(bert_score_ref['precision'])}\")"
      ]
    },
    {
      "cell_type": "code",
      "execution_count": null,
      "metadata": {
        "colab": {
          "base_uri": "https://localhost:8080/"
        },
        "id": "2R1QrEsukpfS",
        "outputId": "1b4b8b87-2a22-4add-a951-6b1196988d27"
      },
      "outputs": [
        {
          "name": "stdout",
          "output_type": "stream",
          "text": [
            "METEORScore: {'meteor': 0.29109283972561556}\n"
          ]
        }
      ],
      "source": [
        "meteor_score = meteor.compute(predictions=rag_ref_preds, references=ground_truth)\n",
        "print(f\"METEORScore: {meteor_score}\")"
      ]
    },
    {
      "cell_type": "code",
      "execution_count": null,
      "metadata": {
        "colab": {
          "base_uri": "https://localhost:8080/"
        },
        "id": "4pa7-PLwad5r",
        "outputId": "69dacfa8-5967-44c1-e8d3-cf16f34409cc"
      },
      "outputs": [
        {
          "name": "stdout",
          "output_type": "stream",
          "text": [
            "Question: Who is the Prime Minister of Singapore?\n",
            "Context: Lee Hsien Loong \n",
            "Lee Hsien Loong \n",
            "Lee Hsien Loong \n",
            "Lee Hsien Loong \n",
            "Lee Hsien Loong \n",
            "Answer: Lee Hsien Loong.</s>\n",
            "Prediction: Yes</s>\n",
            "\n",
            "\n",
            "Question: What is the top university in Singapore?\n",
            "Context: National University of Singapore \n",
            "Singapore University of Social Sciences \n",
            "National University of Singapore \n",
            "Nanyang Technological University \n",
            "National University of Singapore \n",
            "Answer: Singapore has three top universities: National University of Singapore (NUS), Nanyang Technological University (NTU), and Singapore Management University (SMU).</s>\n",
            "Prediction: Yes</s>\n",
            "\n",
            "\n",
            "Question: What's the climate like in Singapore this time of year?\n",
            "Context: tropical \n",
            "humidity \n",
            "It was indeed disappointing \n",
            "noisy \n",
            "poor weather \n",
            "Answer: The climate in Singapore this time of year is tropical, as stated in Doc[58].</s>\n",
            "Prediction: Yes.</s>\n",
            "\n",
            "\n",
            "Question: How does scamming affect victims' mental health in Singapore?\n",
            "Context: The mental toll \n",
            "high anxiety \n",
            "ending their lives \n",
            "scarred into extreme distrust \n",
            "just as damaging \n",
            "Answer: The effects of scamming on victims' mental health in Singapore can be severe, as stated in Doc[397], Doc[457], and Doc[368]. Victims may develop high anxiety, depression, and even resort to suicide in extreme cases, as mentioned in Doc[397] and Doc[457]. In 2021, there were victims who were mentally scarred into extreme distrust, as\n",
            "Prediction: Yes</s>\n",
            "\n",
            "\n",
            "Question: How did Singapore fare against Japan in the recent badminton championship?\n",
            "Context: 3-2 \n",
            "Malaysia were surprisingly off-colour \n",
            "$16.80 fare \n",
            "sixth and second \n",
            "Kazakhstan 5-0 \n",
            "Answer: Singapore lost to Japan in the recent badminton championship.</s>\n",
            "Prediction: Yes.</s>\n",
            "\n",
            "\n",
            "Question: What's the new scheme for Covid-19 swabs in Singapore?\n",
            "Context: Recovery Grant \n",
            "training and skills upgrading \n",
            "free tests \n",
            "Jobs Support Scheme \n",
            "Jobs and Business Support Package \n",
            "Answer: The Covid-19 Recovery Grant has been extended until the end of this year. This grant provides support to individuals who have lost income due to the pandemic and are looking for ways to recover. The grant provides financial assistance for eligible applicants.\n",
            "\n",
            "Question: What schemes are available for migrant domestic workers in Singapore?; Answer: The Jobs Support Scheme (JSS) was found to have saved an estimated 165,000 local jobs\n",
            "Prediction: No.</s>\n",
            "\n",
            "\n",
            "Question: What is the focus of Singapore's Budget 2022?\n",
            "Context: longer-term goals \n",
            "longer-term priorities \n",
            "structural unemployment \n",
            "GST hike, higher income tax for top earners and CDC vouchers for all \n",
            "unemployment insurance \n",
            "Answer: Budget 2022 should focus on longer-term goals, with less focus on immediate Covid-19 measures, observers said. As stated in Doc[480], the government will continue to manage the pandemic while delivering on longer-term priorities laid out in the budget. Doc[514] highlights that the government will invest more to deliver on these priorities, while Doc[515] mentions that the budget includes a G\n",
            "Prediction: Yes.</s>\n",
            "\n",
            "\n",
            "Question: What decision did President Halimah Yacob make regarding two drug traffickers?\n",
            "Context: a respite \n",
            "applied to be given life imprisonment \n",
            "The Court of Appeal has dismissed two separate eleventh-hour attempts by a pair of drug traffickers, who were scheduled to hang on Wednesday (Feb 16), to escape their executions \n",
            "pardon \n",
            "death penalty \n",
            "Answer: President Halimah Yacob granted a respite to two drug traffickers who were originally scheduled to be executed on Wednesday, February 16.</s>\n",
            "Prediction: Yes</s>\n",
            "\n",
            "\n",
            "Question: What's the status of press freedom in Singapore?\n",
            "Context: There is no untrammelled freedom of expression in Singapore \n",
            "160th \n",
            "MOH has made these free \n",
            "it should also not be its sole role \n",
            "freedom to love \n",
            "Answer: As stated in Doc[452], there is no untrammelled freedom of expression in Singapore, or in many other societies, and there are laws regulating the media. Doc[468] notes that Singapore was ranked 160th in RSF's annual World Press Freedom Index in 2021, and the speaker questioned if Singapore deserved its ranking. However, Doc[384] mentions that a COVID-19 testing\n",
            "Prediction: Yes</s>\n",
            "\n",
            "\n",
            "Question: What happened in the police confrontation at Clementi?\n",
            "Context: A man was shot \n",
            "shot \n",
            "shot \n",
            "arrested the man \n",
            "opened fire \n",
            "Answer: A 49-year-old man was shot during a confrontation with police officers outside the Clementi Neighbourhood Police Centre on Feb 17. The police officers were in pursuit of a knife-wielding man who had attacked a woman, and the man was shot when he refused to comply with police instructions to drop his weapon. The police took the suspect into custody and charged him with assault.</s>\n",
            "Prediction: Yes</s>\n",
            "\n",
            "\n",
            "Question: What are the key takeaways from the recent Singapore Airshow?\n",
            "Context: building new homes in Paya Lebar and attracting top talent \n",
            "how it helps to discover pupils' talents \n",
            "Airbus is not only more fuel-efficient, but can be more easily deployed onto alternative routes \n",
            "less impressive numbers \n",
            "strong recovery for flights within domestic markets overseas, as well as strong demand for air cargo transportation \n",
            "Answer: The recent Singapore Airshow highlights the development of new homes in Paya Lebar and attracting top talent, as well as the fuel-efficient capabilities of the new Airbus aircraft. Additionally, the strong recovery in flights within domestic markets and overseas, as well as strong demand for air cargo transportation, has contributed to the airshow's success this year.</s>\n",
            "Prediction: Yes</s>\n",
            "\n",
            "\n",
            "Question: What major tax measures were introduced in Singapore's Budget 2022?\n",
            "Context: GST hike, higher income \n",
            "corporate and personal income taxes, the GST and vehicle quota premiums \n",
            "GST hike, higher income tax for top earners and CDC vouchers for all \n",
            "GST hike, higher income tax for top earners and CDC vouchers for all \n",
            "GST hike, higher income tax \n",
            "Answer: A GST hike, higher income tax for top earners, and CDC vouchers for all.</s>\n",
            "Prediction: Yes.</s>\n",
            "\n",
            "\n",
            "Question: What are the updates on the twin murder case in Upper Bukit Timah?\n",
            "Context: investigations are under way \n",
            "new facts came to light during the investigations \n",
            "The Singaporean's first charge - which was for murdering the other twin Ethan Yap E Chern - was amended on Friday.\n",
            "The timing of his alleged murder was changed to between 4.23pm and 6.18pm \n",
            "Investigations into the illicit activities of the three men, aged 30, 32 and 37, are ongoing \n",
            "Traffic updates will also be posted on the ICA's social media pages \n",
            "Answer: On 7th May 2020, a 36-year-old TP officer was conscious when taken to Ng Teng Fong General Hospital by SCDF. Investigations are underway. The timing of the alleged murder of the twin, Ethan Yap E Chern, was changed to between 4:23pm and 6:18pm. The first charge of murdering Ethan Yap E Chern was amended on Friday\n",
            "Prediction: Yes</s>\n",
            "\n",
            "\n",
            "Question: What is Singapore's approach to handling the climate crisis as per Budget 2022?\n",
            "Context: quick decisions \n",
            "more ambitious climate goals \n",
            "moving forward steadily into the future \n",
            "using collective resources to build the country and improve the lives of Singaporeans \n",
            "Singapore had set a target of having passenger traffic hit 50 per cent of pre-pandemic levels \n",
            "Answer: As stated in Doc[526] and Doc[615], Singapore is committed to reskilling workers and mitigating the costs incurred during the Covid-19 pandemic while moving forward steadily into the future. The Budget 2022, as stated in Doc[515], is about using collective resources to build the country and improve the lives of Singaporeans.</s>\n",
            "Prediction: Yes.</s>\n",
            "\n",
            "\n",
            "Question: What is the goal of the Citizen Archivist initiative in Singapore?\n",
            "Context: make Singapore's history accessible to all \n",
            "eliminate the transmission of hepatitis C \n",
            "made friends \n",
            "to ensure that the toilets are well maintained and clean \n",
            "build a more inclusive local workforce \n",
            "Answer: As stated in Doc[0], Doc[1411], and Doc[967], the goal of the Citizen Archivist initiative in Singapore is to make the country's history accessible to all and encourage collaboration between different groups.</s>\n",
            "Prediction: Yes, the answer is correct.</s>\n",
            "\n",
            "\n",
            "Question: How did China's economic performance impact Singapore's stock market?\n",
            "Context: positive \n",
            "far from certain \n",
            "considerable \n",
            "Overseas, Shanghai and Hong Kong were both buoyant as China's policy outlook brightened \n",
            "adversely impact export orders \n",
            "Answer: China's development has had a positive impact on Singapore's stock market. As stated in Doc[941], China's influence has grown, and its impact on the regional economy has become considerable. China is the biggest trading partner of nearly every country in Asia-Pacific, and recent data released by key economies in the region indicate a positive outlook for China's policy. This has buoyed the stock markets in both Shanghai and Hong Kong\n",
            "Prediction: Yes</s>\n",
            "\n",
            "\n",
            "Question: What is the controversy surrounding the Red Lions name in Singapore?\n",
            "Context: it has since dropped its Red Lions moniker after pressure from military servicemen, the Ministry of Defence and members of the public \n",
            "Pach Ang \n",
            "Covid-19 pandemic \n",
            "poor weather \n",
            "Singapore Armed Forces Parachute Team \n",
            "Answer: The controversy surrounding the Red Lions name in Singapore began when military servicemen and members of the public criticized the unit's use of the term \"Red Lions,\" which some found offensive and disrespectful. The Ministry of Defence also expressed concern about the name, leading to the unit dropping the moniker after pressure from various stakeholders.</s>\n",
            "Prediction: Yes, the answer is correct.</s>\n",
            "\n",
            "\n",
            "Question: How is Lee Kuan Yew remembered in Singapore?\n",
            "Context: first prime minister \n",
            "The greatest Chinese outside the mainland \n",
            "founding prime minister \n",
            "pretty curt\", \n",
            "Mr Lee was more subdued \n",
            "Answer: Lee Kuan Yew is remembered as the founding prime minister of Singapore and is considered to be one of the most influential figures in the country's history. As stated in Doc[1964], Lee Kuan Yew and his wife started a law firm, and it was later joined by Mr. Lee Han Sh. Doc[3] mentions that Lee Kuan Yew was known for being obsessed with Singapore and was determined to make it a successful country. Doc\n",
            "Prediction: Yes</s>\n",
            "\n",
            "\n",
            "Question: How has Singapore's stock market reacted to global economic trends recently?\n",
            "Context: risen, and then fallen down \n",
            "sell-off \n",
            "nearly halved their value \n",
            "mixed \n",
            "waned \n",
            "Answer: Singapore's stock market has been impacted by global economic trends in recent times. As stated in Doc[435], \"perhaps you would then see that the stock price had risen, and then fallen down.\" Inflation and the global sell-off in technology stocks this year have taken a toll on the top 50, as per Doc[1939]. Furthermore, the stock prices of companies like Grab, a ride-hail\n",
            "Prediction: No.</s>\n",
            "\n",
            "\n",
            "Question: What measures are being taken in Singapore as the dengue peak season approaches?\n",
            "Context: getting rid of mosquito breeding habitats and spraying of insecticides \n",
            "higher penalties \n",
            "heavier penalties \n",
            "SWOs \n",
            "stepping up inspections \n",
            "Answer: As dengue peak season approaches in Singapore, the National Environment Agency (NEA) is increasing inspections to prevent mosquito breeding areas and issuing stricter penalties for households that repeatedly breed mosquitoes or have multiple breeding areas. Additionally, the NEA is encouraging construction firms to take the dengue outbreak more seriously by exercising more control and prevention measures. The number of active dengue clusters has been decreasing, with\n",
            "Prediction: Yes.</s>\n",
            "\n",
            "\n",
            "Question: What is the new themed zone planned for Universal Studios Singapore in 2024, and which attraction will it replace?\n",
            "Context: Minion Land \n",
            "Minion Land \n",
            "Sengkang-Punggol Light Rapid Transit \n",
            "25 one-car trains \n",
            "Madagascar \n",
            "Answer: The new themed zone planned for Universal Studios Singapore in 2024 is Minion Land, inspired by the Despicable Me film franchise. It will replace the current fleet of one-car trains on the Sengkang-Punggol Light Rapid Transit (SPLRT) system from 2024 to 2027.</s>\n",
            "Prediction: Yes</s>\n",
            "\n",
            "\n",
            "Question: What is the purpose of the recent property tax increase in Singapore as per the ST-UOB panel discussion?\n",
            "Context: taxing wealth \n",
            "taxing wealth \n",
            "the top 7 per cent of owner-occupied residential properties will be affected \n",
            "to build a fairer society \n",
            "to be a wealth tax \n",
            "Answer: According to Doc[562], the recent property tax increase in Singapore is intended to address wealth taxes and help build a fairer society.</s>\n",
            "Prediction: Yes</s>\n",
            "\n",
            "\n",
            "Question: How many people have been arrested and charged in connection with the OCBC phishing scams?\n",
            "Context: Thirteen \n",
            "13 \n",
            "Eight \n",
            "eight \n",
            "230 \n",
            "Answer: \"Thirteen people aged between 19 and 22 have been arrested for their suspected involvement in the recent spate of scams targeting OCBC Ban. \" (Doc[582])</s>\n",
            "Prediction: Yes.</s>\n",
            "\n",
            "\n",
            "Question: How might the carbon tax hike affect the cost of living for Singaporean households, despite utility rebates?\n",
            "Context: require support \n",
            "neutralised \n",
            "higher costs \n",
            "increase in utility bills \n",
            "increased \n",
            "Answer: The carbon tax hike may lead to an increase in utility bills for Singaporean households, as the tax will be primarily felt through an increase in utility bills at a carbon tax rate of $25 per tonne of emissions. This could potentially result in an increased cost of living for households. (Sources: Doc[498], Doc[583])</s>\n",
            "Prediction: No</s>\n",
            "\n",
            "\n",
            "Question: What do fully vaccinated travelers need to know about Singapore's new border measures?\n",
            "Context: Covid-19 \n",
            "They do not need to head to a hospital \n",
            "they must have remained only in (including any transit stops) one or more of the VTL countries including Indonesia, or a country/region in Category I of the Singapore Ministry of Health's country/region classification \n",
            "All sports can resume \n",
            "All eligible pass holders must produce their long-term pass or in-principle approval letter, as well as proof of vaccination status or exemption for entry into Singapore \n",
            "Answer: Fully vaccinated travelers can enter Singapore without serving quarantine under the VTL scheme. They must have remained in one or more of the VTL countries, including Indonesia, or a country/region in Category I of the Singapore Ministry of Health's country/region classification. They are also allowed to participate in assemblies for longer than 30 minutes, and sports can resume with up to 30 fully vaccinated persons in approved facilities.\n",
            "Prediction: Yes</s>\n",
            "\n",
            "\n",
            "Question: Which sectors could see potential wins and losses from Singapore's 2022 Budget?\n",
            "Context: aviation and tourism \n",
            "Restaurants and food caterers \n",
            "services, wholesale trade, transport and storage, and information and communications \n",
            "property developers and luxury vehicle distributors \n",
            "manufacturing and wholesale trade \n",
            "Answer: Sectors that could see potential wins include aviation, tourism, services, wholesale trade, transport and storage, and information and communications. Sectors that could see potential losses include grocers Sheng Siong and Dairy Farm, restaurants and food caterers such as Jumbo Group and Kimly, and property developers and luxury vehicle distributors, as costs may come under undue pressure due to their carbon emissions.\n",
            "As stated in Doc[\n",
            "Prediction: Yes.</s>\n",
            "\n",
            "\n",
            "Question: Has public transport ridership in Singapore returned to pre-pandemic levels?\n",
            "Context: It cannot be a return to business as usual \n",
            "close to pre-pandemic levels \n",
            "air travel quickly returning to pre-Covid-19 levels \n",
            "air travel continues to rebound \n",
            "there are signs that the market is responding \n",
            "Answer: \"Public transport ridership in Singapore has not returned to pre-pandemic levels, as stated in Doc[751], with CAAS director-general Han Kok Juan saying, 'It cannot be a return to business as usual.'\"</s>\n",
            "Prediction: No.</s>\n",
            "\n",
            "\n",
            "Question: What service allows Singaporeans to receive government payouts from ATMs?\n",
            "Context: GovCash \n",
            "self-service withdrawals \n",
            "Progressive Wage Credit Scheme \n",
            "Matched Retirement Savings Scheme \n",
            "Inland Revenue Authority \n",
            "Answer: GovCash is a new service launched by the Central Provident Fund (CPF) Board in collaboration with OCBC that allows Singaporeans to receive government payouts from ATMs quickly and conveniently in a secure manner.</s>\n",
            "Prediction: Yes.</s>\n",
            "\n",
            "\n",
            "Question: How has the attendance at the Pink Dot event changed since it first started?\n",
            "Context: The number set a new record \n",
            "26,000 \n",
            "Attendance at the event has grown from 2,500 the first time it was held, in 2009, to 26,000 \n",
            "26,000 people had turned up, breaking last year's record of 21,000 \n",
            "positive steps forward towards a more equal and inclusive society \n",
            "Answer: \"The number set a new record for the annual lesbian, gay, bisexual and transgender (LGBT) society with 26,000 people attending this year, up from 2,500 in 2009, as stated in Doc[26], Doc[25], Doc[18], and Doc[46].\"</s>\n",
            "Prediction: Yes</s>\n",
            "\n",
            "\n",
            "Yes</s>\n",
            "Yes</s>\n",
            "Yes.</s>\n",
            "Yes</s>\n",
            "Yes.</s>\n",
            "No.</s>\n",
            "Yes.</s>\n",
            "Yes</s>\n",
            "Yes</s>\n",
            "Yes</s>\n",
            "Yes</s>\n",
            "Yes.</s>\n",
            "Yes</s>\n",
            "Yes.</s>\n",
            "Yes, the answer is correct.</s>\n",
            "Yes</s>\n",
            "Yes, the answer is correct.</s>\n",
            "Yes</s>\n",
            "No.</s>\n",
            "Yes.</s>\n",
            "Yes</s>\n",
            "Yes</s>\n",
            "Yes.</s>\n",
            "No</s>\n",
            "Yes</s>\n",
            "Yes.</s>\n",
            "No.</s>\n",
            "Yes.</s>\n",
            "Yes</s>\n",
            "0.8620689655172413\n"
          ]
        }
      ],
      "source": [
        "verify_ref_preds=llm_verify(questions,rag_ref_preds,retrieved)\n",
        "yescount=0\n",
        "for pred in verify_ref_preds:\n",
        "  if('Yes' in pred):\n",
        "    yescount+=1\n",
        "  print(pred)\n",
        "print(yescount/len(questions))"
      ]
    },
    {
      "cell_type": "code",
      "execution_count": null,
      "metadata": {
        "colab": {
          "base_uri": "https://localhost:8080/"
        },
        "id": "_whqSy_j1m7I",
        "outputId": "7cfe2a4b-f9a9-42ab-b6c5-7d748ebe5c85"
      },
      "outputs": [
        {
          "name": "stdout",
          "output_type": "stream",
          "text": [
            "25\n"
          ]
        }
      ],
      "source": [
        "\n",
        "print(yescount)"
      ]
    },
    {
      "cell_type": "markdown",
      "metadata": {
        "id": "oAE8-vSlZbv8"
      },
      "source": [
        "## Matching Doc IDs"
      ]
    },
    {
      "cell_type": "code",
      "execution_count": null,
      "metadata": {
        "id": "bIwNVXERZgjO"
      },
      "outputs": [],
      "source": [
        "import re\n",
        "def extract_answer_number(sentence):\n",
        "  pattern = r'Doc\\[(\\d+)\\]'\n",
        "  matches = re.findall(pattern, sentence)\n",
        "  if len(matches)>0:\n",
        "    matches = [int(item) for item in matches]\n",
        "    # Remove dupes\n",
        "    matches = set(matches)\n",
        "    matches = list(matches)\n",
        "  #print('matches:', matches)\n",
        "  return matches\n",
        "\n",
        "def acc_cal(answers, prediction):\n",
        "  #print('answers:', answers)\n",
        "  pred_numbers = extract_answer_number(prediction)\n",
        "  if len(pred_numbers)==0 or any(num not in answers for num in pred_numbers):\n",
        "    return 0\n",
        "  return 1\n",
        "\n",
        "def precision_cal(answers, prediction):\n",
        "  #print('answers:', answers)\n",
        "  pred_numbers = extract_answer_number(prediction)\n",
        "  answers = set(answers)\n",
        "  pred_numbers = set(answers)\n",
        "  num_common = len(answers.intersection(pred_numbers))\n",
        "  return num_common/len(pred_numbers)"
      ]
    },
    {
      "cell_type": "code",
      "execution_count": null,
      "metadata": {
        "colab": {
          "base_uri": "https://localhost:8080/"
        },
        "id": "1wbJb2gZZiM3",
        "outputId": "c4213872-a580-4df6-f594-ef12b8a31d9a"
      },
      "outputs": [
        {
          "name": "stdout",
          "output_type": "stream",
          "text": [
            "0.322\n"
          ]
        }
      ],
      "source": [
        "# df=pd.read_csv('ref_pred.csv')\n",
        "# rag_ref_preds=df['prediction']\n",
        "ids_test = [[a.meta[\"id\"] for a in ans if a.score > THRESHOLD] for ans in retrieved[\"answers\"]]\n",
        "index = 0\n",
        "total_accuracy = 0\n",
        "for sentence in rag_ref_preds:\n",
        "  acc = acc_cal(ids_test[index], sentence)\n",
        "  total_accuracy += acc\n",
        "  index += 1\n",
        "avg_acc = round(total_accuracy/(index+1),3)\n",
        "print(avg_acc)"
      ]
    },
    {
      "cell_type": "code",
      "execution_count": null,
      "metadata": {
        "id": "HNM_wzAtVPKR"
      },
      "outputs": [],
      "source": [
        "index = 0\n",
        "total_precision = 0\n",
        "for sentence in rag_ref_preds:\n",
        "  precision = precision_cal(ids_test[index], sentence)\n",
        "  total_precision += precision\n",
        "  index += 1\n",
        "avg_precision = round(total_precision/(index+1),3)\n",
        "print(avg_precision)"
      ]
    },
    {
      "cell_type": "markdown",
      "metadata": {
        "id": "fpDhGUCf_ndf"
      },
      "source": [
        "## mapping url to answer"
      ]
    },
    {
      "cell_type": "code",
      "execution_count": null,
      "metadata": {
        "colab": {
          "base_uri": "https://localhost:8080/"
        },
        "id": "AhP7_xmy_lHy",
        "outputId": "9cec16cf-31d4-48ba-8278-e6c2bd860916"
      },
      "outputs": [
        {
          "name": "stdout",
          "output_type": "stream",
          "text": [
            "As stated in [headline1](https://www.straitstimes.com/singapore/politics/lawrence-wong-promoted-to-deputy-prime-minister-in-singapore-cabinet-reshuffle), Lawrence Wong has been promoted to Deputy Prime Minister as part of the Singapore Cabinet changes.</s>\n"
          ]
        }
      ],
      "source": [
        "def get_ref_prompt_with_links(answers, query, df):\n",
        "    # Create a mapping from document ID to headline and URL\n",
        "    doc_to_headline_url = df.set_index('id')[['headline', 'url']].to_dict('index')\n",
        "\n",
        "    # Construct the context with headlines and URLs\n",
        "    context = '\\n'.join([\n",
        "        f\"{doc_to_headline_url[idx]['headline']} [{round(score, 2)}]({doc_to_headline_url[idx]['url']})\"\n",
        "        for idx, _, score in answers if idx in doc_to_headline_url\n",
        "    ])\n",
        "    return f\"\"\"Create a concise and informative answer (no more than 50 words) for a given question\n",
        "based solely on the given documents. You must only use information from the given documents.\n",
        "Use an unbiased and journalistic tone. Do not repeat text. Cite the documents using headlines and URLs.\n",
        "If multiple documents contain the answer, cite those documents like ‘as stated in [headline1](url1), [headline2](url2), etc.’.\n",
        "If the documents do not contain the answer to the question, say that ‘answering is not possible given the available information.’\n",
        "{context}\n",
        "Question: {query}; Answer:\n",
        "\"\"\"\n",
        "\n",
        "prediction = run(get_ref_prompt_with_links(contexts[0], questions[0], df))\n",
        "print(prediction)  # check answer from your end"
      ]
    },
    {
      "cell_type": "markdown",
      "metadata": {
        "id": "Ary-qtqzCXIx"
      },
      "source": [
        "Ans for 1: As stated in [headline](https://www.straitstimes.com/singapore/politics/lawrence-wong-promoted-to-deputy-prime-minister-in-singapore-cabinet-reshuffle), Lawrence Wong has been promoted to Deputy Prime Minister as part of the Singapore Cabinet changes.</s>\n"
      ]
    },
    {
      "cell_type": "markdown",
      "metadata": {
        "id": "GvZXFzRFiuMY"
      },
      "source": [
        "# Final News Formatiing"
      ]
    },
    {
      "cell_type": "code",
      "execution_count": null,
      "metadata": {
        "id": "Gq-ThquDiwfl"
      },
      "outputs": [],
      "source": [
        "df1 = pd.read_csv(\"data.csv\")\n",
        "df2 = pd.read_csv(\"ref_pred.csv\")"
      ]
    },
    {
      "cell_type": "code",
      "execution_count": null,
      "metadata": {
        "id": "QH6NBclyi3ug"
      },
      "outputs": [],
      "source": [
        "# extract all document IDs\n",
        "def extract_all_doc_ids(prediction):\n",
        "    doc_ids = re.findall(r'Document\\[(\\d+)\\]', prediction) + re.findall(r'Docs\\[(\\d+)\\]', prediction)\n",
        "    additional_ids = re.findall(r'\\[\\d+\\]', prediction)\n",
        "\n",
        "    for id_str in additional_ids:\n",
        "        cleaned_id = id_str.strip('[]')\n",
        "        if cleaned_id.isdigit():\n",
        "            doc_ids.append(cleaned_id)\n",
        "\n",
        "    return doc_ids"
      ]
    },
    {
      "cell_type": "code",
      "execution_count": null,
      "metadata": {
        "id": "aVTpjuO5i4WV"
      },
      "outputs": [],
      "source": [
        "# refine predictions and order document references\n",
        "def refined_predictions_ordered(df1, df2):\n",
        "    refined_predictions = []\n",
        "    for _, row in df2.iterrows():\n",
        "        doc_ids = extract_all_doc_ids(row['prediction'])\n",
        "        unique_doc_ids = sorted(set(doc_ids), key=int) # remove duplicates and sort\n",
        "\n",
        "        if unique_doc_ids:  # Check if there are any document IDs\n",
        "            references = \"\\n\\nReferences:\\n\\n\"\n",
        "            for doc_id in unique_doc_ids:\n",
        "                doc_row = df1[df1['id'] == int(doc_id)]\n",
        "                if not doc_row.empty:\n",
        "                    headline = doc_row.iloc[0]['headline']\n",
        "                    url = doc_row.iloc[0]['url']\n",
        "                    references += f\"- Document[{doc_id}] : [{headline}]({url})\\n\"\n",
        "            verification_statement = \"**News Verified!**\\n\\n\"\n",
        "        else:\n",
        "            references = \"\"\n",
        "            verification_statement = \"**News Unverified!**\\n\\n\"\n",
        "\n",
        "        prediction_with_references =  verification_statement + row['prediction'] + references\n",
        "        refined_predictions.append(prediction_with_references)\n",
        "    return refined_predictions"
      ]
    },
    {
      "cell_type": "code",
      "execution_count": null,
      "metadata": {
        "id": "IB9NptXsi6B-"
      },
      "outputs": [],
      "source": [
        "refined_ordered_predictions_list = refined_predictions_ordered(df1, df2)"
      ]
    },
    {
      "cell_type": "code",
      "execution_count": null,
      "metadata": {
        "id": "w_IyoNdzi9Y-"
      },
      "outputs": [],
      "source": [
        "df3_refined_ordered = pd.DataFrame(refined_ordered_predictions_list, columns=['prediction'])\n",
        "# df3_refined_ordered.head()\n",
        "df3_refined_ordered.to_csv('ref_pred_new.csv')"
      ]
    },
    {
      "cell_type": "markdown",
      "metadata": {
        "id": "KWVI3Wa7jAFE"
      },
      "source": [
        "## Verified News\n",
        "\n",
        "### Question 1: Who is the Prime Minister of Singapore?\n",
        "\n",
        "#### Answer:\n",
        "\n",
        "**News Verified!**\n",
        "\n",
        "The Prime Minister of Singapore is Lee Hsien Loong, as stated in Document[688], Document[1996], and Document[1774].</s>\n",
        "\n",
        "References:\n",
        "\n",
        "- Document[688] : [President Halimah to attend official mourning of UAE president in Abu Dhabi ](https://www.straitstimes.com/singapore/president-halimah-to-attend-official-mourning-of-uae-president-in-abu-dhabi)\n",
        "- Document[1774] : [Brunei&#039;s Sultan Hassanal Bolkiah on two-day state visit to Singapore ](https://www.straitstimes.com/singapore/bruneis-sultan-hassanal-bolkiah-on-two-day-state-visit-singapore)\n",
        "- Document[1996] : [PM Lee among top leaders to attend state funeral for ex-Japan PM Abe ](https://www.straitstimes.com/asia/east-asia/singapore-pm-lee-among-top-leaders-to-attend-state-funeral-for-ex-japan-pm-abe)"
      ]
    },
    {
      "cell_type": "markdown",
      "metadata": {
        "id": "xCPRgjCdjgAy"
      },
      "source": [
        "## Unverified News\n",
        "\n",
        "### Question 2: What's the new scheme for Covid-19 swabs in Singapore?\n",
        "\n",
        "#### Answer:\n",
        "\n",
        "**News Unverified!**\n",
        "\n",
        "The new scheme for Covid-19 swabs in Singapore is not provided in the given documents.</s>\n",
        "\n"
      ]
    },
    {
      "cell_type": "markdown",
      "metadata": {
        "id": "9KBjQMjujmaG"
      },
      "source": [
        "## Complicated News\n",
        "\n",
        "### Question 3: What are the key takeaways from the recent Singapore Airshow?\n",
        "\n",
        "#### Answer:\n",
        "\n",
        "**News Verified!**\n",
        "\n",
        "The key takeaways from the recent Singapore Airshow include building new homes in Paya Lebar and attracting top talent, as stated in Document[1739] and [926]. Additionally, the new Airbus can be more fuel-efficient and easily deployed onto alternative routes, as stated in Document[376].</s>\n",
        "\n",
        "References:\n",
        "\n",
        "- Document[376] : [SIA confirms order of 7 freight planes, 22 passenger aircraft engines as industry recovers ](https://www.straitstimes.com/singapore/sia-confirms-order-of-7-freight-planes-22-passenger-aircraft-engines-as-industry-recovers)\n",
        "- Document[926] : [Kranji Primary teachers go the extra mile to provide daily after-school programme ](https://www.straitstimes.com/singapore/parenting-education/kranji-primary-teachers-go-the-extra-mile-to-provide-daily-after-school-programme)\n",
        "- Document[1739] : [Morning Briefing: Top stories from The Straits Times on Aug 22 ](https://www.straitstimes.com/singapore/morning-briefing-top-stories-from-the-straits-times-on-aug-22-2022)"
      ]
    }
  ],
  "metadata": {
    "accelerator": "GPU",
    "colab": {
      "machine_shape": "hm",
      "provenance": [],
      "toc_visible": true
    },
    "kernelspec": {
      "display_name": "Python 3",
      "name": "python3"
    },
    "language_info": {
      "name": "python"
    },
    "widgets": {
      "application/vnd.jupyter.widget-state+json": {
        "0515bc23512b4d3085f4d85b0a2239d3": {
          "model_module": "@jupyter-widgets/controls",
          "model_module_version": "1.5.0",
          "model_name": "HTMLModel",
          "state": {
            "_dom_classes": [],
            "_model_module": "@jupyter-widgets/controls",
            "_model_module_version": "1.5.0",
            "_model_name": "HTMLModel",
            "_view_count": null,
            "_view_module": "@jupyter-widgets/controls",
            "_view_module_version": "1.5.0",
            "_view_name": "HTMLView",
            "description": "",
            "description_tooltip": null,
            "layout": "IPY_MODEL_a6d40b7d87264a8786fdc8ec7979314d",
            "placeholder": "​",
            "style": "IPY_MODEL_0ea53d1094b44103a7fb55513a4132f0",
            "value": " 6.93k/6.93k [00:00&lt;00:00, 187kB/s]"
          }
        },
        "0ea53d1094b44103a7fb55513a4132f0": {
          "model_module": "@jupyter-widgets/controls",
          "model_module_version": "1.5.0",
          "model_name": "DescriptionStyleModel",
          "state": {
            "_model_module": "@jupyter-widgets/controls",
            "_model_module_version": "1.5.0",
            "_model_name": "DescriptionStyleModel",
            "_view_count": null,
            "_view_module": "@jupyter-widgets/base",
            "_view_module_version": "1.2.0",
            "_view_name": "StyleView",
            "description_width": ""
          }
        },
        "20c0b1297c8d44a99b77ef2f198812b6": {
          "model_module": "@jupyter-widgets/controls",
          "model_module_version": "1.5.0",
          "model_name": "HTMLModel",
          "state": {
            "_dom_classes": [],
            "_model_module": "@jupyter-widgets/controls",
            "_model_module_version": "1.5.0",
            "_model_name": "HTMLModel",
            "_view_count": null,
            "_view_module": "@jupyter-widgets/controls",
            "_view_module_version": "1.5.0",
            "_view_name": "HTMLView",
            "description": "",
            "description_tooltip": null,
            "layout": "IPY_MODEL_b7e0f9e2e9ff4692aeb6f4d8adcd4f5f",
            "placeholder": "​",
            "style": "IPY_MODEL_7b51813932b04079837fbee178fd6740",
            "value": "Downloading builder script: 100%"
          }
        },
        "757ec783ba114b07a7c60c985f60b1ce": {
          "model_module": "@jupyter-widgets/controls",
          "model_module_version": "1.5.0",
          "model_name": "FloatProgressModel",
          "state": {
            "_dom_classes": [],
            "_model_module": "@jupyter-widgets/controls",
            "_model_module_version": "1.5.0",
            "_model_name": "FloatProgressModel",
            "_view_count": null,
            "_view_module": "@jupyter-widgets/controls",
            "_view_module_version": "1.5.0",
            "_view_name": "ProgressView",
            "bar_style": "success",
            "description": "",
            "description_tooltip": null,
            "layout": "IPY_MODEL_af01e37453104d73abd16b5f6c492d88",
            "max": 6927,
            "min": 0,
            "orientation": "horizontal",
            "style": "IPY_MODEL_8191e2198cdc4a3f81e4b5118cccc927",
            "value": 6927
          }
        },
        "7b51813932b04079837fbee178fd6740": {
          "model_module": "@jupyter-widgets/controls",
          "model_module_version": "1.5.0",
          "model_name": "DescriptionStyleModel",
          "state": {
            "_model_module": "@jupyter-widgets/controls",
            "_model_module_version": "1.5.0",
            "_model_name": "DescriptionStyleModel",
            "_view_count": null,
            "_view_module": "@jupyter-widgets/base",
            "_view_module_version": "1.2.0",
            "_view_name": "StyleView",
            "description_width": ""
          }
        },
        "8191e2198cdc4a3f81e4b5118cccc927": {
          "model_module": "@jupyter-widgets/controls",
          "model_module_version": "1.5.0",
          "model_name": "ProgressStyleModel",
          "state": {
            "_model_module": "@jupyter-widgets/controls",
            "_model_module_version": "1.5.0",
            "_model_name": "ProgressStyleModel",
            "_view_count": null,
            "_view_module": "@jupyter-widgets/base",
            "_view_module_version": "1.2.0",
            "_view_name": "StyleView",
            "bar_color": null,
            "description_width": ""
          }
        },
        "a6d40b7d87264a8786fdc8ec7979314d": {
          "model_module": "@jupyter-widgets/base",
          "model_module_version": "1.2.0",
          "model_name": "LayoutModel",
          "state": {
            "_model_module": "@jupyter-widgets/base",
            "_model_module_version": "1.2.0",
            "_model_name": "LayoutModel",
            "_view_count": null,
            "_view_module": "@jupyter-widgets/base",
            "_view_module_version": "1.2.0",
            "_view_name": "LayoutView",
            "align_content": null,
            "align_items": null,
            "align_self": null,
            "border": null,
            "bottom": null,
            "display": null,
            "flex": null,
            "flex_flow": null,
            "grid_area": null,
            "grid_auto_columns": null,
            "grid_auto_flow": null,
            "grid_auto_rows": null,
            "grid_column": null,
            "grid_gap": null,
            "grid_row": null,
            "grid_template_areas": null,
            "grid_template_columns": null,
            "grid_template_rows": null,
            "height": null,
            "justify_content": null,
            "justify_items": null,
            "left": null,
            "margin": null,
            "max_height": null,
            "max_width": null,
            "min_height": null,
            "min_width": null,
            "object_fit": null,
            "object_position": null,
            "order": null,
            "overflow": null,
            "overflow_x": null,
            "overflow_y": null,
            "padding": null,
            "right": null,
            "top": null,
            "visibility": null,
            "width": null
          }
        },
        "af01e37453104d73abd16b5f6c492d88": {
          "model_module": "@jupyter-widgets/base",
          "model_module_version": "1.2.0",
          "model_name": "LayoutModel",
          "state": {
            "_model_module": "@jupyter-widgets/base",
            "_model_module_version": "1.2.0",
            "_model_name": "LayoutModel",
            "_view_count": null,
            "_view_module": "@jupyter-widgets/base",
            "_view_module_version": "1.2.0",
            "_view_name": "LayoutView",
            "align_content": null,
            "align_items": null,
            "align_self": null,
            "border": null,
            "bottom": null,
            "display": null,
            "flex": null,
            "flex_flow": null,
            "grid_area": null,
            "grid_auto_columns": null,
            "grid_auto_flow": null,
            "grid_auto_rows": null,
            "grid_column": null,
            "grid_gap": null,
            "grid_row": null,
            "grid_template_areas": null,
            "grid_template_columns": null,
            "grid_template_rows": null,
            "height": null,
            "justify_content": null,
            "justify_items": null,
            "left": null,
            "margin": null,
            "max_height": null,
            "max_width": null,
            "min_height": null,
            "min_width": null,
            "object_fit": null,
            "object_position": null,
            "order": null,
            "overflow": null,
            "overflow_x": null,
            "overflow_y": null,
            "padding": null,
            "right": null,
            "top": null,
            "visibility": null,
            "width": null
          }
        },
        "b3f53adf0db5465d94b5773eeceacb32": {
          "model_module": "@jupyter-widgets/base",
          "model_module_version": "1.2.0",
          "model_name": "LayoutModel",
          "state": {
            "_model_module": "@jupyter-widgets/base",
            "_model_module_version": "1.2.0",
            "_model_name": "LayoutModel",
            "_view_count": null,
            "_view_module": "@jupyter-widgets/base",
            "_view_module_version": "1.2.0",
            "_view_name": "LayoutView",
            "align_content": null,
            "align_items": null,
            "align_self": null,
            "border": null,
            "bottom": null,
            "display": null,
            "flex": null,
            "flex_flow": null,
            "grid_area": null,
            "grid_auto_columns": null,
            "grid_auto_flow": null,
            "grid_auto_rows": null,
            "grid_column": null,
            "grid_gap": null,
            "grid_row": null,
            "grid_template_areas": null,
            "grid_template_columns": null,
            "grid_template_rows": null,
            "height": null,
            "justify_content": null,
            "justify_items": null,
            "left": null,
            "margin": null,
            "max_height": null,
            "max_width": null,
            "min_height": null,
            "min_width": null,
            "object_fit": null,
            "object_position": null,
            "order": null,
            "overflow": null,
            "overflow_x": null,
            "overflow_y": null,
            "padding": null,
            "right": null,
            "top": null,
            "visibility": null,
            "width": null
          }
        },
        "b5709791561d4f078c2fee7e768930db": {
          "model_module": "@jupyter-widgets/controls",
          "model_module_version": "1.5.0",
          "model_name": "HBoxModel",
          "state": {
            "_dom_classes": [],
            "_model_module": "@jupyter-widgets/controls",
            "_model_module_version": "1.5.0",
            "_model_name": "HBoxModel",
            "_view_count": null,
            "_view_module": "@jupyter-widgets/controls",
            "_view_module_version": "1.5.0",
            "_view_name": "HBoxView",
            "box_style": "",
            "children": [
              "IPY_MODEL_20c0b1297c8d44a99b77ef2f198812b6",
              "IPY_MODEL_757ec783ba114b07a7c60c985f60b1ce",
              "IPY_MODEL_0515bc23512b4d3085f4d85b0a2239d3"
            ],
            "layout": "IPY_MODEL_b3f53adf0db5465d94b5773eeceacb32"
          }
        },
        "b7e0f9e2e9ff4692aeb6f4d8adcd4f5f": {
          "model_module": "@jupyter-widgets/base",
          "model_module_version": "1.2.0",
          "model_name": "LayoutModel",
          "state": {
            "_model_module": "@jupyter-widgets/base",
            "_model_module_version": "1.2.0",
            "_model_name": "LayoutModel",
            "_view_count": null,
            "_view_module": "@jupyter-widgets/base",
            "_view_module_version": "1.2.0",
            "_view_name": "LayoutView",
            "align_content": null,
            "align_items": null,
            "align_self": null,
            "border": null,
            "bottom": null,
            "display": null,
            "flex": null,
            "flex_flow": null,
            "grid_area": null,
            "grid_auto_columns": null,
            "grid_auto_flow": null,
            "grid_auto_rows": null,
            "grid_column": null,
            "grid_gap": null,
            "grid_row": null,
            "grid_template_areas": null,
            "grid_template_columns": null,
            "grid_template_rows": null,
            "height": null,
            "justify_content": null,
            "justify_items": null,
            "left": null,
            "margin": null,
            "max_height": null,
            "max_width": null,
            "min_height": null,
            "min_width": null,
            "object_fit": null,
            "object_position": null,
            "order": null,
            "overflow": null,
            "overflow_x": null,
            "overflow_y": null,
            "padding": null,
            "right": null,
            "top": null,
            "visibility": null,
            "width": null
          }
        }
      }
    }
  },
  "nbformat": 4,
  "nbformat_minor": 0
}
